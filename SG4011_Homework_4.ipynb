{
 "cells": [
  {
   "cell_type": "markdown",
   "metadata": {
    "id": "mQS97sn3XlW0"
   },
   "source": [
    "# Homework 4\n",
    "Nikki Gerjarusak"
   ]
  },
  {
   "cell_type": "code",
   "execution_count": 1,
   "metadata": {
    "colab": {
     "base_uri": "https://localhost:8080/"
    },
    "id": "jid4JeFsXX7J",
    "outputId": "bbca5ba0-fbcd-405b-9ac4-20d8b0af00c9"
   },
   "outputs": [
    {
     "name": "stdout",
     "output_type": "stream",
     "text": [
      "Requirement already satisfied: aimodelshare in /usr/local/lib/python3.7/dist-packages (0.0.59)\n",
      "Requirement already satisfied: PyJWT==2.2.0 in /usr/local/lib/python3.7/dist-packages (from aimodelshare) (2.2.0)\n",
      "Requirement already satisfied: urllib3==1.25.11 in /usr/local/lib/python3.7/dist-packages (from aimodelshare) (1.25.11)\n",
      "Requirement already satisfied: Pympler==0.9 in /usr/local/lib/python3.7/dist-packages (from aimodelshare) (0.9)\n",
      "Requirement already satisfied: wget==3.2 in /usr/local/lib/python3.7/dist-packages (from aimodelshare) (3.2)\n",
      "Requirement already satisfied: shortuuid>=1.0.8 in /usr/local/lib/python3.7/dist-packages (from aimodelshare) (1.0.8)\n",
      "Requirement already satisfied: docker==5.0.0 in /usr/local/lib/python3.7/dist-packages (from aimodelshare) (5.0.0)\n",
      "Requirement already satisfied: onnxmltools>=1.6.1 in /usr/local/lib/python3.7/dist-packages (from aimodelshare) (1.10.0)\n",
      "Requirement already satisfied: xgboost>=0.90 in /usr/local/lib/python3.7/dist-packages (from aimodelshare) (0.90)\n",
      "Requirement already satisfied: keras2onnx>=1.7.0 in /usr/local/lib/python3.7/dist-packages (from aimodelshare) (1.7.0)\n",
      "Requirement already satisfied: torch>=1.8.1 in /usr/local/lib/python3.7/dist-packages (from aimodelshare) (1.10.0+cu111)\n",
      "Requirement already satisfied: tf2onnx in /usr/local/lib/python3.7/dist-packages (from aimodelshare) (1.9.3)\n",
      "Requirement already satisfied: astunparse==1.6.3 in /usr/local/lib/python3.7/dist-packages (from aimodelshare) (1.6.3)\n",
      "Requirement already satisfied: onnxconverter-common>=1.7.0 in /usr/local/lib/python3.7/dist-packages (from aimodelshare) (1.9.0)\n",
      "Requirement already satisfied: onnxruntime>=1.7.0 in /usr/local/lib/python3.7/dist-packages (from aimodelshare) (1.10.0)\n",
      "Requirement already satisfied: seaborn>=0.11.2 in /usr/local/lib/python3.7/dist-packages (from aimodelshare) (0.11.2)\n",
      "Requirement already satisfied: skl2onnx>=1.8.0 in /usr/local/lib/python3.7/dist-packages (from aimodelshare) (1.10.3)\n",
      "Requirement already satisfied: boto3==1.18.2 in /usr/local/lib/python3.7/dist-packages (from aimodelshare) (1.18.2)\n",
      "Requirement already satisfied: onnx>=1.9.0 in /usr/local/lib/python3.7/dist-packages (from aimodelshare) (1.10.2)\n",
      "Requirement already satisfied: botocore==1.21.2 in /usr/local/lib/python3.7/dist-packages (from aimodelshare) (1.21.2)\n",
      "Requirement already satisfied: tensorflow>=2.5.0 in /usr/local/lib/python3.7/dist-packages (from aimodelshare) (2.7.0)\n",
      "Requirement already satisfied: scikit-learn==0.24.2 in /usr/local/lib/python3.7/dist-packages (from aimodelshare) (0.24.2)\n",
      "Requirement already satisfied: wheel<1.0,>=0.23.0 in /usr/local/lib/python3.7/dist-packages (from astunparse==1.6.3->aimodelshare) (0.37.0)\n",
      "Requirement already satisfied: six<2.0,>=1.6.1 in /usr/local/lib/python3.7/dist-packages (from astunparse==1.6.3->aimodelshare) (1.15.0)\n",
      "Requirement already satisfied: jmespath<1.0.0,>=0.7.1 in /usr/local/lib/python3.7/dist-packages (from boto3==1.18.2->aimodelshare) (0.10.0)\n",
      "Requirement already satisfied: s3transfer<0.6.0,>=0.5.0 in /usr/local/lib/python3.7/dist-packages (from boto3==1.18.2->aimodelshare) (0.5.0)\n",
      "Requirement already satisfied: python-dateutil<3.0.0,>=2.1 in /usr/local/lib/python3.7/dist-packages (from botocore==1.21.2->aimodelshare) (2.8.2)\n",
      "Requirement already satisfied: requests!=2.18.0,>=2.14.2 in /usr/local/lib/python3.7/dist-packages (from docker==5.0.0->aimodelshare) (2.23.0)\n",
      "Requirement already satisfied: websocket-client>=0.32.0 in /usr/local/lib/python3.7/dist-packages (from docker==5.0.0->aimodelshare) (1.2.3)\n",
      "Requirement already satisfied: threadpoolctl>=2.0.0 in /usr/local/lib/python3.7/dist-packages (from scikit-learn==0.24.2->aimodelshare) (3.0.0)\n",
      "Requirement already satisfied: numpy>=1.13.3 in /usr/local/lib/python3.7/dist-packages (from scikit-learn==0.24.2->aimodelshare) (1.19.5)\n",
      "Requirement already satisfied: scipy>=0.19.1 in /usr/local/lib/python3.7/dist-packages (from scikit-learn==0.24.2->aimodelshare) (1.4.1)\n",
      "Requirement already satisfied: joblib>=0.11 in /usr/local/lib/python3.7/dist-packages (from scikit-learn==0.24.2->aimodelshare) (1.1.0)\n",
      "Requirement already satisfied: protobuf in /usr/local/lib/python3.7/dist-packages (from keras2onnx>=1.7.0->aimodelshare) (3.17.3)\n",
      "Requirement already satisfied: fire in /usr/local/lib/python3.7/dist-packages (from keras2onnx>=1.7.0->aimodelshare) (0.4.0)\n",
      "Requirement already satisfied: typing-extensions>=3.6.2.1 in /usr/local/lib/python3.7/dist-packages (from onnx>=1.9.0->aimodelshare) (3.10.0.2)\n",
      "Requirement already satisfied: flatbuffers in /usr/local/lib/python3.7/dist-packages (from onnxruntime>=1.7.0->aimodelshare) (1.12)\n",
      "Requirement already satisfied: certifi>=2017.4.17 in /usr/local/lib/python3.7/dist-packages (from requests!=2.18.0,>=2.14.2->docker==5.0.0->aimodelshare) (2021.10.8)\n",
      "Requirement already satisfied: idna<3,>=2.5 in /usr/local/lib/python3.7/dist-packages (from requests!=2.18.0,>=2.14.2->docker==5.0.0->aimodelshare) (2.10)\n",
      "Requirement already satisfied: chardet<4,>=3.0.2 in /usr/local/lib/python3.7/dist-packages (from requests!=2.18.0,>=2.14.2->docker==5.0.0->aimodelshare) (3.0.4)\n",
      "Requirement already satisfied: matplotlib>=2.2 in /usr/local/lib/python3.7/dist-packages (from seaborn>=0.11.2->aimodelshare) (3.2.2)\n",
      "Requirement already satisfied: pandas>=0.23 in /usr/local/lib/python3.7/dist-packages (from seaborn>=0.11.2->aimodelshare) (1.1.5)\n",
      "Requirement already satisfied: cycler>=0.10 in /usr/local/lib/python3.7/dist-packages (from matplotlib>=2.2->seaborn>=0.11.2->aimodelshare) (0.11.0)\n",
      "Requirement already satisfied: kiwisolver>=1.0.1 in /usr/local/lib/python3.7/dist-packages (from matplotlib>=2.2->seaborn>=0.11.2->aimodelshare) (1.3.2)\n",
      "Requirement already satisfied: pyparsing!=2.0.4,!=2.1.2,!=2.1.6,>=2.0.1 in /usr/local/lib/python3.7/dist-packages (from matplotlib>=2.2->seaborn>=0.11.2->aimodelshare) (3.0.6)\n",
      "Requirement already satisfied: pytz>=2017.2 in /usr/local/lib/python3.7/dist-packages (from pandas>=0.23->seaborn>=0.11.2->aimodelshare) (2018.9)\n",
      "Requirement already satisfied: tensorflow-io-gcs-filesystem>=0.21.0 in /usr/local/lib/python3.7/dist-packages (from tensorflow>=2.5.0->aimodelshare) (0.22.0)\n",
      "Requirement already satisfied: tensorboard~=2.6 in /usr/local/lib/python3.7/dist-packages (from tensorflow>=2.5.0->aimodelshare) (2.7.0)\n",
      "Requirement already satisfied: absl-py>=0.4.0 in /usr/local/lib/python3.7/dist-packages (from tensorflow>=2.5.0->aimodelshare) (0.12.0)\n",
      "Requirement already satisfied: termcolor>=1.1.0 in /usr/local/lib/python3.7/dist-packages (from tensorflow>=2.5.0->aimodelshare) (1.1.0)\n",
      "Requirement already satisfied: google-pasta>=0.1.1 in /usr/local/lib/python3.7/dist-packages (from tensorflow>=2.5.0->aimodelshare) (0.2.0)\n",
      "Requirement already satisfied: keras-preprocessing>=1.1.1 in /usr/local/lib/python3.7/dist-packages (from tensorflow>=2.5.0->aimodelshare) (1.1.2)\n",
      "Requirement already satisfied: libclang>=9.0.1 in /usr/local/lib/python3.7/dist-packages (from tensorflow>=2.5.0->aimodelshare) (12.0.0)\n",
      "Requirement already satisfied: tensorflow-estimator<2.8,~=2.7.0rc0 in /usr/local/lib/python3.7/dist-packages (from tensorflow>=2.5.0->aimodelshare) (2.7.0)\n",
      "Requirement already satisfied: keras<2.8,>=2.7.0rc0 in /usr/local/lib/python3.7/dist-packages (from tensorflow>=2.5.0->aimodelshare) (2.7.0)\n",
      "Requirement already satisfied: h5py>=2.9.0 in /usr/local/lib/python3.7/dist-packages (from tensorflow>=2.5.0->aimodelshare) (3.1.0)\n",
      "Requirement already satisfied: opt-einsum>=2.3.2 in /usr/local/lib/python3.7/dist-packages (from tensorflow>=2.5.0->aimodelshare) (3.3.0)\n",
      "Requirement already satisfied: gast<0.5.0,>=0.2.1 in /usr/local/lib/python3.7/dist-packages (from tensorflow>=2.5.0->aimodelshare) (0.4.0)\n",
      "Requirement already satisfied: grpcio<2.0,>=1.24.3 in /usr/local/lib/python3.7/dist-packages (from tensorflow>=2.5.0->aimodelshare) (1.42.0)\n",
      "Requirement already satisfied: wrapt>=1.11.0 in /usr/local/lib/python3.7/dist-packages (from tensorflow>=2.5.0->aimodelshare) (1.13.3)\n",
      "Requirement already satisfied: cached-property in /usr/local/lib/python3.7/dist-packages (from h5py>=2.9.0->tensorflow>=2.5.0->aimodelshare) (1.5.2)\n",
      "Requirement already satisfied: google-auth-oauthlib<0.5,>=0.4.1 in /usr/local/lib/python3.7/dist-packages (from tensorboard~=2.6->tensorflow>=2.5.0->aimodelshare) (0.4.6)\n",
      "Requirement already satisfied: tensorboard-data-server<0.7.0,>=0.6.0 in /usr/local/lib/python3.7/dist-packages (from tensorboard~=2.6->tensorflow>=2.5.0->aimodelshare) (0.6.1)\n",
      "Requirement already satisfied: markdown>=2.6.8 in /usr/local/lib/python3.7/dist-packages (from tensorboard~=2.6->tensorflow>=2.5.0->aimodelshare) (3.3.6)\n",
      "Requirement already satisfied: werkzeug>=0.11.15 in /usr/local/lib/python3.7/dist-packages (from tensorboard~=2.6->tensorflow>=2.5.0->aimodelshare) (1.0.1)\n",
      "Requirement already satisfied: setuptools>=41.0.0 in /usr/local/lib/python3.7/dist-packages (from tensorboard~=2.6->tensorflow>=2.5.0->aimodelshare) (57.4.0)\n",
      "Requirement already satisfied: google-auth<3,>=1.6.3 in /usr/local/lib/python3.7/dist-packages (from tensorboard~=2.6->tensorflow>=2.5.0->aimodelshare) (1.35.0)\n",
      "Requirement already satisfied: tensorboard-plugin-wit>=1.6.0 in /usr/local/lib/python3.7/dist-packages (from tensorboard~=2.6->tensorflow>=2.5.0->aimodelshare) (1.8.0)\n",
      "Requirement already satisfied: cachetools<5.0,>=2.0.0 in /usr/local/lib/python3.7/dist-packages (from google-auth<3,>=1.6.3->tensorboard~=2.6->tensorflow>=2.5.0->aimodelshare) (4.2.4)\n",
      "Requirement already satisfied: pyasn1-modules>=0.2.1 in /usr/local/lib/python3.7/dist-packages (from google-auth<3,>=1.6.3->tensorboard~=2.6->tensorflow>=2.5.0->aimodelshare) (0.2.8)\n",
      "Requirement already satisfied: rsa<5,>=3.1.4 in /usr/local/lib/python3.7/dist-packages (from google-auth<3,>=1.6.3->tensorboard~=2.6->tensorflow>=2.5.0->aimodelshare) (4.8)\n",
      "Requirement already satisfied: requests-oauthlib>=0.7.0 in /usr/local/lib/python3.7/dist-packages (from google-auth-oauthlib<0.5,>=0.4.1->tensorboard~=2.6->tensorflow>=2.5.0->aimodelshare) (1.3.0)\n",
      "Requirement already satisfied: importlib-metadata>=4.4 in /usr/local/lib/python3.7/dist-packages (from markdown>=2.6.8->tensorboard~=2.6->tensorflow>=2.5.0->aimodelshare) (4.8.2)\n",
      "Requirement already satisfied: zipp>=0.5 in /usr/local/lib/python3.7/dist-packages (from importlib-metadata>=4.4->markdown>=2.6.8->tensorboard~=2.6->tensorflow>=2.5.0->aimodelshare) (3.6.0)\n",
      "Requirement already satisfied: pyasn1<0.5.0,>=0.4.6 in /usr/local/lib/python3.7/dist-packages (from pyasn1-modules>=0.2.1->google-auth<3,>=1.6.3->tensorboard~=2.6->tensorflow>=2.5.0->aimodelshare) (0.4.8)\n",
      "Requirement already satisfied: oauthlib>=3.0.0 in /usr/local/lib/python3.7/dist-packages (from requests-oauthlib>=0.7.0->google-auth-oauthlib<0.5,>=0.4.1->tensorboard~=2.6->tensorflow>=2.5.0->aimodelshare) (3.1.1)\n"
     ]
    }
   ],
   "source": [
    "!pip install aimodelshare"
   ]
  },
  {
   "cell_type": "markdown",
   "metadata": {
    "id": "cj9eF-GJXpaU"
   },
   "source": [
    "## Part 1: Build a classification model using text data\n",
    "\n"
   ]
  },
  {
   "cell_type": "markdown",
   "metadata": {
    "id": "FoRn625mYCQP"
   },
   "source": [
    "### Import the text data"
   ]
  },
  {
   "cell_type": "code",
   "execution_count": 2,
   "metadata": {
    "colab": {
     "base_uri": "https://localhost:8080/"
    },
    "id": "0xTdg-yhXSv4",
    "outputId": "70812b55-7ef1-413d-b007-7edcdea22f4f"
   },
   "outputs": [
    {
     "name": "stdout",
     "output_type": "stream",
     "text": [
      "Downloading [==============================================>  ]\n",
      "\n",
      "Data downloaded successfully.\n",
      "\n",
      "Preparing downloaded files for use...\n",
      "\n",
      "Success! Your Quick Start materials have been downloaded. \n",
      "You are now ready to run the tutorial.\n"
     ]
    }
   ],
   "source": [
    "## load dataset \n",
    "import aimodelshare as ai\n",
    "X_train, X_test, y_train_labels, y_test_labels, example_data, lstm_model, lstm_model2 = ai.import_quickstart_data(\"clickbait\")"
   ]
  },
  {
   "cell_type": "code",
   "execution_count": 3,
   "metadata": {
    "colab": {
     "base_uri": "https://localhost:8080/"
    },
    "id": "XJUok_BTYLbF",
    "outputId": "a2325eb7-61b8-48c0-eca8-89f76c10c602"
   },
   "outputs": [
    {
     "name": "stdout",
     "output_type": "stream",
     "text": [
      "(24979,)\n"
     ]
    }
   ],
   "source": [
    "print(X_train.shape)"
   ]
  },
  {
   "cell_type": "code",
   "execution_count": 4,
   "metadata": {
    "colab": {
     "base_uri": "https://localhost:8080/"
    },
    "id": "7pOjiOfHYvnb",
    "outputId": "b84527bf-4eb3-4b6a-9621-5b68d0edee62"
   },
   "outputs": [
    {
     "name": "stdout",
     "output_type": "stream",
     "text": [
      "0           MyBook Disk Drive Handles Lots of Easy Backups\n",
      "1                           CIT Posts Eighth Loss in a Row\n",
      "2        Candy Carson Singing The \"National Anthem\" Is ...\n",
      "3        Why You Need To Stop What You're Doing And Dat...\n",
      "4        27 Times Adele Proved She's Actually The Reale...\n",
      "                               ...                        \n",
      "24974                    What Does Your Hair Say About You\n",
      "24975    At least 200 New Orleans police officers quit ...\n",
      "24976    38 Hilarious Vines We Couldn't Stop Watching I...\n",
      "24977    Political Swing at Tennis Player Sours Dubai T...\n",
      "24978    United States military death toll in Iraq reac...\n",
      "Name: headline, Length: 24979, dtype: object\n"
     ]
    }
   ],
   "source": [
    "print(X_train)"
   ]
  },
  {
   "cell_type": "code",
   "execution_count": 5,
   "metadata": {
    "colab": {
     "base_uri": "https://localhost:8080/"
    },
    "id": "pxn3zIPOb-l6",
    "outputId": "106df1cd-756e-402b-9bc0-f0fda77828e4"
   },
   "outputs": [
    {
     "name": "stdout",
     "output_type": "stream",
     "text": [
      "13620    not clickbait\n",
      "15394    not clickbait\n",
      "2796         clickbait\n",
      "1673         clickbait\n",
      "13020        clickbait\n",
      "             ...      \n",
      "11764        clickbait\n",
      "7807     not clickbait\n",
      "12581        clickbait\n",
      "8444     not clickbait\n",
      "15385    not clickbait\n",
      "Name: label, Length: 24979, dtype: object\n"
     ]
    }
   ],
   "source": [
    "print(y_train_labels)"
   ]
  },
  {
   "cell_type": "markdown",
   "metadata": {
    "id": "D0ucLdkpX7Iq"
   },
   "source": [
    "### Vectorize the clickbait headline column into an X matrix"
   ]
  },
  {
   "cell_type": "code",
   "execution_count": 6,
   "metadata": {
    "colab": {
     "base_uri": "https://localhost:8080/"
    },
    "id": "5ZcQPFakX3rp",
    "outputId": "a5dfceaf-01cc-4845-c0fd-f5e2b077c968"
   },
   "outputs": [
    {
     "name": "stdout",
     "output_type": "stream",
     "text": [
      "X with min_df: <24979x20332 sparse matrix of type '<class 'numpy.int64'>'\n",
      "\twith 220242 stored elements in Compressed Sparse Row format>\n"
     ]
    }
   ],
   "source": [
    "import numpy as np\n",
    "from sklearn.feature_extraction.text import CountVectorizer\n",
    "\n",
    "vect = CountVectorizer().fit(X_train)\n",
    "X = vect.transform(X_train)\n",
    "X.toarray()\n",
    "X = X\n",
    "y = y_train_labels\n",
    "\n",
    "print(\"X with min_df: {}\".format(repr(X)))"
   ]
  },
  {
   "cell_type": "code",
   "execution_count": 7,
   "metadata": {
    "colab": {
     "base_uri": "https://localhost:8080/"
    },
    "id": "E5-eQeAnzszT",
    "outputId": "460501d4-66ce-4851-b2fc-a3a801000982"
   },
   "outputs": [
    {
     "name": "stdout",
     "output_type": "stream",
     "text": [
      "(18734, 20332)\n",
      "(18734,)\n",
      "(6245, 20332)\n",
      "(6245,)\n"
     ]
    }
   ],
   "source": [
    "## set up training and test data\n",
    "from sklearn.model_selection import train_test_split\n",
    "\n",
    "X_train, X_test, y_train, y_test = train_test_split(X, y, random_state=42)\n",
    "\n",
    "## see shape \n",
    "print(X_train.shape)\n",
    "print(y_train.shape)\n",
    "print(X_test.shape)\n",
    "print(y_test.shape)"
   ]
  },
  {
   "cell_type": "markdown",
   "metadata": {
    "id": "6ucCaEjx0Ltm"
   },
   "source": [
    "### Logistic Regression "
   ]
  },
  {
   "cell_type": "code",
   "execution_count": 8,
   "metadata": {
    "colab": {
     "base_uri": "https://localhost:8080/"
    },
    "id": "NlVDOJD9zupV",
    "outputId": "21f09f5f-f247-490a-b1e4-6b2ce53cf01b"
   },
   "outputs": [
    {
     "name": "stdout",
     "output_type": "stream",
     "text": [
      "Best cross-validation score: 0.9959219\n",
      "Best parameters:  {'C': 10}\n"
     ]
    }
   ],
   "source": [
    "from sklearn.preprocessing import StandardScaler\n",
    "from sklearn.model_selection import cross_val_score\n",
    "from sklearn.linear_model import LogisticRegression\n",
    "from sklearn.model_selection import GridSearchCV\n",
    "\n",
    "param_grid = {'C': [0.001, 0.01, 0.1, 1, 10]}\n",
    "grid = GridSearchCV(LogisticRegression(max_iter=1000), param_grid, cv=10, scoring=\"roc_auc\") ## AUC scoring\n",
    "grid.fit(X_train, y_train)\n",
    "print(\"Best cross-validation score: {:.7f}\".format(grid.best_score_))\n",
    "print(\"Best parameters: \", grid.best_params_)"
   ]
  },
  {
   "cell_type": "code",
   "execution_count": 9,
   "metadata": {
    "colab": {
     "base_uri": "https://localhost:8080/"
    },
    "id": "X1d_I24F0ni_",
    "outputId": "c6d7cee7-3775-487e-8d4c-8fa154c3a202"
   },
   "outputs": [
    {
     "name": "stdout",
     "output_type": "stream",
     "text": [
      "Best cross-validation score: 0.9959219\n",
      "Mean cross-validation accuracy for Training Data: 0.9956822\n",
      "Mean cross-validation accuracy for Testing Data: 0.9913297\n",
      "Test score: 0.9949\n"
     ]
    }
   ],
   "source": [
    "grid = GridSearchCV(LogisticRegression(max_iter=1000), param_grid, cv=10, scoring=\"roc_auc\")\n",
    "grid.fit(X_train, y_train)\n",
    "print(\"Best cross-validation score: {:.7f}\".format(grid.best_score_))\n",
    "\n",
    "log1= LogisticRegression(max_iter=1000, C=grid.best_params_['C']).fit(X_train, y_train)\n",
    "scores = cross_val_score(LogisticRegression(max_iter=1000, C=grid.best_params_['C']), X_train, y_train, cv=5,scoring=\"roc_auc\")\n",
    "print(\"Mean cross-validation accuracy for Training Data: {:.7f}\".format(np.mean(scores)))\n",
    "\n",
    "log2=LogisticRegression(max_iter=1000, C=grid.best_params_['C']).fit(X_test, y_test)\n",
    "scores = cross_val_score(LogisticRegression(max_iter=1000, C=grid.best_params_['C']), X_test, y_test, cv=5,scoring=\"roc_auc\")\n",
    "print(\"Mean cross-validation accuracy for Testing Data: {:.7f}\".format(np.mean(scores)))\n",
    "print(\"Test score: {:.4f}\".format(grid.score(X_test, y_test)))"
   ]
  },
  {
   "cell_type": "markdown",
   "metadata": {
    "id": "yqn5cpCn3oOz"
   },
   "source": [
    "### Investigation model coefficients"
   ]
  },
  {
   "cell_type": "code",
   "execution_count": 10,
   "metadata": {
    "id": "IRWIfeB60--y"
   },
   "outputs": [],
   "source": [
    "import matplotlib as mpl\n",
    "import matplotlib.pyplot as plt\n",
    "%matplotlib inline \n",
    "import seaborn as sns; sns.set()\n",
    "\n",
    "## from class notebook\n",
    "def visualize_coefficients(coefficients, feature_names, n_top_features=25):\n",
    "    coefficients = coefficients.squeeze()\n",
    "    if coefficients.ndim > 1:\n",
    "        # this is not a row or column vector\n",
    "        raise ValueError(\"coeffients must be 1d array or column vector, got\"\n",
    "                         \" shape {}\".format(coefficients.shape))\n",
    "    coefficients = coefficients.ravel()\n",
    "\n",
    "    if len(coefficients) != len(feature_names):\n",
    "        raise ValueError(\"Number of coefficients {} doesn't match number of\"\n",
    "                         \"feature names {}.\".format(len(coefficients),\n",
    "                                                    len(feature_names)))\n",
    "    ## get coefficients with large absolute values\n",
    "    coef = coefficients.ravel()\n",
    "    positive_coefficients = np.argsort(coef)[-n_top_features:]\n",
    "    negative_coefficients = np.argsort(coef)[:n_top_features]\n",
    "    interesting_coefficients = np.hstack([negative_coefficients,\n",
    "                                          positive_coefficients])\n",
    "    ## plot them\n",
    "    plt.figure(figsize=(15, 5))\n",
    "    colors = ['#ff2020' if c < 0 else '#0000aa'\n",
    "              for c in coef[interesting_coefficients]]\n",
    "    plt.bar(np.arange(2 * n_top_features), coef[interesting_coefficients],\n",
    "            color=colors)\n",
    "    feature_names = np.array(feature_names)\n",
    "    plt.subplots_adjust(bottom=0.3)\n",
    "    plt.xticks(np.arange(1, 1 + 2 * n_top_features),\n",
    "               feature_names[interesting_coefficients], rotation=60,\n",
    "               ha=\"right\")\n",
    "    plt.ylabel(\"Coefficient magnitude\")\n",
    "    plt.xlabel(\"Feature\")"
   ]
  },
  {
   "cell_type": "code",
   "execution_count": 11,
   "metadata": {
    "colab": {
     "base_uri": "https://localhost:8080/",
     "height": 328
    },
    "id": "yYIaXMAr39S2",
    "outputId": "52f8b012-a20e-4359-94eb-f8b09b5ac57c"
   },
   "outputs": [
    {
     "data": {
      "image/png": "[encoded data removed]",
      "text/plain": [
       "<Figure size 1080x360 with 1 Axes>"
      ]
     },
     "metadata": {},
     "output_type": "display_data"
    }
   ],
   "source": [
    "coefs = LogisticRegression(C=1, max_iter=1000).fit(X_train,y_train).coef_ ## C = 1 best parameter \n",
    "feature_names = vect.get_feature_names()\n",
    "visualize_coefficients(coefs, feature_names, n_top_features=15)"
   ]
  },
  {
   "cell_type": "markdown",
   "metadata": {
    "id": "SpTYhKHC4TIM"
   },
   "source": [
    "### Tokenization 1"
   ]
  },
  {
   "cell_type": "code",
   "execution_count": 12,
   "metadata": {
    "colab": {
     "base_uri": "https://localhost:8080/"
    },
    "id": "0kRqbU2F4VpR",
    "outputId": "85e39d3d-68cb-4fd0-87cb-c19e0f0fbc7b"
   },
   "outputs": [
    {
     "name": "stdout",
     "output_type": "stream",
     "text": [
      "Requirement already satisfied: pyprind in /usr/local/lib/python3.7/dist-packages (2.11.3)\n",
      "Requirement already satisfied: nltk in /usr/local/lib/python3.7/dist-packages (3.2.5)\n",
      "Requirement already satisfied: six in /usr/local/lib/python3.7/dist-packages (from nltk) (1.15.0)\n"
     ]
    }
   ],
   "source": [
    "! pip install pyprind\n",
    "! pip install nltk"
   ]
  },
  {
   "cell_type": "code",
   "execution_count": 18,
   "metadata": {
    "colab": {
     "base_uri": "https://localhost:8080/"
    },
    "id": "N7tTorWx5Q0j",
    "outputId": "9631b70a-6321-4fc1-d3a5-a90e96d9f3a9"
   },
   "outputs": [
    {
     "name": "stdout",
     "output_type": "stream",
     "text": [
      "Downloading [==============================================>  ]\n",
      "\n",
      "Data downloaded successfully.\n",
      "\n",
      "Preparing downloaded files for use...\n",
      "\n",
      "Success! Your Quick Start materials have been downloaded. \n",
      "You are now ready to run the tutorial.\n"
     ]
    }
   ],
   "source": [
    "import aimodelshare as ai\n",
    "X_train, X_test, y_train_labels, y_test_labels, example_data, lstm_model, lstm_model2 = ai.import_quickstart_data(\"clickbait\")"
   ]
  },
  {
   "cell_type": "code",
   "execution_count": 19,
   "metadata": {
    "colab": {
     "base_uri": "https://localhost:8080/"
    },
    "id": "7yFYXkPJ4wyu",
    "outputId": "3496dfc7-212f-4942-c4b2-79493bdd9d40"
   },
   "outputs": [
    {
     "name": "stdout",
     "output_type": "stream",
     "text": [
      "Best cross-validation score: 0.9741\n",
      "Best parameters:\n",
      "{'C': 10}\n",
      "Test set score: 0.9718\n"
     ]
    }
   ],
   "source": [
    "from sklearn.feature_extraction.text import TfidfVectorizer, TfidfTransformer\n",
    "\n",
    "text_train = X_train\n",
    "vect_1 = TfidfVectorizer(ngram_range=(1,3) ,min_df=2, norm=None).fit(text_train)\n",
    "X = vect_1.transform(text_train)\n",
    "\n",
    "X_train, X_test, y_train, y_test = train_test_split(X, y, random_state=42)\n",
    "\n",
    "param_grid = {'C': [0.001, 0.01, 0.1, 1, 10, 100]}\n",
    "grid = GridSearchCV(LogisticRegression(max_iter=1000),param_grid, cv=10)\n",
    "grid.fit(X_train, y_train)\n",
    "print(\"Best cross-validation score: {:.4f}\".format(grid.best_score_))\n",
    "print(\"Best parameters:\\n{}\".format(grid.best_params_))\n",
    "print(\"Test set score: {:.4f}\".format(grid.score(X_test, y_test)))"
   ]
  },
  {
   "cell_type": "code",
   "execution_count": 15,
   "metadata": {
    "colab": {
     "base_uri": "https://localhost:8080/",
     "height": 327
    },
    "id": "S9XUbRvV5gOs",
    "outputId": "f8fb16af-edb4-47ae-fd3c-9cc22b1bc128"
   },
   "outputs": [
    {
     "data": {
      "image/png": "[encoded data removed]",
      "text/plain": [
       "<Figure size 1080x360 with 1 Axes>"
      ]
     },
     "metadata": {},
     "output_type": "display_data"
    }
   ],
   "source": [
    "## visualize \n",
    "coef_1 = LogisticRegression(C=0.1,max_iter=1000).fit(X_train,y_train).coef_ ## C = 0.1\n",
    "feature_names_1 = vect_1.get_feature_names()\n",
    "visualize_coefficients(coef_1, feature_names_1, n_top_features=15)"
   ]
  },
  {
   "cell_type": "markdown",
   "metadata": {
    "id": "s0vLnWQG5v-H"
   },
   "source": [
    "### Tokenization 2"
   ]
  },
  {
   "cell_type": "code",
   "execution_count": 20,
   "metadata": {
    "colab": {
     "base_uri": "https://localhost:8080/"
    },
    "id": "QhXA8XET5xrE",
    "outputId": "35bed8fb-90ed-4802-91ef-86d3546b1e54"
   },
   "outputs": [
    {
     "name": "stdout",
     "output_type": "stream",
     "text": [
      "Best cross-validation score: 0.97171\n",
      "Best parameters:  {'C': 10}\n",
      "Test set score: 0.96910\n"
     ]
    }
   ],
   "source": [
    "vect_2 = CountVectorizer(min_df=5, ngram_range=(1, 5)).fit(text_train)\n",
    "X = vect_2.transform(text_train)\n",
    "\n",
    "X_train, X_test, y_train, y_test = train_test_split(X, y, random_state=42)\n",
    "\n",
    "grid_1 = GridSearchCV(LogisticRegression(max_iter=1000), param_grid, cv=10)\n",
    "grid_1.fit(X_train, y_train)\n",
    "print(\"Best cross-validation score: {:.5f}\".format(grid_1.best_score_))\n",
    "print(\"Best parameters: \", grid_1.best_params_)\n",
    "print(\"Test set score: {:.5f}\".format(grid_1.score(X_test, y_test)))"
   ]
  },
  {
   "cell_type": "code",
   "execution_count": 21,
   "metadata": {
    "colab": {
     "base_uri": "https://localhost:8080/",
     "height": 327
    },
    "id": "I3epfTy56vc-",
    "outputId": "21809828-1b7d-454c-c6c5-5dbe96f7efa3"
   },
   "outputs": [
    {
     "data": {
      "image/png": "[encoded data removed]",
      "text/plain": [
       "<Figure size 1080x360 with 1 Axes>"
      ]
     },
     "metadata": {},
     "output_type": "display_data"
    }
   ],
   "source": [
    "coef_2 = LogisticRegression(C=10, max_iter=1000).fit(X_train,y_train).coef_ ## C = 10\n",
    "feature_names_2 = vect_2.get_feature_names()\n",
    "visualize_coefficients(coef_2, feature_names_2, n_top_features=15)"
   ]
  },
  {
   "cell_type": "markdown",
   "metadata": {
    "id": "vzOqdLwa68tr"
   },
   "source": [
    "### Tokenization 3"
   ]
  },
  {
   "cell_type": "code",
   "execution_count": 22,
   "metadata": {
    "colab": {
     "base_uri": "https://localhost:8080/"
    },
    "id": "jP5-6R2X6_nV",
    "outputId": "18d2fb33-4d09-49b0-d240-60ff5ab4b9eb"
   },
   "outputs": [
    {
     "name": "stdout",
     "output_type": "stream",
     "text": [
      "Best cross-validation score: 0.95409\n",
      "Best parameters:  {'C': 0.01}\n",
      "Test set score: 0.95164\n"
     ]
    }
   ],
   "source": [
    "from sklearn.feature_extraction.text import ENGLISH_STOP_WORDS\n",
    "\n",
    "vect_3 = TfidfVectorizer(min_df = 2, stop_words='english', norm=None,).fit(text_train)\n",
    "X = vect_3.transform(text_train)\n",
    "\n",
    "X_train, X_test, y_train, y_test = train_test_split(X, y, random_state=42)\n",
    "\n",
    "grid_2 = GridSearchCV(LogisticRegression(max_iter=1000), param_grid, cv=10)\n",
    "grid_2.fit(X_train, y_train)\n",
    "print(\"Best cross-validation score: {:.5f}\".format(grid_2.best_score_))\n",
    "print(\"Best parameters: \", grid_2.best_params_)\n",
    "print(\"Test set score: {:.5f}\".format(grid_2.score(X_test, y_test)))"
   ]
  },
  {
   "cell_type": "code",
   "execution_count": 23,
   "metadata": {
    "colab": {
     "base_uri": "https://localhost:8080/",
     "height": 322
    },
    "id": "H4N7q1lT8DjG",
    "outputId": "42d8083b-74f5-4e3f-acf0-f9b8882ead0c"
   },
   "outputs": [
    {
     "data": {
      "image/png": "[encoded data removed]",
      "text/plain": [
       "<Figure size 1080x360 with 1 Axes>"
      ]
     },
     "metadata": {},
     "output_type": "display_data"
    }
   ],
   "source": [
    "coef_3 = LogisticRegression(C=0.01, max_iter=1000).fit(X_train,y_train).coef_ ## C = 0.01\n",
    "feature_names_3 = vect_3.get_feature_names()\n",
    "visualize_coefficients(coef_3, feature_names_3, n_top_features=15)"
   ]
  },
  {
   "cell_type": "markdown",
   "metadata": {
    "id": "J008f5Jl8KmI"
   },
   "source": [
    "\n",
    "My results show that the best model is the first logistic regression without any tokenization implemented into the model. The logistic regression model produced outcomes inlcuding a best cross-validation score of 0.996 and a test score of 0.995. The mean cross-validation accuracy for training data is 0.996 and the mean cross-validation accuracy for testing data 0.991. The second highest scoring model was the first tokenization approach with a cross-validation score of 0.974 and a test score of 0.972. For this approach, the TF-IDF vectorizer is used alongside a chosen ngram range of 1 to 3 and \n",
    "min_df of 2. The second tokenization approach is the following highest scoring model with a best cross-validation score of 0.972 and test set score of 0.969.\n",
    "This approach instead utilizes the Count Vectorizer in unison with a ngram range of 1 to 5 and a min_df of 5. Finally the lowest scorest model is the last tokenization approach which also uses the TF-IDF vectorized but instead involves the removing of stop words and a min_df of 2. This model scores a best cross-validation score of 0.954 and a test set score of 0.952 which makes it the worst performing model. \n",
    "\n",
    "The first logistic regression model without any tuning or implemented features ended up performing the best out of all of them. From the graph produced, we can see the coefficients with the highest and lowest magnitude. The higher the magnitude of the coefficient indicates that the word is not utilized for clickbait. For the first logistical model, the words with the highest magnitude were says, mets, and wins while the words with the lowest magnitude signifying clickbait were you, your, and 2015."
   ]
  },
  {
   "cell_type": "markdown",
   "metadata": {
    "id": "drYyX5A48tIB"
   },
   "source": [
    "## Part 2: Build a predictive neural network using Keras"
   ]
  },
  {
   "cell_type": "markdown",
   "metadata": {
    "id": "z0ttEZMc9jOI"
   },
   "source": [
    "### Run a multilayer perceptron (feed forward neural network) with two hidden layers on the iris dataset using the keras Sequential interface."
   ]
  },
  {
   "cell_type": "code",
   "execution_count": 24,
   "metadata": {
    "colab": {
     "base_uri": "https://localhost:8080/",
     "height": 204
    },
    "id": "yB7RDbIP9h16",
    "outputId": "1985a6ee-d353-456f-8ad3-0cca5dff1707"
   },
   "outputs": [
    {
     "data": {
      "text/html": [
       "<div>\n",
       "<style scoped>\n",
       "    .dataframe tbody tr th:only-of-type {\n",
       "        vertical-align: middle;\n",
       "    }\n",
       "\n",
       "    .dataframe tbody tr th {\n",
       "        vertical-align: top;\n",
       "    }\n",
       "\n",
       "    .dataframe thead th {\n",
       "        text-align: right;\n",
       "    }\n",
       "</style>\n",
       "<table border=\"1\" class=\"dataframe\">\n",
       "  <thead>\n",
       "    <tr style=\"text-align: right;\">\n",
       "      <th></th>\n",
       "      <th>Unnamed: 0</th>\n",
       "      <th>Sepal.Length</th>\n",
       "      <th>Sepal.Width</th>\n",
       "      <th>Petal.Length</th>\n",
       "      <th>Petal.Width</th>\n",
       "      <th>Species</th>\n",
       "    </tr>\n",
       "  </thead>\n",
       "  <tbody>\n",
       "    <tr>\n",
       "      <th>0</th>\n",
       "      <td>1</td>\n",
       "      <td>5.1</td>\n",
       "      <td>3.5</td>\n",
       "      <td>1.4</td>\n",
       "      <td>0.2</td>\n",
       "      <td>setosa</td>\n",
       "    </tr>\n",
       "    <tr>\n",
       "      <th>1</th>\n",
       "      <td>2</td>\n",
       "      <td>4.9</td>\n",
       "      <td>3.0</td>\n",
       "      <td>1.4</td>\n",
       "      <td>0.2</td>\n",
       "      <td>setosa</td>\n",
       "    </tr>\n",
       "    <tr>\n",
       "      <th>2</th>\n",
       "      <td>3</td>\n",
       "      <td>4.7</td>\n",
       "      <td>3.2</td>\n",
       "      <td>1.3</td>\n",
       "      <td>0.2</td>\n",
       "      <td>setosa</td>\n",
       "    </tr>\n",
       "    <tr>\n",
       "      <th>3</th>\n",
       "      <td>4</td>\n",
       "      <td>4.6</td>\n",
       "      <td>3.1</td>\n",
       "      <td>1.5</td>\n",
       "      <td>0.2</td>\n",
       "      <td>setosa</td>\n",
       "    </tr>\n",
       "    <tr>\n",
       "      <th>4</th>\n",
       "      <td>5</td>\n",
       "      <td>5.0</td>\n",
       "      <td>3.6</td>\n",
       "      <td>1.4</td>\n",
       "      <td>0.2</td>\n",
       "      <td>setosa</td>\n",
       "    </tr>\n",
       "  </tbody>\n",
       "</table>\n",
       "</div>"
      ],
      "text/plain": [
       "   Unnamed: 0  Sepal.Length  Sepal.Width  Petal.Length  Petal.Width Species\n",
       "0           1           5.1          3.5           1.4          0.2  setosa\n",
       "1           2           4.9          3.0           1.4          0.2  setosa\n",
       "2           3           4.7          3.2           1.3          0.2  setosa\n",
       "3           4           4.6          3.1           1.5          0.2  setosa\n",
       "4           5           5.0          3.6           1.4          0.2  setosa"
      ]
     },
     "execution_count": 24,
     "metadata": {},
     "output_type": "execute_result"
    }
   ],
   "source": [
    "## import iris\n",
    "import pandas as pd\n",
    "\n",
    "iris = pd.read_csv(\"http://vincentarelbundock.github.io/Rdatasets/csv/datasets/iris.csv\")\n",
    "iris.head()"
   ]
  },
  {
   "cell_type": "code",
   "execution_count": 25,
   "metadata": {
    "id": "ONVARa1K-bpH"
   },
   "outputs": [],
   "source": [
    "## set up for train test split\n",
    "iris = iris.iloc[:,1:]\n",
    "y = iris['Species']\n",
    "X = iris.loc[:, iris.columns != 'Species']"
   ]
  },
  {
   "cell_type": "code",
   "execution_count": 26,
   "metadata": {
    "colab": {
     "base_uri": "https://localhost:8080/"
    },
    "id": "UHcHFwnq-nGw",
    "outputId": "46ded3b3-54a4-43ab-b388-cef6fc730a34"
   },
   "outputs": [
    {
     "name": "stdout",
     "output_type": "stream",
     "text": [
      "(112,)\n",
      "(18734,)\n",
      "(38, 4)\n",
      "(38,)\n"
     ]
    }
   ],
   "source": [
    "## train test split\n",
    "X_train, X_test, X_train, y_test = train_test_split(X, y, random_state=42)\n",
    "\n",
    "print(X_train.shape)\n",
    "print(y_train.shape)\n",
    "print(X_test.shape)\n",
    "print(y_test.shape)"
   ]
  },
  {
   "cell_type": "markdown",
   "metadata": {
    "id": "SMrwazJSC_ar"
   },
   "source": [
    "### Include code for selecting the number of hidden units using GridSearchCV and evaluation on a test-set."
   ]
  },
  {
   "cell_type": "markdown",
   "metadata": {
    "id": "SRWy4WQiDNla"
   },
   "source": [
    "#### Keras Sequential Inferace 1"
   ]
  },
  {
   "cell_type": "code",
   "execution_count": 27,
   "metadata": {
    "colab": {
     "base_uri": "https://localhost:8080/"
    },
    "id": "kIMPSAPM-8wS",
    "outputId": "c6be4366-93f9-4181-91ff-023eff4ec681"
   },
   "outputs": [
    {
     "name": "stderr",
     "output_type": "stream",
     "text": [
      "/usr/local/lib/python3.7/dist-packages/ipykernel_launcher.py:23: DeprecationWarning: KerasClassifier is deprecated, use Sci-Keras (https://github.com/adriangb/scikeras) instead.\n"
     ]
    },
    {
     "name": "stdout",
     "output_type": "stream",
     "text": [
      "Best: 0.742857 using {'hiddennodes': 10}\n",
      "Test set score: 0.8684\n"
     ]
    }
   ],
   "source": [
    "import tensorflow.keras as keras\n",
    "from tensorflow.keras.models import Sequential\n",
    "from tensorflow.keras.layers import Dense, Activation\n",
    "from tensorflow.keras.layers import Dense\n",
    "from tensorflow.keras.wrappers.scikit_learn import KerasClassifier\n",
    "from tensorflow.keras.optimizers import SGD\n",
    "from pylab import rcParams\n",
    "\n",
    "import math\n",
    "model = Sequential()\n",
    "%matplotlib inline\n",
    "\n",
    "def create_model(hiddennodes=1): \n",
    "\t## create model\n",
    "\tmodel = Sequential()\n",
    "\tmodel.add(Dense(hiddennodes, input_dim=4, activation='relu'))\n",
    "\tmodel.add(Dense(10, activation='relu'))\n",
    "\tmodel.add(Dense(3, activation='softmax')) ## use softmax for multiclass analysis\n",
    "\t## Compile model\n",
    "\tmodel.compile(loss='categorical_crossentropy', optimizer='sgd', metrics=['accuracy'])\n",
    "\treturn model\n",
    "\n",
    "model = KerasClassifier(build_fn=create_model, epochs=100, verbose=0) \n",
    "\n",
    "## Building a simple search grid that adjusts epochs\n",
    "param_grid = dict(hiddennodes=[10,20,30,40,50,60,70,80])\n",
    "grid_1 = GridSearchCV(estimator=model, param_grid=param_grid)\n",
    "grid_1_result = grid_1.fit(X_test, y_test)\n",
    "\n",
    "print(\"Best: %f using %s\" % (grid_1_result.best_score_, grid_1_result.best_params_))\n",
    "print(\"Test set score: {:.4f}\".format(grid_1.score(X_test, y_test)))"
   ]
  },
  {
   "cell_type": "markdown",
   "metadata": {
    "id": "7tdJr2pnDXoz"
   },
   "source": [
    "#### Keras Sequential Inferace 2"
   ]
  },
  {
   "cell_type": "code",
   "execution_count": 28,
   "metadata": {
    "colab": {
     "base_uri": "https://localhost:8080/"
    },
    "id": "jow6q0X5BEV3",
    "outputId": "45f14423-e10e-4212-d238-f87001ed1023"
   },
   "outputs": [
    {
     "name": "stderr",
     "output_type": "stream",
     "text": [
      "/usr/local/lib/python3.7/dist-packages/ipykernel_launcher.py:9: DeprecationWarning: KerasClassifier is deprecated, use Sci-Keras (https://github.com/adriangb/scikeras) instead.\n",
      "  if __name__ == '__main__':\n"
     ]
    },
    {
     "name": "stdout",
     "output_type": "stream",
     "text": [
      "Best: 0.821429 using {'hiddennodes': 80, 'learn_rate': 0.01}\n",
      "Test set score: 0.9474\n"
     ]
    }
   ],
   "source": [
    "def create_model(hiddennodes=1, learn_rate=0.01):\n",
    "\tmodel = Sequential()\n",
    "\tmodel.add(Dense(hiddennodes, input_dim=4, activation='relu'))\n",
    "\tmodel.add(Dense(22, activation='relu'))\n",
    "\tmodel.add(Dense(3, activation='softmax'))\n",
    "\tmodel.compile(loss='categorical_crossentropy', optimizer='sgd', metrics=['accuracy'])\n",
    "\treturn model\n",
    "\n",
    "model = KerasClassifier(build_fn=create_model, epochs=100, verbose=0) \n",
    "\n",
    "param_grid = dict(hiddennodes=[10,20,30,40,50,60,70,80])\n",
    "param_grid = [{'hiddennodes' : (10,20,30,40,50,60,70,80) , 'learn_rate': (0.001, 0.01, 0.1)}]\n",
    "grid_2 = GridSearchCV(estimator=model, param_grid=param_grid)\n",
    "grid_2_result = grid_2.fit(X_test, y_test)\n",
    "\n",
    "print(\"Best: %f using %s\" % (grid_2_result.best_score_, grid_2_result.best_params_))\n",
    "print(\"Test set score: {:.4f}\".format(grid_2.score(X_test, y_test)))"
   ]
  },
  {
   "cell_type": "markdown",
   "metadata": {
    "id": "6VdXP2RIDZHq"
   },
   "source": [
    "#### Keras Sequential Inferace 3"
   ]
  },
  {
   "cell_type": "code",
   "execution_count": 31,
   "metadata": {
    "colab": {
     "base_uri": "https://localhost:8080/"
    },
    "id": "KT4y5--8BHOU",
    "outputId": "36f6644d-73de-453b-a193-1e78a3eb6541"
   },
   "outputs": [
    {
     "name": "stderr",
     "output_type": "stream",
     "text": [
      "/usr/local/lib/python3.7/dist-packages/ipykernel_launcher.py:10: DeprecationWarning: KerasClassifier is deprecated, use Sci-Keras (https://github.com/adriangb/scikeras) instead.\n",
      "  # Remove the CWD from sys.path while we load stuff.\n"
     ]
    },
    {
     "name": "stdout",
     "output_type": "stream",
     "text": [
      "Best: 0.825000 using {'hiddennodes': 50, 'learn_rate': 0.001}\n",
      "Test set score: 0.8684\n"
     ]
    }
   ],
   "source": [
    "def create_model(hiddennodes=1, learn_rate=0.001):\n",
    "\tmodel = Sequential()\n",
    "\tmodel.add(Dense(hiddennodes, input_dim=4, activation='relu'))\n",
    "\tmodel.add(Dense(32, activation='relu'))\n",
    "\tmodel.add(Dense(3, activation='softmax'))\n",
    "\toptimizer = SGD(learning_rate=learn_rate)\n",
    "\tmodel.compile(loss='categorical_crossentropy', optimizer='sgd', metrics=['accuracy'])\n",
    "\treturn model\n",
    "\n",
    "model = KerasClassifier(build_fn=create_model, epochs=100, verbose=0) \n",
    "\n",
    "param_grid = dict(hiddennodes=[10,20,30,40,50,60,70,800])\n",
    "param_grid = [{'hiddennodes' : (10,20,30,40,50,60,70,80) , 'learn_rate': (0.0001, 0.001, 0.01, 0.1)}]\n",
    "grid_3 = GridSearchCV(estimator=model, param_grid=param_grid)\n",
    "grid_3_result = grid_3.fit(X_test, y_test)\n",
    "\n",
    "\n",
    "print(\"Best: %f using %s\" % (grid_3_result.best_score_, grid_3_result.best_params_))\n",
    "print(\"Test set score: {:.4f}\".format(grid_3.score(X_test, y_test)))"
   ]
  },
  {
   "cell_type": "markdown",
   "metadata": {
    "id": "7jex0R2XDBRX"
   },
   "source": [
    "###  Describe the differences in the predictive accuracy of models with different numbers of hidden units.  Describe the predictive strength of your best model.  Be sure to explain your choice and evaluate this model using the test set."
   ]
  },
  {
   "cell_type": "markdown",
   "metadata": {
    "id": "AQ8lbljkBKBB"
   },
   "source": [
    "In the first Keras Sequential Interface model, the hidden nodes tuning parameter is used which produces a best score of 0.743 and a test set score of 0.868. For this particular model, the results indicate that the optimal amount of hidden nodes is 10. The second model additionally involves the learning rate parameter alongside the previously used hidden nodes tuning parameter. This second model produces a best score of 0.821 and a test set score of 0.947. The results show that the optimal number hidden nodes is 80 which the optimal learn rate is 0.01. Lastly, in model 3, we also tune the hidden nodes and learning rate. This model has a best score of 0.825 and a test score of 0.868. The optimal amount of hidden nodes here is 50 and the the optimal learn rate is 0.001. "
   ]
  }
 ],
 "metadata": {
  "colab": {
   "name": "Homework 4",
   "provenance": []
  },
  "kernelspec": {
   "display_name": "Python 3",
   "language": "python",
   "name": "python3"
  },
  "language_info": {
   "codemirror_mode": {
    "name": "ipython",
    "version": 3
   },
   "file_extension": ".py",
   "mimetype": "text/x-python",
   "name": "python",
   "nbconvert_exporter": "python",
   "pygments_lexer": "ipython3",
   "version": "3.8.8"
  }
 },
 "nbformat": 4,
 "nbformat_minor": 1
}
