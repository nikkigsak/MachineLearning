{
 "cells": [
  {
   "cell_type": "markdown",
   "metadata": {
    "id": "E-9ABuwT3DE8"
   },
   "source": [
    "*On this homework assignment, I worked in collaboration with other students in the ML course.*"
   ]
  },
  {
   "cell_type": "markdown",
   "metadata": {
    "id": "__idUJk3PcIq"
   },
   "source": [
    "# Part 1: Regression on California Test Scores\n",
    "## 1. Find the url for the California Test Score Data Set from the following website:\n",
    "\n",
    "https://vincentarelbundock.github.io/Rdatasets/datasets.html\n",
    "\n",
    "Read through the \"DOC\" file to understand the variables in the dataset, then use the following url to import the data.  \n",
    "\n",
    "https://vincentarelbundock.github.io/Rdatasets/csv/Ecdat/Caschool.csv"
   ]
  },
  {
   "cell_type": "code",
   "execution_count": 1,
   "metadata": {
    "colab": {
     "base_uri": "https://localhost:8080/",
     "height": 394
    },
    "id": "kp0r5g5HOun5",
    "outputId": "b9991700-e397-4ba6-eaa0-03beb095ce2a"
   },
   "outputs": [
    {
     "data": {
      "text/html": [
       "<div>\n",
       "<style scoped>\n",
       "    .dataframe tbody tr th:only-of-type {\n",
       "        vertical-align: middle;\n",
       "    }\n",
       "\n",
       "    .dataframe tbody tr th {\n",
       "        vertical-align: top;\n",
       "    }\n",
       "\n",
       "    .dataframe thead th {\n",
       "        text-align: right;\n",
       "    }\n",
       "</style>\n",
       "<table border=\"1\" class=\"dataframe\">\n",
       "  <thead>\n",
       "    <tr style=\"text-align: right;\">\n",
       "      <th></th>\n",
       "      <th>Unnamed: 0</th>\n",
       "      <th>distcod</th>\n",
       "      <th>county</th>\n",
       "      <th>district</th>\n",
       "      <th>grspan</th>\n",
       "      <th>enrltot</th>\n",
       "      <th>teachers</th>\n",
       "      <th>calwpct</th>\n",
       "      <th>mealpct</th>\n",
       "      <th>computer</th>\n",
       "      <th>testscr</th>\n",
       "      <th>compstu</th>\n",
       "      <th>expnstu</th>\n",
       "      <th>str</th>\n",
       "      <th>avginc</th>\n",
       "      <th>elpct</th>\n",
       "      <th>readscr</th>\n",
       "      <th>mathscr</th>\n",
       "    </tr>\n",
       "  </thead>\n",
       "  <tbody>\n",
       "    <tr>\n",
       "      <th>0</th>\n",
       "      <td>1</td>\n",
       "      <td>75119</td>\n",
       "      <td>Alameda</td>\n",
       "      <td>Sunol Glen Unified</td>\n",
       "      <td>KK-08</td>\n",
       "      <td>195</td>\n",
       "      <td>10.900000</td>\n",
       "      <td>0.510200</td>\n",
       "      <td>2.040800</td>\n",
       "      <td>67</td>\n",
       "      <td>690.799988</td>\n",
       "      <td>0.343590</td>\n",
       "      <td>6384.911133</td>\n",
       "      <td>17.889910</td>\n",
       "      <td>22.690001</td>\n",
       "      <td>0.000000</td>\n",
       "      <td>691.599976</td>\n",
       "      <td>690.000000</td>\n",
       "    </tr>\n",
       "    <tr>\n",
       "      <th>1</th>\n",
       "      <td>2</td>\n",
       "      <td>61499</td>\n",
       "      <td>Butte</td>\n",
       "      <td>Manzanita Elementary</td>\n",
       "      <td>KK-08</td>\n",
       "      <td>240</td>\n",
       "      <td>11.150000</td>\n",
       "      <td>15.416700</td>\n",
       "      <td>47.916698</td>\n",
       "      <td>101</td>\n",
       "      <td>661.200012</td>\n",
       "      <td>0.420833</td>\n",
       "      <td>5099.380859</td>\n",
       "      <td>21.524664</td>\n",
       "      <td>9.824000</td>\n",
       "      <td>4.583333</td>\n",
       "      <td>660.500000</td>\n",
       "      <td>661.900024</td>\n",
       "    </tr>\n",
       "    <tr>\n",
       "      <th>2</th>\n",
       "      <td>3</td>\n",
       "      <td>61549</td>\n",
       "      <td>Butte</td>\n",
       "      <td>Thermalito Union Elementary</td>\n",
       "      <td>KK-08</td>\n",
       "      <td>1550</td>\n",
       "      <td>82.900002</td>\n",
       "      <td>55.032299</td>\n",
       "      <td>76.322601</td>\n",
       "      <td>169</td>\n",
       "      <td>643.599976</td>\n",
       "      <td>0.109032</td>\n",
       "      <td>5501.954590</td>\n",
       "      <td>18.697226</td>\n",
       "      <td>8.978000</td>\n",
       "      <td>30.000002</td>\n",
       "      <td>636.299988</td>\n",
       "      <td>650.900024</td>\n",
       "    </tr>\n",
       "    <tr>\n",
       "      <th>3</th>\n",
       "      <td>4</td>\n",
       "      <td>61457</td>\n",
       "      <td>Butte</td>\n",
       "      <td>Golden Feather Union Elementary</td>\n",
       "      <td>KK-08</td>\n",
       "      <td>243</td>\n",
       "      <td>14.000000</td>\n",
       "      <td>36.475399</td>\n",
       "      <td>77.049202</td>\n",
       "      <td>85</td>\n",
       "      <td>647.700012</td>\n",
       "      <td>0.349794</td>\n",
       "      <td>7101.831055</td>\n",
       "      <td>17.357143</td>\n",
       "      <td>8.978000</td>\n",
       "      <td>0.000000</td>\n",
       "      <td>651.900024</td>\n",
       "      <td>643.500000</td>\n",
       "    </tr>\n",
       "    <tr>\n",
       "      <th>4</th>\n",
       "      <td>5</td>\n",
       "      <td>61523</td>\n",
       "      <td>Butte</td>\n",
       "      <td>Palermo Union Elementary</td>\n",
       "      <td>KK-08</td>\n",
       "      <td>1335</td>\n",
       "      <td>71.500000</td>\n",
       "      <td>33.108601</td>\n",
       "      <td>78.427002</td>\n",
       "      <td>171</td>\n",
       "      <td>640.849976</td>\n",
       "      <td>0.128090</td>\n",
       "      <td>5235.987793</td>\n",
       "      <td>18.671329</td>\n",
       "      <td>9.080333</td>\n",
       "      <td>13.857677</td>\n",
       "      <td>641.799988</td>\n",
       "      <td>639.900024</td>\n",
       "    </tr>\n",
       "  </tbody>\n",
       "</table>\n",
       "</div>"
      ],
      "text/plain": [
       "   Unnamed: 0  distcod   county  ...      elpct     readscr     mathscr\n",
       "0           1    75119  Alameda  ...   0.000000  691.599976  690.000000\n",
       "1           2    61499    Butte  ...   4.583333  660.500000  661.900024\n",
       "2           3    61549    Butte  ...  30.000002  636.299988  650.900024\n",
       "3           4    61457    Butte  ...   0.000000  651.900024  643.500000\n",
       "4           5    61523    Butte  ...  13.857677  641.799988  639.900024\n",
       "\n",
       "[5 rows x 18 columns]"
      ]
     },
     "execution_count": 1,
     "metadata": {},
     "output_type": "execute_result"
    }
   ],
   "source": [
    "# import data\n",
    "import numpy as np\n",
    "import pandas as pd \n",
    "data = pd.read_csv(\"https://vincentarelbundock.github.io/Rdatasets/csv/Ecdat/Caschool.csv\")\n",
    "data.head()"
   ]
  },
  {
   "cell_type": "code",
   "execution_count": 2,
   "metadata": {
    "colab": {
     "base_uri": "https://localhost:8080/",
     "height": 204
    },
    "id": "1MQaUhHAQtjh",
    "outputId": "9c919db8-3edc-4c31-b1bc-9c13bb4b8eb9"
   },
   "outputs": [
    {
     "data": {
      "text/html": [
       "<div>\n",
       "<style scoped>\n",
       "    .dataframe tbody tr th:only-of-type {\n",
       "        vertical-align: middle;\n",
       "    }\n",
       "\n",
       "    .dataframe tbody tr th {\n",
       "        vertical-align: top;\n",
       "    }\n",
       "\n",
       "    .dataframe thead th {\n",
       "        text-align: right;\n",
       "    }\n",
       "</style>\n",
       "<table border=\"1\" class=\"dataframe\">\n",
       "  <thead>\n",
       "    <tr style=\"text-align: right;\">\n",
       "      <th></th>\n",
       "      <th>enrltot</th>\n",
       "      <th>teachers</th>\n",
       "      <th>calwpct</th>\n",
       "      <th>mealpct</th>\n",
       "      <th>computer</th>\n",
       "      <th>testscr</th>\n",
       "      <th>compstu</th>\n",
       "      <th>expnstu</th>\n",
       "      <th>str</th>\n",
       "      <th>avginc</th>\n",
       "      <th>elpct</th>\n",
       "    </tr>\n",
       "  </thead>\n",
       "  <tbody>\n",
       "    <tr>\n",
       "      <th>0</th>\n",
       "      <td>195</td>\n",
       "      <td>10.900000</td>\n",
       "      <td>0.510200</td>\n",
       "      <td>2.040800</td>\n",
       "      <td>67</td>\n",
       "      <td>690.799988</td>\n",
       "      <td>0.343590</td>\n",
       "      <td>6384.911133</td>\n",
       "      <td>17.889910</td>\n",
       "      <td>22.690001</td>\n",
       "      <td>0.000000</td>\n",
       "    </tr>\n",
       "    <tr>\n",
       "      <th>1</th>\n",
       "      <td>240</td>\n",
       "      <td>11.150000</td>\n",
       "      <td>15.416700</td>\n",
       "      <td>47.916698</td>\n",
       "      <td>101</td>\n",
       "      <td>661.200012</td>\n",
       "      <td>0.420833</td>\n",
       "      <td>5099.380859</td>\n",
       "      <td>21.524664</td>\n",
       "      <td>9.824000</td>\n",
       "      <td>4.583333</td>\n",
       "    </tr>\n",
       "    <tr>\n",
       "      <th>2</th>\n",
       "      <td>1550</td>\n",
       "      <td>82.900002</td>\n",
       "      <td>55.032299</td>\n",
       "      <td>76.322601</td>\n",
       "      <td>169</td>\n",
       "      <td>643.599976</td>\n",
       "      <td>0.109032</td>\n",
       "      <td>5501.954590</td>\n",
       "      <td>18.697226</td>\n",
       "      <td>8.978000</td>\n",
       "      <td>30.000002</td>\n",
       "    </tr>\n",
       "    <tr>\n",
       "      <th>3</th>\n",
       "      <td>243</td>\n",
       "      <td>14.000000</td>\n",
       "      <td>36.475399</td>\n",
       "      <td>77.049202</td>\n",
       "      <td>85</td>\n",
       "      <td>647.700012</td>\n",
       "      <td>0.349794</td>\n",
       "      <td>7101.831055</td>\n",
       "      <td>17.357143</td>\n",
       "      <td>8.978000</td>\n",
       "      <td>0.000000</td>\n",
       "    </tr>\n",
       "    <tr>\n",
       "      <th>4</th>\n",
       "      <td>1335</td>\n",
       "      <td>71.500000</td>\n",
       "      <td>33.108601</td>\n",
       "      <td>78.427002</td>\n",
       "      <td>171</td>\n",
       "      <td>640.849976</td>\n",
       "      <td>0.128090</td>\n",
       "      <td>5235.987793</td>\n",
       "      <td>18.671329</td>\n",
       "      <td>9.080333</td>\n",
       "      <td>13.857677</td>\n",
       "    </tr>\n",
       "  </tbody>\n",
       "</table>\n",
       "</div>"
      ],
      "text/plain": [
       "   enrltot   teachers    calwpct  ...        str     avginc      elpct\n",
       "0      195  10.900000   0.510200  ...  17.889910  22.690001   0.000000\n",
       "1      240  11.150000  15.416700  ...  21.524664   9.824000   4.583333\n",
       "2     1550  82.900002  55.032299  ...  18.697226   8.978000  30.000002\n",
       "3      243  14.000000  36.475399  ...  17.357143   8.978000   0.000000\n",
       "4     1335  71.500000  33.108601  ...  18.671329   9.080333  13.857677\n",
       "\n",
       "[5 rows x 11 columns]"
      ]
     },
     "execution_count": 2,
     "metadata": {},
     "output_type": "execute_result"
    }
   ],
   "source": [
    "# drop 'readscr' and 'mathscr' variables \n",
    "data = data.iloc[:, 1:] # drop first column 'Unnamed'\n",
    "data.drop([\"district\",\"distcod\",\"county\",\"grspan\",\"readscr\", \"mathscr\"], axis = 1, inplace = True) # drop categorical variables and 'readscr' and 'math\n",
    "data.head()"
   ]
  },
  {
   "cell_type": "markdown",
   "metadata": {
    "id": "8aT4TDO4RAz7"
   },
   "source": [
    "## 1.1 Visualize the univariate distribution of the target feature and each of the three continuous explanatory variables that you think are likely to have a relationship with the target feature.   "
   ]
  },
  {
   "cell_type": "code",
   "execution_count": 3,
   "metadata": {
    "colab": {
     "base_uri": "https://localhost:8080/",
     "height": 1000
    },
    "id": "pAP1qBa0RCVs",
    "outputId": "e936d7ea-04cc-439d-e62d-d1ae25a2da91"
   },
   "outputs": [
    {
     "data": {
      "image/png": "[encoded data removed]",
      "text/plain": [
       "<Figure size 432x288 with 1 Axes>"
      ]
     },
     "metadata": {
      "needs_background": "light"
     },
     "output_type": "display_data"
    },
    {
     "data": {
      "image/png": "[encoded data removed]",
      "text/plain": [
       "<Figure size 432x288 with 1 Axes>"
      ]
     },
     "metadata": {
      "needs_background": "light"
     },
     "output_type": "display_data"
    },
    {
     "data": {
      "image/png": "[encoded data removed]",
      "text/plain": [
       "<Figure size 432x288 with 1 Axes>"
      ]
     },
     "metadata": {
      "needs_background": "light"
     },
     "output_type": "display_data"
    },
    {
     "data": {
      "image/png": "[encoded data removed]",
      "text/plain": [
       "<Figure size 432x288 with 1 Axes>"
      ]
     },
     "metadata": {
      "needs_background": "light"
     },
     "output_type": "display_data"
    }
   ],
   "source": [
    "import matplotlib as mpl\n",
    "import matplotlib.pyplot as plt\n",
    "import scipy as sp\n",
    "import seaborn as sns\n",
    "\n",
    "# target feature distribution\n",
    "plt.hist(data['testscr'])\n",
    "plt.title('Distribution of Test Score')\n",
    "plt.show()\n",
    "\n",
    "# explanatory variable 1: expenditure per student\n",
    "plt.hist(data['expnstu'], color = \"pink\")\n",
    "plt.title('Distribution of Exp. per Student')\n",
    "plt.show()\n",
    "\n",
    "# explanatory variable 2: district avg income\n",
    "plt.hist(data['avginc'], color = \"yellow\")\n",
    "plt.title('Distribution of District Avg. Income')\n",
    "plt.show()\n",
    "\n",
    "# explanatory variable 3: percent of english learner\n",
    "plt.hist(data['elpct'], color = \"green\")\n",
    "plt.title('Distribution of Percent of Eng. Learners')\n",
    "plt.show()"
   ]
  },
  {
   "cell_type": "markdown",
   "metadata": {
    "id": "CtjJI2D3aVeA"
   },
   "source": [
    "## 1.2 Visualize the dependency of the target on each feature from 1.1."
   ]
  },
  {
   "cell_type": "code",
   "execution_count": 4,
   "metadata": {
    "colab": {
     "base_uri": "https://localhost:8080/",
     "height": 851
    },
    "id": "DHuCLeypacih",
    "outputId": "e5fc38a1-5513-461b-de74-91ec433e2241"
   },
   "outputs": [
    {
     "data": {
      "image/png": "[encoded data removed]",
      "text/plain": [
       "<Figure size 432x288 with 1 Axes>"
      ]
     },
     "metadata": {
      "needs_background": "light"
     },
     "output_type": "display_data"
    },
    {
     "data": {
      "image/png": "[encoded data removed]",
      "text/plain": [
       "<Figure size 432x288 with 1 Axes>"
      ]
     },
     "metadata": {
      "needs_background": "light"
     },
     "output_type": "display_data"
    },
    {
     "data": {
      "image/png": "[encoded data removed]",
      "text/plain": [
       "<Figure size 432x288 with 1 Axes>"
      ]
     },
     "metadata": {
      "needs_background": "light"
     },
     "output_type": "display_data"
    }
   ],
   "source": [
    "# expnstu vs. testscr\n",
    "x_variable1 = data['expnstu']\n",
    "y_variable = data['testscr']\n",
    "plt.scatter(x_variable1, y_variable)\n",
    "plt.xlabel('Expenditure Per Student')\n",
    "plt.ylabel('Test Score')\n",
    "plt.title('expnstu vs. testscr')\n",
    "plt.show()\n",
    "\n",
    "# avginc vs. testscr\n",
    "x_variable2 = data['avginc']\n",
    "plt.scatter(x_variable2, y_variable, color = \"red\")\n",
    "plt.xlabel('District Average Income')\n",
    "plt.ylabel('Test Score')\n",
    "plt.title('avginc vs. testscr')\n",
    "plt.show()\n",
    "\n",
    "# elpct vs. testscr \n",
    "x_variable3 = data['elpct']\n",
    "plt.scatter(x_variable3, y_variable, color = \"yellow\")\n",
    "plt.title('elpct vs. testscr')\n",
    "plt.xlabel('Percent of English Learners')\n",
    "plt.ylabel('Test Score')\n",
    "plt.show()"
   ]
  },
  {
   "cell_type": "markdown",
   "metadata": {
    "id": "Zf9CAQU9bX4y"
   },
   "source": [
    "## 1.3 Split data in training and test set. Build models that evaluate the relationship between all available X variables in the California test dataset and the target variable. Evaluate KNN for regression, Linear Regression (OLS), Ridge, and Lasso using cross-validation with the default parameters. Does scaling the data with the StandardScaler help?"
   ]
  },
  {
   "cell_type": "markdown",
   "metadata": {
    "id": "46tv6u3v4Ba-"
   },
   "source": [
    "### K Nearest Neighbors"
   ]
  },
  {
   "cell_type": "code",
   "execution_count": 5,
   "metadata": {
    "colab": {
     "base_uri": "https://localhost:8080/"
    },
    "id": "3j2v3tgAbbKt",
    "outputId": "fd1fca8e-10a9-4140-9801-47efd9806c91"
   },
   "outputs": [
    {
     "name": "stdout",
     "output_type": "stream",
     "text": [
      "accuracy: 0.08\n"
     ]
    }
   ],
   "source": [
    "from sklearn.neighbors import KNeighborsRegressor\n",
    "from sklearn.linear_model import LinearRegression\n",
    "from sklearn.model_selection import train_test_split\n",
    "\n",
    "# set up data for train, test, split\n",
    "y = data['testscr']\n",
    "X = data.loc[:, data.columns != 'testscr'] # get rid of y data \n",
    "\n",
    "X_train, X_test, y_train, y_test = train_test_split(X, y, random_state = 1)\n",
    "\n",
    "\n",
    "# evaluate KNN for regression \n",
    "knn = KNeighborsRegressor(n_neighbors=5) # k = 5\n",
    "knn.fit(X_train, y_train) # fit objects on training data \n",
    "knn.score(X_test, y_test)\n",
    "print(\"accuracy: {:.2f}\".format(knn.score(X_test, y_test)))"
   ]
  },
  {
   "cell_type": "markdown",
   "metadata": {
    "id": "tnefgTSr5-Lb"
   },
   "source": [
    "### KNN with Standard Scaler\n"
   ]
  },
  {
   "cell_type": "code",
   "execution_count": 6,
   "metadata": {
    "id": "o5QutmRh4Xt-"
   },
   "outputs": [],
   "source": [
    "# preprocess by scaling\n",
    "from sklearn import preprocessing\n",
    "from sklearn.preprocessing import StandardScaler\n",
    "scaler = preprocessing.StandardScaler()\n",
    "scaler = StandardScaler().fit(X_train)\n",
    "scaler.fit(X_train)\n",
    "X_train_scaled = scaler.transform(X_train)\n",
    "X_test_scaled = scaler.transform(X_test)"
   ]
  },
  {
   "cell_type": "code",
   "execution_count": 7,
   "metadata": {
    "colab": {
     "base_uri": "https://localhost:8080/"
    },
    "id": "vel0J03l6DFi",
    "outputId": "eaba78db-2bd5-4aa4-acb5-7d6a6ae78f1c"
   },
   "outputs": [
    {
     "name": "stdout",
     "output_type": "stream",
     "text": [
      "accuracy: 0.73\n"
     ]
    }
   ],
   "source": [
    "knn = KNeighborsRegressor(n_neighbors=5)\n",
    "knn.fit(X_train_scaled, y_train)\n",
    "knn.score(X_test, y_test)\n",
    "print(\"accuracy: {:.2f}\".format(knn.score(X_test_scaled, y_test)))"
   ]
  },
  {
   "cell_type": "markdown",
   "metadata": {
    "id": "T4s_pTKddGCS"
   },
   "source": [
    "**Standard Scaler helps KNN Regression by a lot**"
   ]
  },
  {
   "cell_type": "markdown",
   "metadata": {
    "id": "f03UxX0m35Yh"
   },
   "source": [
    "### Linear Regression (OLS)"
   ]
  },
  {
   "cell_type": "code",
   "execution_count": 8,
   "metadata": {
    "colab": {
     "base_uri": "https://localhost:8080/"
    },
    "id": "5127k2rHszMm",
    "outputId": "b18e37ed-fc0c-4ec0-9fcb-33fa2a774da1"
   },
   "outputs": [
    {
     "name": "stdout",
     "output_type": "stream",
     "text": [
      "lr.coef_: [ 1.23265852e-03 -3.24527985e-02 -8.83598155e-02 -3.81931221e-01\n",
      "  3.30043134e-03  5.80342195e+00  2.00663899e-03 -2.59144037e-01\n",
      "  5.44223554e-01 -2.14288402e-01]\n",
      "lr.intercept_: 661.1394147432453\n",
      "Training set score: 0.83\n",
      "Test set score: 0.75\n"
     ]
    }
   ],
   "source": [
    "lr = LinearRegression()\n",
    "lr.fit(X_train, y_train)\n",
    "print(\"lr.coef_: {}\".format(lr.coef_)) # look at coefficient of linear regression\n",
    "print(\"lr.intercept_: {}\".format(lr.intercept_)) # intercept of linear regression\n",
    "\n",
    "# Scoring LR training data\n",
    "print(\"Training set score: {:.2f}\".format(lr.score(X_train, y_train)))\n",
    "print(\"Test set score: {:.2f}\".format(lr.score(X_test, y_test)))"
   ]
  },
  {
   "cell_type": "markdown",
   "metadata": {
    "id": "AlIKX3TM6h5D"
   },
   "source": [
    "### Linear Regression with Standard Scaler\n"
   ]
  },
  {
   "cell_type": "code",
   "execution_count": 9,
   "metadata": {
    "colab": {
     "base_uri": "https://localhost:8080/"
    },
    "id": "DCYK4HBJ6orl",
    "outputId": "a6b4c6b7-c081-41bc-9a63-bcfef5963670"
   },
   "outputs": [
    {
     "name": "stdout",
     "output_type": "stream",
     "text": [
      "lr.coef_: [  4.66984614  -5.98124212  -0.99043965 -10.2064311    1.42681763\n",
      "   0.38292197   1.20358627  -0.48441275   3.76970421  -4.01397992]\n",
      "lr.intercept_: 653.5317460317458\n",
      "Training set score: 0.83\n",
      "Test set score: 0.75\n"
     ]
    }
   ],
   "source": [
    "lr.fit(X_train_scaled, y_train)\n",
    "\n",
    "print(\"lr.coef_: {}\".format(lr.coef_))\n",
    "print(\"lr.intercept_: {}\".format(lr.intercept_))\n",
    "\n",
    "print(\"Training set score: {:.2f}\".format(lr.score(X_train_scaled, y_train)))\n",
    "print(\"Test set score: {:.2f}\".format(lr.score(X_test_scaled, y_test)))"
   ]
  },
  {
   "cell_type": "markdown",
   "metadata": {
    "id": "W9uABNVNdPe8"
   },
   "source": [
    "**Linear Regression essentially same score with Standard Scaler**"
   ]
  },
  {
   "cell_type": "markdown",
   "metadata": {
    "id": "jr1TX6Gn7JA9"
   },
   "source": [
    "### Ridge Regression"
   ]
  },
  {
   "cell_type": "code",
   "execution_count": 10,
   "metadata": {
    "colab": {
     "base_uri": "https://localhost:8080/"
    },
    "id": "eqMp5Uhnu2Ff",
    "outputId": "4f00f2ff-9fc2-425c-b97c-5fd2a044740c"
   },
   "outputs": [
    {
     "name": "stdout",
     "output_type": "stream",
     "text": [
      "Training set score: 0.83\n",
      "Test set score: 0.75\n"
     ]
    }
   ],
   "source": [
    "\n",
    "from sklearn.linear_model import Ridge\n",
    "ridge = Ridge().fit(X_train, y_train) \n",
    "print(\"Training set score: {:.2f}\".format(ridge.score(X_train, y_train)))\n",
    "print(\"Test set score: {:.2f}\".format(ridge.score(X_test, y_test)))"
   ]
  },
  {
   "cell_type": "markdown",
   "metadata": {
    "id": "QtdWS7FA7KtL"
   },
   "source": [
    "### Ridge with Standard Scaler\n"
   ]
  },
  {
   "cell_type": "code",
   "execution_count": 11,
   "metadata": {
    "colab": {
     "base_uri": "https://localhost:8080/"
    },
    "id": "um_wF4UW7MsQ",
    "outputId": "2f570383-9739-4a1c-f4cc-9a1c8b6026a4"
   },
   "outputs": [
    {
     "name": "stdout",
     "output_type": "stream",
     "text": [
      "Training set score: 0.83\n",
      "Test set score: 0.75\n"
     ]
    }
   ],
   "source": [
    "ridge_scaled = Ridge().fit(X_train_scaled, y_train) \n",
    "print(\"Training set score: {:.2f}\".format(ridge_scaled.score(X_train_scaled, y_train)))\n",
    "print(\"Test set score: {:.2f}\".format(ridge_scaled.score(X_test_scaled, y_test)))"
   ]
  },
  {
   "cell_type": "markdown",
   "metadata": {
    "id": "cQoORbw3dZ_0"
   },
   "source": [
    "**Ridge essentially same score with Standard Scaler**"
   ]
  },
  {
   "cell_type": "markdown",
   "metadata": {
    "id": "q6OlZW_B75Ps"
   },
   "source": [
    "### Lasso Regression"
   ]
  },
  {
   "cell_type": "code",
   "execution_count": 12,
   "metadata": {
    "colab": {
     "base_uri": "https://localhost:8080/"
    },
    "id": "DEckN-AfvIJw",
    "outputId": "d1ba43e8-b519-4644-97c8-93cd12993a72"
   },
   "outputs": [
    {
     "name": "stdout",
     "output_type": "stream",
     "text": [
      "Training set score: 0.83\n",
      "Test set score: 0.74\n",
      "Number of features used: 8\n",
      "lasso.coef_: [ 2.08917447e-04 -1.41386624e-02 -8.01345679e-02 -3.95156425e-01\n",
      "  4.20224112e-03  0.00000000e+00  2.67985555e-03 -0.00000000e+00\n",
      "  4.96631492e-01 -2.09579314e-01]\n"
     ]
    }
   ],
   "source": [
    "from sklearn.linear_model import Lasso\n",
    "lasso = Lasso(max_iter=1000000000).fit(X_train, y_train)\n",
    "print(\"Training set score: {:.2f}\".format(lasso.score(X_train, y_train)))\n",
    "print(\"Test set score: {:.2f}\".format(lasso.score(X_test, y_test)))\n",
    "print(\"Number of features used: {}\".format(np.sum(lasso.coef_ != 0))) \n",
    "print(\"lasso.coef_: {}\".format(lasso.coef_))"
   ]
  },
  {
   "cell_type": "markdown",
   "metadata": {
    "id": "wg7u3dTK78PA"
   },
   "source": [
    "### Lasso Regression with Standard Scaler\n"
   ]
  },
  {
   "cell_type": "code",
   "execution_count": 13,
   "metadata": {
    "colab": {
     "base_uri": "https://localhost:8080/"
    },
    "id": "WVR6OV1L7_5t",
    "outputId": "cf402939-b5fe-4062-bcf1-2c14a20ffcd7"
   },
   "outputs": [
    {
     "name": "stdout",
     "output_type": "stream",
     "text": [
      "Training set score: 0.82\n",
      "Test set score: 0.74\n",
      "Number of features used: 5\n",
      "lasso.coef_: [ -0.          -0.          -0.         -10.87086307  -0.\n",
      "   0.14348503   0.5172354   -0.           3.45950003  -3.19671056]\n"
     ]
    }
   ],
   "source": [
    "lasso_scaled = Lasso().fit(X_train_scaled, y_train)\n",
    "print(\"Training set score: {:.2f}\".format(lasso_scaled.score(X_train_scaled, y_train)))\n",
    "print(\"Test set score: {:.2f}\".format(lasso_scaled.score(X_test_scaled, y_test)))\n",
    "print(\"Number of features used: {}\".format(np.sum(lasso_scaled.coef_ != 0))) \n",
    "print(\"lasso.coef_: {}\".format(lasso_scaled.coef_))"
   ]
  },
  {
   "cell_type": "markdown",
   "metadata": {
    "id": "UTXLACPvdgNj"
   },
   "source": [
    "**Standard Scaler does not improve Lasso**"
   ]
  },
  {
   "cell_type": "markdown",
   "metadata": {
    "id": "Og1WD5jgaoEf"
   },
   "source": [
    "### Cross Validation Scores"
   ]
  },
  {
   "cell_type": "code",
   "execution_count": 14,
   "metadata": {
    "colab": {
     "base_uri": "https://localhost:8080/"
    },
    "id": "MZb9X6uxaqEM",
    "outputId": "88cdb9d9-d1c9-4a69-e57c-ba59dfeee0f6"
   },
   "outputs": [
    {
     "name": "stdout",
     "output_type": "stream",
     "text": [
      "0.8067280808890971\n",
      "-0.08759767215631972\n",
      "0.8078853332148264\n",
      "0.8100326986374515\n"
     ]
    }
   ],
   "source": [
    "from sklearn.model_selection import cross_val_score\n",
    "\n",
    "cross_val_score(lr, X_train, y_train, cv = 10)\n",
    "print(np.mean(cross_val_score(lr, X_train, y_train, cv=10, scoring = \"r2\")))\n",
    "\n",
    "cross_val_score(knn, X_train, y_train, cv = 10)\n",
    "print(np.mean(cross_val_score(knn, X_train, y_train, cv=10, scoring = \"r2\")))\n",
    "\n",
    "cross_val_score(ridge, X_train, y_train, cv = 10)\n",
    "print(np.mean(cross_val_score(ridge, X_train, y_train, cv=10, scoring = \"r2\")))\n",
    "\n",
    "cross_val_score(lasso, X_train, y_train, cv = 10)\n",
    "print(np.mean(cross_val_score(lasso, X_train, y_train, cv=10, scoring = \"r2\")))\n",
    "\n"
   ]
  },
  {
   "cell_type": "markdown",
   "metadata": {
    "id": "n4SXisoHb8bu"
   },
   "source": [
    "### CV with Standard Scaler"
   ]
  },
  {
   "cell_type": "code",
   "execution_count": 15,
   "metadata": {
    "colab": {
     "base_uri": "https://localhost:8080/"
    },
    "id": "YSlbgCjwcBdt",
    "outputId": "1cdbe9e4-adb2-4ab5-c9c8-f4cb3ddcc182"
   },
   "outputs": [
    {
     "name": "stdout",
     "output_type": "stream",
     "text": [
      "0.8067280808890966\n",
      "0.7311735784400037\n",
      "0.8072717407920242\n",
      "0.8045653891852668\n"
     ]
    }
   ],
   "source": [
    "cross_val_score(lr, X_train_scaled, y_train, cv = 10)\n",
    "print(np.mean(cross_val_score(lr, X_train_scaled, y_train, cv=10, scoring = \"r2\")))\n",
    "\n",
    "cross_val_score(knn, X_train_scaled, y_train, cv = 10)\n",
    "print(np.mean(cross_val_score(knn, X_train_scaled, y_train, cv=10, scoring = \"r2\")))\n",
    "\n",
    "cross_val_score(ridge, X_train_scaled, y_train, cv = 10)\n",
    "print(np.mean(cross_val_score(ridge, X_train_scaled, y_train, cv=10, scoring = \"r2\")))\n",
    "\n",
    "cross_val_score(lasso, X_train_scaled, y_train, cv = 10)\n",
    "print(np.mean(cross_val_score(lasso, X_train_scaled, y_train, cv=10, scoring = \"r2\")))"
   ]
  },
  {
   "cell_type": "markdown",
   "metadata": {
    "id": "IYIYF9VIdnXI"
   },
   "source": [
    "**Two best models are Linear Regression and Ridge. The Linear cross validation score is .806 while the Ridge score is .807.**\n",
    "\n",
    "---\n",
    "\n"
   ]
  },
  {
   "cell_type": "markdown",
   "metadata": {
    "id": "SJRTmLuatJkz"
   },
   "source": [
    "## 1.4 Tune the parameters of the models where possible using GridSearchCV. Do the results improve?"
   ]
  },
  {
   "cell_type": "code",
   "execution_count": 16,
   "metadata": {
    "colab": {
     "base_uri": "https://localhost:8080/"
    },
    "id": "vjnKNa1U8vQ4",
    "outputId": "7386a7b7-4b76-4315-928b-17ff07956fb0"
   },
   "outputs": [
    {
     "name": "stdout",
     "output_type": "stream",
     "text": [
      "[('standardscaler', StandardScaler(copy=True, with_mean=True, with_std=True)), ('kneighborsregressor', KNeighborsRegressor(algorithm='auto', leaf_size=30, metric='minkowski',\n",
      "                    metric_params=None, n_jobs=None, n_neighbors=5, p=2,\n",
      "                    weights='uniform'))]\n",
      "best mean cross-validation score: 0.764\n",
      "best parameters: {'kneighborsregressor__n_neighbors': 13}\n",
      "test-set score: 0.706\n"
     ]
    }
   ],
   "source": [
    "from sklearn.model_selection import GridSearchCV\n",
    "from sklearn.pipeline import make_pipeline\n",
    "\n",
    "# Tuning KNN \n",
    "\n",
    "knn_pipe = make_pipeline(StandardScaler(), KNeighborsRegressor())\n",
    "print(knn_pipe.steps)\n",
    "\n",
    "param_grid = {'kneighborsregressor__n_neighbors': np.arange(1, 15, 2)}\n",
    "grid = GridSearchCV(knn_pipe, param_grid, cv=10)\n",
    "grid.fit(X_train, y_train)\n",
    "print(\"best mean cross-validation score: {:.3f}\".format(grid.best_score_))\n",
    "print(\"best parameters: {}\".format(grid.best_params_))\n",
    "print(\"test-set score: {:.3f}\".format(grid.score(X_test, y_test)))"
   ]
  },
  {
   "cell_type": "code",
   "execution_count": 17,
   "metadata": {
    "colab": {
     "base_uri": "https://localhost:8080/"
    },
    "id": "ni3yZfRGgpRi",
    "outputId": "82b2f8c9-2570-41dc-cc29-4e0c13347d02"
   },
   "outputs": [
    {
     "name": "stdout",
     "output_type": "stream",
     "text": [
      "best mean cross-validation score: 0.764\n",
      "best parameters: {'kneighborsregressor__n_neighbors': 13}\n",
      "test-set score: 0.706\n"
     ]
    }
   ],
   "source": [
    "# Scaled and Tuned KNN \n",
    "param_grid = {'kneighborsregressor__n_neighbors': np.arange(1, 15, 2)}\n",
    "grid = GridSearchCV(knn_pipe, param_grid, cv=10)\n",
    "grid.fit(X_train_scaled, y_train)\n",
    "print(\"best mean cross-validation score: {:.3f}\".format(grid.best_score_))\n",
    "print(\"best parameters: {}\".format(grid.best_params_))\n",
    "print(\"test-set score: {:.3f}\".format(grid.score(X_test_scaled, y_test)))"
   ]
  },
  {
   "cell_type": "markdown",
   "metadata": {
    "id": "HPAObTL_d3PR"
   },
   "source": [
    "**Tuning parameters using GridSearchCV improves KNN**"
   ]
  },
  {
   "cell_type": "code",
   "execution_count": 19,
   "metadata": {
    "colab": {
     "base_uri": "https://localhost:8080/"
    },
    "id": "nGZ3Iwsq7SL9",
    "outputId": "386113a1-9421-43b1-8aa1-8ebc4fc81084"
   },
   "outputs": [
    {
     "name": "stdout",
     "output_type": "stream",
     "text": [
      "best mean cross-validation score: 0.804\n",
      "best parameters: {'alpha': 1000, 'max_iter': 1}\n",
      "test-set score: 0.743\n"
     ]
    }
   ],
   "source": [
    "# Ridge Gridsearch CV\n",
    "param_grid = {'alpha': [1, 1000], 'max_iter': [1, 100000]}\n",
    "grid = GridSearchCV(Ridge(), param_grid, cv = 15)\n",
    "grid.fit(X_train, y_train)\n",
    "print(\"best mean cross-validation score: {:.3f}\".format(grid.best_score_))\n",
    "print(\"best parameters: {}\".format(grid.best_params_))\n",
    "print(\"test-set score: {:.3f}\".format(grid.score(X_test, y_test)))\n"
   ]
  },
  {
   "cell_type": "code",
   "execution_count": 21,
   "metadata": {
    "colab": {
     "base_uri": "https://localhost:8080/"
    },
    "id": "vJ2QhPcF8Oqn",
    "outputId": "1f7eff42-e8d8-4f6c-8b52-a9d24ad04e0d"
   },
   "outputs": [
    {
     "name": "stdout",
     "output_type": "stream",
     "text": [
      "best mean cross-validation score: 0.802\n",
      "best parameters: {'alpha': 1, 'max_iter': 1}\n",
      "test-set score: 0.748\n"
     ]
    }
   ],
   "source": [
    "# Tuning w scaled \n",
    "param_grid = {'alpha': [1, 1000], 'max_iter': [1, 100000]}\n",
    "grid = GridSearchCV(Ridge(), param_grid, cv = 15)\n",
    "grid.fit(X_train_scaled, y_train)\n",
    "print(\"best mean cross-validation score: {:.3f}\".format(grid.best_score_))\n",
    "print(\"best parameters: {}\".format(grid.best_params_))\n",
    "print(\"test-set score: {:.3f}\".format(grid.score(X_test_scaled, y_test)))"
   ]
  },
  {
   "cell_type": "code",
   "execution_count": 22,
   "metadata": {
    "colab": {
     "base_uri": "https://localhost:8080/"
    },
    "id": "pXcSc_g7dev3",
    "outputId": "808e5d04-6c36-454e-abf3-7fd97da02b43"
   },
   "outputs": [
    {
     "name": "stdout",
     "output_type": "stream",
     "text": [
      "Training set score: 0.83206\n",
      "Test set score: 0.74455\n"
     ]
    }
   ],
   "source": [
    "# changing Ridge alpha\n",
    "ridge_tuned = Ridge(alpha = 10).fit(X_train, y_train)\n",
    "print(\"Training set score: {:.5f}\".format(ridge_tuned.score(X_train,y_train)))\n",
    "print(\"Test set score: {:.5f}\".format(ridge_tuned.score(X_test, y_test))) \n"
   ]
  },
  {
   "cell_type": "code",
   "execution_count": 23,
   "metadata": {
    "colab": {
     "base_uri": "https://localhost:8080/"
    },
    "id": "YE383gDxjrTx",
    "outputId": "628c6c44-a057-4613-a3a1-c1d92b309ba4"
   },
   "outputs": [
    {
     "name": "stdout",
     "output_type": "stream",
     "text": [
      "Training set score: 0.83143\n",
      "Test set score: 0.74920\n"
     ]
    }
   ],
   "source": [
    "# Ridge scaled and tuned\n",
    "ridge_tuned2 = Ridge(alpha = 10).fit(X_train_scaled, y_train)\n",
    "print(\"Training set score: {:.5f}\".format(ridge_tuned2.score(X_train_scaled,y_train)))\n",
    "print(\"Test set score: {:.5f}\".format(ridge_tuned2.score(X_test_scaled, y_test))) "
   ]
  },
  {
   "cell_type": "markdown",
   "metadata": {
    "id": "OXZmSe3IeC8g"
   },
   "source": [
    "**Tuning by increasing alpha improves Ridge score**"
   ]
  },
  {
   "cell_type": "code",
   "execution_count": 28,
   "metadata": {
    "colab": {
     "base_uri": "https://localhost:8080/"
    },
    "id": "jhW_au9A8hbs",
    "outputId": "f8bda10f-fa00-402a-9d43-095823bc7cf1"
   },
   "outputs": [
    {
     "name": "stderr",
     "output_type": "stream",
     "text": [
      "/usr/local/lib/python3.7/dist-packages/sklearn/linear_model/_coordinate_descent.py:476: ConvergenceWarning: Objective did not converge. You might want to increase the number of iterations. Duality gap: 17377.591997530857, tolerance: 10.10010244131078\n",
      "  positive)\n",
      "/usr/local/lib/python3.7/dist-packages/sklearn/linear_model/_coordinate_descent.py:476: ConvergenceWarning: Objective did not converge. You might want to increase the number of iterations. Duality gap: 17251.241184356182, tolerance: 10.028541312714669\n",
      "  positive)\n",
      "/usr/local/lib/python3.7/dist-packages/sklearn/linear_model/_coordinate_descent.py:476: ConvergenceWarning: Objective did not converge. You might want to increase the number of iterations. Duality gap: 16666.297541823027, tolerance: 9.875836323249395\n",
      "  positive)\n",
      "/usr/local/lib/python3.7/dist-packages/sklearn/linear_model/_coordinate_descent.py:476: ConvergenceWarning: Objective did not converge. You might want to increase the number of iterations. Duality gap: 17302.364293482333, tolerance: 10.218880128003791\n",
      "  positive)\n",
      "/usr/local/lib/python3.7/dist-packages/sklearn/linear_model/_coordinate_descent.py:476: ConvergenceWarning: Objective did not converge. You might want to increase the number of iterations. Duality gap: 16887.678702526176, tolerance: 9.870571490414402\n",
      "  positive)\n",
      "/usr/local/lib/python3.7/dist-packages/sklearn/linear_model/_coordinate_descent.py:476: ConvergenceWarning: Objective did not converge. You might want to increase the number of iterations. Duality gap: 17123.07253415787, tolerance: 10.141479623023564\n",
      "  positive)\n",
      "/usr/local/lib/python3.7/dist-packages/sklearn/linear_model/_coordinate_descent.py:476: ConvergenceWarning: Objective did not converge. You might want to increase the number of iterations. Duality gap: 17290.55392374197, tolerance: 9.867582057597899\n",
      "  positive)\n",
      "/usr/local/lib/python3.7/dist-packages/sklearn/linear_model/_coordinate_descent.py:476: ConvergenceWarning: Objective did not converge. You might want to increase the number of iterations. Duality gap: 17063.879969125974, tolerance: 10.147217687642138\n",
      "  positive)\n",
      "/usr/local/lib/python3.7/dist-packages/sklearn/linear_model/_coordinate_descent.py:476: ConvergenceWarning: Objective did not converge. You might want to increase the number of iterations. Duality gap: 17407.187188407624, tolerance: 10.418683376855292\n",
      "  positive)\n",
      "/usr/local/lib/python3.7/dist-packages/sklearn/linear_model/_coordinate_descent.py:476: ConvergenceWarning: Objective did not converge. You might want to increase the number of iterations. Duality gap: 17572.160277724837, tolerance: 10.363141089846643\n",
      "  positive)\n",
      "/usr/local/lib/python3.7/dist-packages/sklearn/linear_model/_coordinate_descent.py:476: ConvergenceWarning: Objective did not converge. You might want to increase the number of iterations. Duality gap: 16852.55845448863, tolerance: 9.991055712341979\n",
      "  positive)\n",
      "/usr/local/lib/python3.7/dist-packages/sklearn/linear_model/_coordinate_descent.py:476: ConvergenceWarning: Objective did not converge. You might want to increase the number of iterations. Duality gap: 17771.522493323682, tolerance: 10.292266936492375\n",
      "  positive)\n",
      "/usr/local/lib/python3.7/dist-packages/sklearn/linear_model/_coordinate_descent.py:476: ConvergenceWarning: Objective did not converge. You might want to increase the number of iterations. Duality gap: 16956.826152891073, tolerance: 9.856931791904875\n",
      "  positive)\n",
      "/usr/local/lib/python3.7/dist-packages/sklearn/linear_model/_coordinate_descent.py:476: ConvergenceWarning: Objective did not converge. You might want to increase the number of iterations. Duality gap: 17163.75027168228, tolerance: 10.086235364862725\n",
      "  positive)\n",
      "/usr/local/lib/python3.7/dist-packages/sklearn/linear_model/_coordinate_descent.py:476: ConvergenceWarning: Objective did not converge. You might want to increase the number of iterations. Duality gap: 16816.386519869717, tolerance: 10.17312048989963\n",
      "  positive)\n",
      "/usr/local/lib/python3.7/dist-packages/sklearn/linear_model/_coordinate_descent.py:476: ConvergenceWarning: Objective did not converge. You might want to increase the number of iterations. Duality gap: 101.54937428455742, tolerance: 10.10010244131078\n",
      "  positive)\n",
      "/usr/local/lib/python3.7/dist-packages/sklearn/linear_model/_coordinate_descent.py:476: ConvergenceWarning: Objective did not converge. You might want to increase the number of iterations. Duality gap: 127.25942981736443, tolerance: 10.028541312714669\n",
      "  positive)\n",
      "/usr/local/lib/python3.7/dist-packages/sklearn/linear_model/_coordinate_descent.py:476: ConvergenceWarning: Objective did not converge. You might want to increase the number of iterations. Duality gap: 119.8894507127552, tolerance: 9.875836323249395\n",
      "  positive)\n",
      "/usr/local/lib/python3.7/dist-packages/sklearn/linear_model/_coordinate_descent.py:476: ConvergenceWarning: Objective did not converge. You might want to increase the number of iterations. Duality gap: 60.26472795489826, tolerance: 10.218880128003791\n",
      "  positive)\n",
      "/usr/local/lib/python3.7/dist-packages/sklearn/linear_model/_coordinate_descent.py:476: ConvergenceWarning: Objective did not converge. You might want to increase the number of iterations. Duality gap: 71.90531016468594, tolerance: 9.870571490414402\n",
      "  positive)\n",
      "/usr/local/lib/python3.7/dist-packages/sklearn/linear_model/_coordinate_descent.py:476: ConvergenceWarning: Objective did not converge. You might want to increase the number of iterations. Duality gap: 111.23612355127989, tolerance: 10.141479623023564\n",
      "  positive)\n",
      "/usr/local/lib/python3.7/dist-packages/sklearn/linear_model/_coordinate_descent.py:476: ConvergenceWarning: Objective did not converge. You might want to increase the number of iterations. Duality gap: 128.36896401437116, tolerance: 9.867582057597899\n",
      "  positive)\n",
      "/usr/local/lib/python3.7/dist-packages/sklearn/linear_model/_coordinate_descent.py:476: ConvergenceWarning: Objective did not converge. You might want to increase the number of iterations. Duality gap: 100.40041157696396, tolerance: 10.147217687642138\n",
      "  positive)\n",
      "/usr/local/lib/python3.7/dist-packages/sklearn/linear_model/_coordinate_descent.py:476: ConvergenceWarning: Objective did not converge. You might want to increase the number of iterations. Duality gap: 115.27963082792121, tolerance: 10.418683376855292\n",
      "  positive)\n",
      "/usr/local/lib/python3.7/dist-packages/sklearn/linear_model/_coordinate_descent.py:476: ConvergenceWarning: Objective did not converge. You might want to increase the number of iterations. Duality gap: 139.8213675327861, tolerance: 10.363141089846643\n",
      "  positive)\n",
      "/usr/local/lib/python3.7/dist-packages/sklearn/linear_model/_coordinate_descent.py:476: ConvergenceWarning: Objective did not converge. You might want to increase the number of iterations. Duality gap: 86.32452977130015, tolerance: 9.991055712341979\n",
      "  positive)\n",
      "/usr/local/lib/python3.7/dist-packages/sklearn/linear_model/_coordinate_descent.py:476: ConvergenceWarning: Objective did not converge. You might want to increase the number of iterations. Duality gap: 79.4785936975095, tolerance: 10.292266936492375\n",
      "  positive)\n",
      "/usr/local/lib/python3.7/dist-packages/sklearn/linear_model/_coordinate_descent.py:476: ConvergenceWarning: Objective did not converge. You might want to increase the number of iterations. Duality gap: 45.250422306591645, tolerance: 9.856931791904875\n",
      "  positive)\n",
      "/usr/local/lib/python3.7/dist-packages/sklearn/linear_model/_coordinate_descent.py:476: ConvergenceWarning: Objective did not converge. You might want to increase the number of iterations. Duality gap: 76.90619290464383, tolerance: 10.086235364862725\n",
      "  positive)\n",
      "/usr/local/lib/python3.7/dist-packages/sklearn/linear_model/_coordinate_descent.py:476: ConvergenceWarning: Objective did not converge. You might want to increase the number of iterations. Duality gap: 89.14841605399852, tolerance: 10.17312048989963\n",
      "  positive)\n"
     ]
    },
    {
     "name": "stdout",
     "output_type": "stream",
     "text": [
      "best mean cross-validation score: 0.804\n",
      "best parameters: {'alpha': 1, 'max_iter': 100000000}\n",
      "test-set score: 0.744\n"
     ]
    }
   ],
   "source": [
    "# Lasso Gridsearch CV \n",
    "param_grid = {'alpha': [1, 1000], 'max_iter': [1, 100000000]}\n",
    "grid = GridSearchCV(Lasso(), param_grid, cv = 15)\n",
    "grid.fit(X_train, y_train)\n",
    "print(\"best mean cross-validation score: {:.3f}\".format(grid.best_score_))\n",
    "print(\"best parameters: {}\".format(grid.best_params_))\n",
    "print(\"test-set score: {:.3f}\".format(grid.score(X_test, y_test)))"
   ]
  },
  {
   "cell_type": "code",
   "execution_count": 29,
   "metadata": {
    "colab": {
     "base_uri": "https://localhost:8080/"
    },
    "id": "Cyv6T1Ds8xtd",
    "outputId": "7816a0fb-7621-4581-bc54-a2f3b429721a"
   },
   "outputs": [
    {
     "name": "stderr",
     "output_type": "stream",
     "text": [
      "/usr/local/lib/python3.7/dist-packages/sklearn/linear_model/_coordinate_descent.py:476: ConvergenceWarning: Objective did not converge. You might want to increase the number of iterations. Duality gap: 21777.504309344717, tolerance: 10.10010244131078\n",
      "  positive)\n",
      "/usr/local/lib/python3.7/dist-packages/sklearn/linear_model/_coordinate_descent.py:476: ConvergenceWarning: Objective did not converge. You might want to increase the number of iterations. Duality gap: 21379.738572402115, tolerance: 10.028541312714669\n",
      "  positive)\n",
      "/usr/local/lib/python3.7/dist-packages/sklearn/linear_model/_coordinate_descent.py:476: ConvergenceWarning: Objective did not converge. You might want to increase the number of iterations. Duality gap: 20823.64312036013, tolerance: 9.875836323249395\n",
      "  positive)\n",
      "/usr/local/lib/python3.7/dist-packages/sklearn/linear_model/_coordinate_descent.py:476: ConvergenceWarning: Objective did not converge. You might want to increase the number of iterations. Duality gap: 21886.05024568467, tolerance: 10.218880128003791\n",
      "  positive)\n",
      "/usr/local/lib/python3.7/dist-packages/sklearn/linear_model/_coordinate_descent.py:476: ConvergenceWarning: Objective did not converge. You might want to increase the number of iterations. Duality gap: 21046.860069803006, tolerance: 9.870571490414402\n",
      "  positive)\n",
      "/usr/local/lib/python3.7/dist-packages/sklearn/linear_model/_coordinate_descent.py:476: ConvergenceWarning: Objective did not converge. You might want to increase the number of iterations. Duality gap: 21748.57759177123, tolerance: 10.141479623023564\n",
      "  positive)\n",
      "/usr/local/lib/python3.7/dist-packages/sklearn/linear_model/_coordinate_descent.py:476: ConvergenceWarning: Objective did not converge. You might want to increase the number of iterations. Duality gap: 21127.513939308796, tolerance: 9.867582057597899\n",
      "  positive)\n",
      "/usr/local/lib/python3.7/dist-packages/sklearn/linear_model/_coordinate_descent.py:476: ConvergenceWarning: Objective did not converge. You might want to increase the number of iterations. Duality gap: 21654.99726967292, tolerance: 10.147217687642138\n",
      "  positive)\n",
      "/usr/local/lib/python3.7/dist-packages/sklearn/linear_model/_coordinate_descent.py:476: ConvergenceWarning: Objective did not converge. You might want to increase the number of iterations. Duality gap: 22024.467853453745, tolerance: 10.418683376855292\n",
      "  positive)\n",
      "/usr/local/lib/python3.7/dist-packages/sklearn/linear_model/_coordinate_descent.py:476: ConvergenceWarning: Objective did not converge. You might want to increase the number of iterations. Duality gap: 22115.684792384563, tolerance: 10.363141089846643\n",
      "  positive)\n",
      "/usr/local/lib/python3.7/dist-packages/sklearn/linear_model/_coordinate_descent.py:476: ConvergenceWarning: Objective did not converge. You might want to increase the number of iterations. Duality gap: 21320.084701477084, tolerance: 9.991055712341979\n",
      "  positive)\n",
      "/usr/local/lib/python3.7/dist-packages/sklearn/linear_model/_coordinate_descent.py:476: ConvergenceWarning: Objective did not converge. You might want to increase the number of iterations. Duality gap: 22362.622496193035, tolerance: 10.292266936492375\n",
      "  positive)\n",
      "/usr/local/lib/python3.7/dist-packages/sklearn/linear_model/_coordinate_descent.py:476: ConvergenceWarning: Objective did not converge. You might want to increase the number of iterations. Duality gap: 21185.229794094004, tolerance: 9.856931791904875\n",
      "  positive)\n",
      "/usr/local/lib/python3.7/dist-packages/sklearn/linear_model/_coordinate_descent.py:476: ConvergenceWarning: Objective did not converge. You might want to increase the number of iterations. Duality gap: 21554.271473043835, tolerance: 10.086235364862725\n",
      "  positive)\n",
      "/usr/local/lib/python3.7/dist-packages/sklearn/linear_model/_coordinate_descent.py:476: ConvergenceWarning: Objective did not converge. You might want to increase the number of iterations. Duality gap: 21553.80162977962, tolerance: 10.17312048989963\n",
      "  positive)\n"
     ]
    },
    {
     "name": "stdout",
     "output_type": "stream",
     "text": [
      "best mean cross-validation score: 0.798\n",
      "best parameters: {'alpha': 1, 'max_iter': 100000}\n",
      "test-set score: 0.742\n"
     ]
    }
   ],
   "source": [
    "# Tuning Lasso with scaled\n",
    "param_grid = {'alpha': [1, 1000], 'max_iter': [1, 100000]}\n",
    "grid = GridSearchCV(Lasso(), param_grid, cv = 15)\n",
    "grid.fit(X_train_scaled, y_train)\n",
    "print(\"best mean cross-validation score: {:.3f}\".format(grid.best_score_))\n",
    "print(\"best parameters: {}\".format(grid.best_params_))\n",
    "print(\"test-set score: {:.3f}\".format(grid.score(X_test_scaled, y_test)))"
   ]
  },
  {
   "cell_type": "code",
   "execution_count": null,
   "metadata": {
    "colab": {
     "base_uri": "https://localhost:8080/"
    },
    "id": "IPxBxB4Ph-Sa",
    "outputId": "469c378f-feb9-4810-80ae-af59989edeea"
   },
   "outputs": [
    {
     "name": "stdout",
     "output_type": "stream",
     "text": [
      "Training set score: 0.82\n",
      "Test set score: 0.72\n",
      "Number of features used: 6\n"
     ]
    }
   ],
   "source": [
    "# Lasso alpha = 10\n",
    "lasso_tuned = Lasso(alpha = 10, max_iter = 100).fit(X_train, y_train)\n",
    "print(\"Training set score: {:.2f}\".format(lasso_tuned.score(X_train, y_train)))\n",
    "print(\"Test set score: {:.2f}\".format(lasso_tuned.score(X_test, y_test)))\n",
    "print(\"Number of features used: {}\".format(np.sum(lasso_tuned.coef_ != 0)))"
   ]
  },
  {
   "cell_type": "code",
   "execution_count": null,
   "metadata": {
    "colab": {
     "base_uri": "https://localhost:8080/"
    },
    "id": "zxVGFY4Lj9IK",
    "outputId": "31c36987-62eb-4252-8ed9-d8bc874f3272"
   },
   "outputs": [
    {
     "name": "stdout",
     "output_type": "stream",
     "text": [
      "Training set score: 0.49\n",
      "Test set score: 0.43\n",
      "Number of features used: 1\n"
     ]
    }
   ],
   "source": [
    "# Lasso scaled and tuned\n",
    "lasso_tuned2 = Lasso(alpha = 10, max_iter = 100).fit(X_train_scaled, y_train)\n",
    "print(\"Training set score: {:.2f}\".format(lasso_tuned2.score(X_train_scaled, y_train)))\n",
    "print(\"Test set score: {:.2f}\".format(lasso_tuned2.score(X_test_scaled, y_test)))\n",
    "print(\"Number of features used: {}\".format(np.sum(lasso_tuned2.coef_ != 0)))"
   ]
  },
  {
   "cell_type": "markdown",
   "metadata": {
    "id": "WUl3xrZ3eHkU"
   },
   "source": [
    "**Tuning by increasing alpha improves Lasso score, but not scaled**"
   ]
  },
  {
   "cell_type": "markdown",
   "metadata": {
    "id": "qPNjkNk4I1WM"
   },
   "source": [
    "## 1.5 Compare the coefficients of your two best linear models (not knn), do they agree on which features are important?\n"
   ]
  },
  {
   "cell_type": "code",
   "execution_count": null,
   "metadata": {
    "colab": {
     "base_uri": "https://localhost:8080/"
    },
    "id": "MZ3UvJHAgy0x",
    "outputId": "feb98022-309b-492e-cd13-cfb0b41cc766"
   },
   "outputs": [
    {
     "data": {
      "text/plain": [
       "array([  4.66984614,  -5.98124212,  -0.99043965, -10.2064311 ,\n",
       "         1.42681763,   0.38292197,   1.20358627,  -0.48441275,\n",
       "         3.76970421,  -4.01397992])"
      ]
     },
     "execution_count": 31,
     "metadata": {},
     "output_type": "execute_result"
    }
   ],
   "source": [
    "lr.coef_"
   ]
  },
  {
   "cell_type": "code",
   "execution_count": null,
   "metadata": {
    "colab": {
     "base_uri": "https://localhost:8080/"
    },
    "id": "lZWcdYTIg7t2",
    "outputId": "f94c7bcf-a48b-469a-d6bd-256eb5b6da13"
   },
   "outputs": [
    {
     "data": {
      "text/plain": [
       "array([-0.00055531, -0.        , -0.        , -0.51123605,  0.00480717,\n",
       "        0.        ,  0.00374504, -0.        ,  0.10154106, -0.12938137])"
      ]
     },
     "execution_count": 32,
     "metadata": {},
     "output_type": "execute_result"
    }
   ],
   "source": [
    "lasso_tuned.coef_"
   ]
  },
  {
   "cell_type": "code",
   "execution_count": null,
   "metadata": {
    "colab": {
     "base_uri": "https://localhost:8080/"
    },
    "id": "60ybBaOYg9oA",
    "outputId": "b1b44463-6808-42f2-f731-b5ea669bee26"
   },
   "outputs": [
    {
     "data": {
      "text/plain": [
       "array([-0.14706884, -0.65639799, -1.47292229, -9.27650008,  0.9048331 ,\n",
       "        0.47246612,  1.18568776, -0.33469443,  3.93263723, -4.29797339])"
      ]
     },
     "execution_count": 33,
     "metadata": {},
     "output_type": "execute_result"
    }
   ],
   "source": [
    "ridge_tuned2.coef_"
   ]
  },
  {
   "cell_type": "markdown",
   "metadata": {
    "id": "_xeDOvwsmPJ_"
   },
   "source": [
    "Tuning the Lasso regression improves the model score, but both tuning and scaling the Lasso regression does not help the model. The tuned Lasso model zeroes out 4 of the coefficients. The best two linear models are Linear Regression and Ridge regression. The coefficients for both of these linear models relatively agree on the important features."
   ]
  },
  {
   "cell_type": "markdown",
   "metadata": {
    "id": "qBkSWW3xI3rS"
   },
   "source": [
    "## 1.6 Discuss which final model you would choose to predict new data\n",
    "The Linear Regression model and Ridge Regression model produce similar scores. However, the cross validation score indicates that the Ridge Regression model is slightly better. Therefore, I would use the Ridge model to predict new data"
   ]
  },
  {
   "cell_type": "markdown",
   "metadata": {
    "id": "fX4hFeAN9AhP"
   },
   "source": [
    "# Part 2: Classification on red and white wine characteristics\n",
    "\n",
    "\n"
   ]
  },
  {
   "cell_type": "markdown",
   "metadata": {
    "id": "h3Kc1G2Otwdi"
   },
   "source": [
    "## Load in datasets"
   ]
  },
  {
   "cell_type": "code",
   "execution_count": null,
   "metadata": {
    "colab": {
     "base_uri": "https://localhost:8080/",
     "height": 204
    },
    "id": "1oTArrLQscgM",
    "outputId": "3bacf9c1-492e-46e2-f3e5-3e7fefe9586c"
   },
   "outputs": [
    {
     "data": {
      "text/html": [
       "<div>\n",
       "<style scoped>\n",
       "    .dataframe tbody tr th:only-of-type {\n",
       "        vertical-align: middle;\n",
       "    }\n",
       "\n",
       "    .dataframe tbody tr th {\n",
       "        vertical-align: top;\n",
       "    }\n",
       "\n",
       "    .dataframe thead th {\n",
       "        text-align: right;\n",
       "    }\n",
       "</style>\n",
       "<table border=\"1\" class=\"dataframe\">\n",
       "  <thead>\n",
       "    <tr style=\"text-align: right;\">\n",
       "      <th></th>\n",
       "      <th>fixed acidity</th>\n",
       "      <th>volatile acidity</th>\n",
       "      <th>citric acid</th>\n",
       "      <th>residual sugar</th>\n",
       "      <th>chlorides</th>\n",
       "      <th>free sulfur dioxide</th>\n",
       "      <th>total sulfur dioxide</th>\n",
       "      <th>density</th>\n",
       "      <th>pH</th>\n",
       "      <th>sulphates</th>\n",
       "      <th>alcohol</th>\n",
       "      <th>quality</th>\n",
       "    </tr>\n",
       "  </thead>\n",
       "  <tbody>\n",
       "    <tr>\n",
       "      <th>0</th>\n",
       "      <td>7.4</td>\n",
       "      <td>0.70</td>\n",
       "      <td>0.00</td>\n",
       "      <td>1.9</td>\n",
       "      <td>0.076</td>\n",
       "      <td>11.0</td>\n",
       "      <td>34.0</td>\n",
       "      <td>0.9978</td>\n",
       "      <td>3.51</td>\n",
       "      <td>0.56</td>\n",
       "      <td>9.4</td>\n",
       "      <td>5</td>\n",
       "    </tr>\n",
       "    <tr>\n",
       "      <th>1</th>\n",
       "      <td>7.8</td>\n",
       "      <td>0.88</td>\n",
       "      <td>0.00</td>\n",
       "      <td>2.6</td>\n",
       "      <td>0.098</td>\n",
       "      <td>25.0</td>\n",
       "      <td>67.0</td>\n",
       "      <td>0.9968</td>\n",
       "      <td>3.20</td>\n",
       "      <td>0.68</td>\n",
       "      <td>9.8</td>\n",
       "      <td>5</td>\n",
       "    </tr>\n",
       "    <tr>\n",
       "      <th>2</th>\n",
       "      <td>7.8</td>\n",
       "      <td>0.76</td>\n",
       "      <td>0.04</td>\n",
       "      <td>2.3</td>\n",
       "      <td>0.092</td>\n",
       "      <td>15.0</td>\n",
       "      <td>54.0</td>\n",
       "      <td>0.9970</td>\n",
       "      <td>3.26</td>\n",
       "      <td>0.65</td>\n",
       "      <td>9.8</td>\n",
       "      <td>5</td>\n",
       "    </tr>\n",
       "    <tr>\n",
       "      <th>3</th>\n",
       "      <td>11.2</td>\n",
       "      <td>0.28</td>\n",
       "      <td>0.56</td>\n",
       "      <td>1.9</td>\n",
       "      <td>0.075</td>\n",
       "      <td>17.0</td>\n",
       "      <td>60.0</td>\n",
       "      <td>0.9980</td>\n",
       "      <td>3.16</td>\n",
       "      <td>0.58</td>\n",
       "      <td>9.8</td>\n",
       "      <td>6</td>\n",
       "    </tr>\n",
       "    <tr>\n",
       "      <th>4</th>\n",
       "      <td>7.4</td>\n",
       "      <td>0.70</td>\n",
       "      <td>0.00</td>\n",
       "      <td>1.9</td>\n",
       "      <td>0.076</td>\n",
       "      <td>11.0</td>\n",
       "      <td>34.0</td>\n",
       "      <td>0.9978</td>\n",
       "      <td>3.51</td>\n",
       "      <td>0.56</td>\n",
       "      <td>9.4</td>\n",
       "      <td>5</td>\n",
       "    </tr>\n",
       "  </tbody>\n",
       "</table>\n",
       "</div>"
      ],
      "text/plain": [
       "   fixed acidity  volatile acidity  citric acid  ...  sulphates  alcohol  quality\n",
       "0            7.4              0.70         0.00  ...       0.56      9.4        5\n",
       "1            7.8              0.88         0.00  ...       0.68      9.8        5\n",
       "2            7.8              0.76         0.04  ...       0.65      9.8        5\n",
       "3           11.2              0.28         0.56  ...       0.58      9.8        6\n",
       "4            7.4              0.70         0.00  ...       0.56      9.4        5\n",
       "\n",
       "[5 rows x 12 columns]"
      ]
     },
     "execution_count": 34,
     "metadata": {},
     "output_type": "execute_result"
    }
   ],
   "source": [
    "# load red wine data\n",
    "red_wine = pd.read_csv(\"winequality-red.csv\", sep=';')\n",
    "red_wine.head()"
   ]
  },
  {
   "cell_type": "code",
   "execution_count": null,
   "metadata": {
    "colab": {
     "base_uri": "https://localhost:8080/",
     "height": 204
    },
    "id": "vqmFfpXKszSY",
    "outputId": "d9a07fda-f618-4a5d-fa6e-7cfd61263807"
   },
   "outputs": [
    {
     "data": {
      "text/html": [
       "<div>\n",
       "<style scoped>\n",
       "    .dataframe tbody tr th:only-of-type {\n",
       "        vertical-align: middle;\n",
       "    }\n",
       "\n",
       "    .dataframe tbody tr th {\n",
       "        vertical-align: top;\n",
       "    }\n",
       "\n",
       "    .dataframe thead th {\n",
       "        text-align: right;\n",
       "    }\n",
       "</style>\n",
       "<table border=\"1\" class=\"dataframe\">\n",
       "  <thead>\n",
       "    <tr style=\"text-align: right;\">\n",
       "      <th></th>\n",
       "      <th>fixed acidity</th>\n",
       "      <th>volatile acidity</th>\n",
       "      <th>citric acid</th>\n",
       "      <th>residual sugar</th>\n",
       "      <th>chlorides</th>\n",
       "      <th>free sulfur dioxide</th>\n",
       "      <th>total sulfur dioxide</th>\n",
       "      <th>density</th>\n",
       "      <th>pH</th>\n",
       "      <th>sulphates</th>\n",
       "      <th>alcohol</th>\n",
       "      <th>quality</th>\n",
       "      <th>winetype</th>\n",
       "    </tr>\n",
       "  </thead>\n",
       "  <tbody>\n",
       "    <tr>\n",
       "      <th>0</th>\n",
       "      <td>7.4</td>\n",
       "      <td>0.70</td>\n",
       "      <td>0.00</td>\n",
       "      <td>1.9</td>\n",
       "      <td>0.076</td>\n",
       "      <td>11.0</td>\n",
       "      <td>34.0</td>\n",
       "      <td>0.9978</td>\n",
       "      <td>3.51</td>\n",
       "      <td>0.56</td>\n",
       "      <td>9.4</td>\n",
       "      <td>5</td>\n",
       "      <td>1</td>\n",
       "    </tr>\n",
       "    <tr>\n",
       "      <th>1</th>\n",
       "      <td>7.8</td>\n",
       "      <td>0.88</td>\n",
       "      <td>0.00</td>\n",
       "      <td>2.6</td>\n",
       "      <td>0.098</td>\n",
       "      <td>25.0</td>\n",
       "      <td>67.0</td>\n",
       "      <td>0.9968</td>\n",
       "      <td>3.20</td>\n",
       "      <td>0.68</td>\n",
       "      <td>9.8</td>\n",
       "      <td>5</td>\n",
       "      <td>1</td>\n",
       "    </tr>\n",
       "    <tr>\n",
       "      <th>2</th>\n",
       "      <td>7.8</td>\n",
       "      <td>0.76</td>\n",
       "      <td>0.04</td>\n",
       "      <td>2.3</td>\n",
       "      <td>0.092</td>\n",
       "      <td>15.0</td>\n",
       "      <td>54.0</td>\n",
       "      <td>0.9970</td>\n",
       "      <td>3.26</td>\n",
       "      <td>0.65</td>\n",
       "      <td>9.8</td>\n",
       "      <td>5</td>\n",
       "      <td>1</td>\n",
       "    </tr>\n",
       "    <tr>\n",
       "      <th>3</th>\n",
       "      <td>11.2</td>\n",
       "      <td>0.28</td>\n",
       "      <td>0.56</td>\n",
       "      <td>1.9</td>\n",
       "      <td>0.075</td>\n",
       "      <td>17.0</td>\n",
       "      <td>60.0</td>\n",
       "      <td>0.9980</td>\n",
       "      <td>3.16</td>\n",
       "      <td>0.58</td>\n",
       "      <td>9.8</td>\n",
       "      <td>6</td>\n",
       "      <td>1</td>\n",
       "    </tr>\n",
       "    <tr>\n",
       "      <th>4</th>\n",
       "      <td>7.4</td>\n",
       "      <td>0.70</td>\n",
       "      <td>0.00</td>\n",
       "      <td>1.9</td>\n",
       "      <td>0.076</td>\n",
       "      <td>11.0</td>\n",
       "      <td>34.0</td>\n",
       "      <td>0.9978</td>\n",
       "      <td>3.51</td>\n",
       "      <td>0.56</td>\n",
       "      <td>9.4</td>\n",
       "      <td>5</td>\n",
       "      <td>1</td>\n",
       "    </tr>\n",
       "  </tbody>\n",
       "</table>\n",
       "</div>"
      ],
      "text/plain": [
       "   fixed acidity  volatile acidity  citric acid  ...  alcohol  quality  winetype\n",
       "0            7.4              0.70         0.00  ...      9.4        5         1\n",
       "1            7.8              0.88         0.00  ...      9.8        5         1\n",
       "2            7.8              0.76         0.04  ...      9.8        5         1\n",
       "3           11.2              0.28         0.56  ...      9.8        6         1\n",
       "4            7.4              0.70         0.00  ...      9.4        5         1\n",
       "\n",
       "[5 rows x 13 columns]"
      ]
     },
     "execution_count": 35,
     "metadata": {},
     "output_type": "execute_result"
    }
   ],
   "source": [
    "red_wine['winetype'] = 1\n",
    "red_wine.head()\n"
   ]
  },
  {
   "cell_type": "code",
   "execution_count": null,
   "metadata": {
    "colab": {
     "base_uri": "https://localhost:8080/",
     "height": 204
    },
    "id": "2GuwV9HTs3E9",
    "outputId": "ce17e79f-035e-4a81-aa67-d288386e321f"
   },
   "outputs": [
    {
     "data": {
      "text/html": [
       "<div>\n",
       "<style scoped>\n",
       "    .dataframe tbody tr th:only-of-type {\n",
       "        vertical-align: middle;\n",
       "    }\n",
       "\n",
       "    .dataframe tbody tr th {\n",
       "        vertical-align: top;\n",
       "    }\n",
       "\n",
       "    .dataframe thead th {\n",
       "        text-align: right;\n",
       "    }\n",
       "</style>\n",
       "<table border=\"1\" class=\"dataframe\">\n",
       "  <thead>\n",
       "    <tr style=\"text-align: right;\">\n",
       "      <th></th>\n",
       "      <th>fixed acidity</th>\n",
       "      <th>volatile acidity</th>\n",
       "      <th>citric acid</th>\n",
       "      <th>residual sugar</th>\n",
       "      <th>chlorides</th>\n",
       "      <th>free sulfur dioxide</th>\n",
       "      <th>total sulfur dioxide</th>\n",
       "      <th>density</th>\n",
       "      <th>pH</th>\n",
       "      <th>sulphates</th>\n",
       "      <th>alcohol</th>\n",
       "      <th>quality</th>\n",
       "    </tr>\n",
       "  </thead>\n",
       "  <tbody>\n",
       "    <tr>\n",
       "      <th>0</th>\n",
       "      <td>7.0</td>\n",
       "      <td>0.27</td>\n",
       "      <td>0.36</td>\n",
       "      <td>20.7</td>\n",
       "      <td>0.045</td>\n",
       "      <td>45.0</td>\n",
       "      <td>170.0</td>\n",
       "      <td>1.0010</td>\n",
       "      <td>3.00</td>\n",
       "      <td>0.45</td>\n",
       "      <td>8.8</td>\n",
       "      <td>6</td>\n",
       "    </tr>\n",
       "    <tr>\n",
       "      <th>1</th>\n",
       "      <td>6.3</td>\n",
       "      <td>0.30</td>\n",
       "      <td>0.34</td>\n",
       "      <td>1.6</td>\n",
       "      <td>0.049</td>\n",
       "      <td>14.0</td>\n",
       "      <td>132.0</td>\n",
       "      <td>0.9940</td>\n",
       "      <td>3.30</td>\n",
       "      <td>0.49</td>\n",
       "      <td>9.5</td>\n",
       "      <td>6</td>\n",
       "    </tr>\n",
       "    <tr>\n",
       "      <th>2</th>\n",
       "      <td>8.1</td>\n",
       "      <td>0.28</td>\n",
       "      <td>0.40</td>\n",
       "      <td>6.9</td>\n",
       "      <td>0.050</td>\n",
       "      <td>30.0</td>\n",
       "      <td>97.0</td>\n",
       "      <td>0.9951</td>\n",
       "      <td>3.26</td>\n",
       "      <td>0.44</td>\n",
       "      <td>10.1</td>\n",
       "      <td>6</td>\n",
       "    </tr>\n",
       "    <tr>\n",
       "      <th>3</th>\n",
       "      <td>7.2</td>\n",
       "      <td>0.23</td>\n",
       "      <td>0.32</td>\n",
       "      <td>8.5</td>\n",
       "      <td>0.058</td>\n",
       "      <td>47.0</td>\n",
       "      <td>186.0</td>\n",
       "      <td>0.9956</td>\n",
       "      <td>3.19</td>\n",
       "      <td>0.40</td>\n",
       "      <td>9.9</td>\n",
       "      <td>6</td>\n",
       "    </tr>\n",
       "    <tr>\n",
       "      <th>4</th>\n",
       "      <td>7.2</td>\n",
       "      <td>0.23</td>\n",
       "      <td>0.32</td>\n",
       "      <td>8.5</td>\n",
       "      <td>0.058</td>\n",
       "      <td>47.0</td>\n",
       "      <td>186.0</td>\n",
       "      <td>0.9956</td>\n",
       "      <td>3.19</td>\n",
       "      <td>0.40</td>\n",
       "      <td>9.9</td>\n",
       "      <td>6</td>\n",
       "    </tr>\n",
       "  </tbody>\n",
       "</table>\n",
       "</div>"
      ],
      "text/plain": [
       "   fixed acidity  volatile acidity  citric acid  ...  sulphates  alcohol  quality\n",
       "0            7.0              0.27         0.36  ...       0.45      8.8        6\n",
       "1            6.3              0.30         0.34  ...       0.49      9.5        6\n",
       "2            8.1              0.28         0.40  ...       0.44     10.1        6\n",
       "3            7.2              0.23         0.32  ...       0.40      9.9        6\n",
       "4            7.2              0.23         0.32  ...       0.40      9.9        6\n",
       "\n",
       "[5 rows x 12 columns]"
      ]
     },
     "execution_count": 36,
     "metadata": {},
     "output_type": "execute_result"
    }
   ],
   "source": [
    "white_wine = pd.read_csv(\"winequality-white.csv\", sep=';')\n",
    "white_wine.head()"
   ]
  },
  {
   "cell_type": "code",
   "execution_count": null,
   "metadata": {
    "colab": {
     "base_uri": "https://localhost:8080/",
     "height": 204
    },
    "id": "D-qMtxHVtPO2",
    "outputId": "d039a767-6cd1-4a13-ccdf-fa1e5a6658d7"
   },
   "outputs": [
    {
     "data": {
      "text/html": [
       "<div>\n",
       "<style scoped>\n",
       "    .dataframe tbody tr th:only-of-type {\n",
       "        vertical-align: middle;\n",
       "    }\n",
       "\n",
       "    .dataframe tbody tr th {\n",
       "        vertical-align: top;\n",
       "    }\n",
       "\n",
       "    .dataframe thead th {\n",
       "        text-align: right;\n",
       "    }\n",
       "</style>\n",
       "<table border=\"1\" class=\"dataframe\">\n",
       "  <thead>\n",
       "    <tr style=\"text-align: right;\">\n",
       "      <th></th>\n",
       "      <th>fixed acidity</th>\n",
       "      <th>volatile acidity</th>\n",
       "      <th>citric acid</th>\n",
       "      <th>residual sugar</th>\n",
       "      <th>chlorides</th>\n",
       "      <th>free sulfur dioxide</th>\n",
       "      <th>total sulfur dioxide</th>\n",
       "      <th>density</th>\n",
       "      <th>pH</th>\n",
       "      <th>sulphates</th>\n",
       "      <th>alcohol</th>\n",
       "      <th>quality</th>\n",
       "      <th>winetype</th>\n",
       "    </tr>\n",
       "  </thead>\n",
       "  <tbody>\n",
       "    <tr>\n",
       "      <th>0</th>\n",
       "      <td>7.0</td>\n",
       "      <td>0.27</td>\n",
       "      <td>0.36</td>\n",
       "      <td>20.7</td>\n",
       "      <td>0.045</td>\n",
       "      <td>45.0</td>\n",
       "      <td>170.0</td>\n",
       "      <td>1.0010</td>\n",
       "      <td>3.00</td>\n",
       "      <td>0.45</td>\n",
       "      <td>8.8</td>\n",
       "      <td>6</td>\n",
       "      <td>0</td>\n",
       "    </tr>\n",
       "    <tr>\n",
       "      <th>1</th>\n",
       "      <td>6.3</td>\n",
       "      <td>0.30</td>\n",
       "      <td>0.34</td>\n",
       "      <td>1.6</td>\n",
       "      <td>0.049</td>\n",
       "      <td>14.0</td>\n",
       "      <td>132.0</td>\n",
       "      <td>0.9940</td>\n",
       "      <td>3.30</td>\n",
       "      <td>0.49</td>\n",
       "      <td>9.5</td>\n",
       "      <td>6</td>\n",
       "      <td>0</td>\n",
       "    </tr>\n",
       "    <tr>\n",
       "      <th>2</th>\n",
       "      <td>8.1</td>\n",
       "      <td>0.28</td>\n",
       "      <td>0.40</td>\n",
       "      <td>6.9</td>\n",
       "      <td>0.050</td>\n",
       "      <td>30.0</td>\n",
       "      <td>97.0</td>\n",
       "      <td>0.9951</td>\n",
       "      <td>3.26</td>\n",
       "      <td>0.44</td>\n",
       "      <td>10.1</td>\n",
       "      <td>6</td>\n",
       "      <td>0</td>\n",
       "    </tr>\n",
       "    <tr>\n",
       "      <th>3</th>\n",
       "      <td>7.2</td>\n",
       "      <td>0.23</td>\n",
       "      <td>0.32</td>\n",
       "      <td>8.5</td>\n",
       "      <td>0.058</td>\n",
       "      <td>47.0</td>\n",
       "      <td>186.0</td>\n",
       "      <td>0.9956</td>\n",
       "      <td>3.19</td>\n",
       "      <td>0.40</td>\n",
       "      <td>9.9</td>\n",
       "      <td>6</td>\n",
       "      <td>0</td>\n",
       "    </tr>\n",
       "    <tr>\n",
       "      <th>4</th>\n",
       "      <td>7.2</td>\n",
       "      <td>0.23</td>\n",
       "      <td>0.32</td>\n",
       "      <td>8.5</td>\n",
       "      <td>0.058</td>\n",
       "      <td>47.0</td>\n",
       "      <td>186.0</td>\n",
       "      <td>0.9956</td>\n",
       "      <td>3.19</td>\n",
       "      <td>0.40</td>\n",
       "      <td>9.9</td>\n",
       "      <td>6</td>\n",
       "      <td>0</td>\n",
       "    </tr>\n",
       "  </tbody>\n",
       "</table>\n",
       "</div>"
      ],
      "text/plain": [
       "   fixed acidity  volatile acidity  citric acid  ...  alcohol  quality  winetype\n",
       "0            7.0              0.27         0.36  ...      8.8        6         0\n",
       "1            6.3              0.30         0.34  ...      9.5        6         0\n",
       "2            8.1              0.28         0.40  ...     10.1        6         0\n",
       "3            7.2              0.23         0.32  ...      9.9        6         0\n",
       "4            7.2              0.23         0.32  ...      9.9        6         0\n",
       "\n",
       "[5 rows x 13 columns]"
      ]
     },
     "execution_count": 37,
     "metadata": {},
     "output_type": "execute_result"
    }
   ],
   "source": [
    "white_wine['winetype'] = 0\n",
    "white_wine.head()"
   ]
  },
  {
   "cell_type": "code",
   "execution_count": null,
   "metadata": {
    "colab": {
     "base_uri": "https://localhost:8080/",
     "height": 204
    },
    "id": "32SgpDkZtXBr",
    "outputId": "718bd2d8-3794-483e-ee75-efaa7ac7a4fe"
   },
   "outputs": [
    {
     "data": {
      "text/html": [
       "<div>\n",
       "<style scoped>\n",
       "    .dataframe tbody tr th:only-of-type {\n",
       "        vertical-align: middle;\n",
       "    }\n",
       "\n",
       "    .dataframe tbody tr th {\n",
       "        vertical-align: top;\n",
       "    }\n",
       "\n",
       "    .dataframe thead th {\n",
       "        text-align: right;\n",
       "    }\n",
       "</style>\n",
       "<table border=\"1\" class=\"dataframe\">\n",
       "  <thead>\n",
       "    <tr style=\"text-align: right;\">\n",
       "      <th></th>\n",
       "      <th>fixed acidity</th>\n",
       "      <th>volatile acidity</th>\n",
       "      <th>citric acid</th>\n",
       "      <th>residual sugar</th>\n",
       "      <th>chlorides</th>\n",
       "      <th>free sulfur dioxide</th>\n",
       "      <th>total sulfur dioxide</th>\n",
       "      <th>density</th>\n",
       "      <th>pH</th>\n",
       "      <th>sulphates</th>\n",
       "      <th>alcohol</th>\n",
       "      <th>quality</th>\n",
       "      <th>winetype</th>\n",
       "    </tr>\n",
       "  </thead>\n",
       "  <tbody>\n",
       "    <tr>\n",
       "      <th>0</th>\n",
       "      <td>7.4</td>\n",
       "      <td>0.70</td>\n",
       "      <td>0.00</td>\n",
       "      <td>1.9</td>\n",
       "      <td>0.076</td>\n",
       "      <td>11.0</td>\n",
       "      <td>34.0</td>\n",
       "      <td>0.9978</td>\n",
       "      <td>3.51</td>\n",
       "      <td>0.56</td>\n",
       "      <td>9.4</td>\n",
       "      <td>5</td>\n",
       "      <td>1</td>\n",
       "    </tr>\n",
       "    <tr>\n",
       "      <th>1</th>\n",
       "      <td>7.8</td>\n",
       "      <td>0.88</td>\n",
       "      <td>0.00</td>\n",
       "      <td>2.6</td>\n",
       "      <td>0.098</td>\n",
       "      <td>25.0</td>\n",
       "      <td>67.0</td>\n",
       "      <td>0.9968</td>\n",
       "      <td>3.20</td>\n",
       "      <td>0.68</td>\n",
       "      <td>9.8</td>\n",
       "      <td>5</td>\n",
       "      <td>1</td>\n",
       "    </tr>\n",
       "    <tr>\n",
       "      <th>2</th>\n",
       "      <td>7.8</td>\n",
       "      <td>0.76</td>\n",
       "      <td>0.04</td>\n",
       "      <td>2.3</td>\n",
       "      <td>0.092</td>\n",
       "      <td>15.0</td>\n",
       "      <td>54.0</td>\n",
       "      <td>0.9970</td>\n",
       "      <td>3.26</td>\n",
       "      <td>0.65</td>\n",
       "      <td>9.8</td>\n",
       "      <td>5</td>\n",
       "      <td>1</td>\n",
       "    </tr>\n",
       "    <tr>\n",
       "      <th>3</th>\n",
       "      <td>11.2</td>\n",
       "      <td>0.28</td>\n",
       "      <td>0.56</td>\n",
       "      <td>1.9</td>\n",
       "      <td>0.075</td>\n",
       "      <td>17.0</td>\n",
       "      <td>60.0</td>\n",
       "      <td>0.9980</td>\n",
       "      <td>3.16</td>\n",
       "      <td>0.58</td>\n",
       "      <td>9.8</td>\n",
       "      <td>6</td>\n",
       "      <td>1</td>\n",
       "    </tr>\n",
       "    <tr>\n",
       "      <th>4</th>\n",
       "      <td>7.4</td>\n",
       "      <td>0.70</td>\n",
       "      <td>0.00</td>\n",
       "      <td>1.9</td>\n",
       "      <td>0.076</td>\n",
       "      <td>11.0</td>\n",
       "      <td>34.0</td>\n",
       "      <td>0.9978</td>\n",
       "      <td>3.51</td>\n",
       "      <td>0.56</td>\n",
       "      <td>9.4</td>\n",
       "      <td>5</td>\n",
       "      <td>1</td>\n",
       "    </tr>\n",
       "  </tbody>\n",
       "</table>\n",
       "</div>"
      ],
      "text/plain": [
       "   fixed acidity  volatile acidity  citric acid  ...  alcohol  quality  winetype\n",
       "0            7.4              0.70         0.00  ...      9.4        5         1\n",
       "1            7.8              0.88         0.00  ...      9.8        5         1\n",
       "2            7.8              0.76         0.04  ...      9.8        5         1\n",
       "3           11.2              0.28         0.56  ...      9.8        6         1\n",
       "4            7.4              0.70         0.00  ...      9.4        5         1\n",
       "\n",
       "[5 rows x 13 columns]"
      ]
     },
     "execution_count": 38,
     "metadata": {},
     "output_type": "execute_result"
    }
   ],
   "source": [
    "# merge datasets\n",
    "wine = pd.concat([red_wine, white_wine], axis = 0)\n",
    "wine.head()"
   ]
  },
  {
   "cell_type": "code",
   "execution_count": null,
   "metadata": {
    "colab": {
     "base_uri": "https://localhost:8080/"
    },
    "id": "9SAVCQwqtpID",
    "outputId": "04d4e811-5f7e-46ed-d72f-aadd93380c21"
   },
   "outputs": [
    {
     "data": {
      "text/plain": [
       "(6497, 13)"
      ]
     },
     "execution_count": 39,
     "metadata": {},
     "output_type": "execute_result"
    }
   ],
   "source": [
    "wine.shape # check"
   ]
  },
  {
   "cell_type": "code",
   "execution_count": null,
   "metadata": {
    "colab": {
     "base_uri": "https://localhost:8080/"
    },
    "id": "YH_Q1CqivDbZ",
    "outputId": "d53540bd-b4be-405c-9540-673fb078b0b6"
   },
   "outputs": [
    {
     "data": {
      "text/plain": [
       "Index(['fixed acidity', 'volatile acidity', 'citric acid', 'residual sugar',\n",
       "       'chlorides', 'free sulfur dioxide', 'total sulfur dioxide', 'density',\n",
       "       'pH', 'sulphates', 'alcohol', 'quality', 'winetype'],\n",
       "      dtype='object')"
      ]
     },
     "execution_count": 40,
     "metadata": {},
     "output_type": "execute_result"
    }
   ],
   "source": [
    "#check variable names\n",
    "wine.columns"
   ]
  },
  {
   "cell_type": "markdown",
   "metadata": {
    "id": "rrNefSV9tzav"
   },
   "source": [
    "## 2.1 Visualize the univariate distribution of the target feature and each of the three explanatory variables that you think are likely to have a relationship with the target feature. "
   ]
  },
  {
   "cell_type": "code",
   "execution_count": null,
   "metadata": {
    "colab": {
     "base_uri": "https://localhost:8080/",
     "height": 1000
    },
    "id": "0W2dAueFt2P1",
    "outputId": "4caf6eca-b4cd-471d-fa9a-fcbb9a41617d"
   },
   "outputs": [
    {
     "data": {
      "image/png": "[encoded data removed]",
      "text/plain": [
       "<Figure size 432x288 with 1 Axes>"
      ]
     },
     "metadata": {
      "needs_background": "light"
     },
     "output_type": "display_data"
    },
    {
     "data": {
      "image/png": "[encoded data removed]",
      "text/plain": [
       "<Figure size 432x288 with 1 Axes>"
      ]
     },
     "metadata": {
      "needs_background": "light"
     },
     "output_type": "display_data"
    },
    {
     "data": {
      "image/png": "[encoded data removed]",
      "text/plain": [
       "<Figure size 432x288 with 1 Axes>"
      ]
     },
     "metadata": {
      "needs_background": "light"
     },
     "output_type": "display_data"
    },
    {
     "data": {
      "image/png": "[encoded data removed]",
      "text/plain": [
       "<Figure size 432x288 with 1 Axes>"
      ]
     },
     "metadata": {
      "needs_background": "light"
     },
     "output_type": "display_data"
    }
   ],
   "source": [
    "# distribution of winetype\n",
    "plt.hist(wine['winetype'])\n",
    "plt.title('Distribution of Wine Type')\n",
    "plt.show()\n",
    "\n",
    "# distribution of fixed acidity\n",
    "plt.hist(wine['fixed acidity'], color = 'pink')\n",
    "plt.title('Distribution of Fixed Acidity')\n",
    "plt.show()\n",
    "\n",
    "# distribution of total sulfur dioxide\n",
    "plt.hist(wine['total sulfur dioxide'], color = 'purple')\n",
    "plt.title('Distribution of Total Sulfar Dioxide')\n",
    "plt.show()\n",
    "\n",
    "# distribution of sulphates\n",
    "plt.hist(wine['sulphates'], color = 'green')\n",
    "plt.title('Distribution of Sulphates')\n",
    "plt.show()\n"
   ]
  },
  {
   "cell_type": "markdown",
   "metadata": {
    "id": "Q2JfaRLut4zN"
   },
   "source": [
    "## 2.2 Split data into training and test set. Build models that evaluate the relationship between all available X variables in the dataset and the target variable. Evaluate Logistic Regression, Penalized Logistic Regression, and KNN for classification using cross-validation. How different are the results? How does scaling the data with StandardScaler influence the results?"
   ]
  },
  {
   "cell_type": "code",
   "execution_count": null,
   "metadata": {
    "id": "I05z6ZpKw--x"
   },
   "outputs": [],
   "source": [
    "# set up data for train, test, split\n",
    "y = wine['winetype']\n",
    "X = wine.loc[:, wine.columns != 'winetype'] # get rid of y data \n",
    "\n",
    "X_train, X_test, y_train, y_test = train_test_split(X, y, random_state = 1)"
   ]
  },
  {
   "cell_type": "markdown",
   "metadata": {
    "id": "hKCNxvVTynPE"
   },
   "source": [
    "### Logistic Regression"
   ]
  },
  {
   "cell_type": "code",
   "execution_count": null,
   "metadata": {
    "colab": {
     "base_uri": "https://localhost:8080/"
    },
    "id": "ZMhlVlSTy4wJ",
    "outputId": "6b0ba735-bc2a-41ef-9c63-a1b4ea9de2d6"
   },
   "outputs": [
    {
     "name": "stdout",
     "output_type": "stream",
     "text": [
      "Training set score: 0.994\n",
      "Test set score: 0.990\n",
      "logreg.coef_: [[-2.35348603e-01  7.85915421e+00 -3.03793433e+00 -1.15583324e+00\n",
      "   2.46089840e+01  8.14844577e-02 -6.80425322e-02  1.87083236e+03\n",
      "  -1.58012105e+00  4.71347838e+00  1.81862744e+00  3.94731195e-01]]\n"
     ]
    }
   ],
   "source": [
    "from sklearn.linear_model import LogisticRegression\n",
    "logreg = LogisticRegression(C=1e90, max_iter=10000000).fit(X_train, y_train) # no penalty\n",
    "print(\"Training set score: {:.3f}\".format(logreg.score(X_train, y_train)))\n",
    "print(\"Test set score: {:.3f}\".format(logreg.score(X_test, y_test)))\n",
    "print(\"logreg.coef_: {}\".format(logreg.coef_))\n"
   ]
  },
  {
   "cell_type": "markdown",
   "metadata": {
    "id": "vW5NGMhh1vnT"
   },
   "source": [
    "### Standard Scaler"
   ]
  },
  {
   "cell_type": "code",
   "execution_count": null,
   "metadata": {
    "id": "tOiZHyT_16gr"
   },
   "outputs": [],
   "source": [
    "# preprocess by scaling\n",
    "from sklearn import preprocessing\n",
    "from sklearn.preprocessing import StandardScaler\n",
    "scaler = preprocessing.StandardScaler()\n",
    "scaler = StandardScaler().fit(X_train)\n",
    "scaler.fit(X_train)\n",
    "X_train_scaled = scaler.transform(X_train)\n",
    "X_test_scaled = scaler.transform(X_test)"
   ]
  },
  {
   "cell_type": "markdown",
   "metadata": {
    "id": "FxOwfe_B199b"
   },
   "source": [
    "### Logistic Regression with Standard Scaler"
   ]
  },
  {
   "cell_type": "code",
   "execution_count": null,
   "metadata": {
    "colab": {
     "base_uri": "https://localhost:8080/"
    },
    "id": "hdKybpR82Aj9",
    "outputId": "c4b2eb6b-9a40-444e-b0aa-d347ba90bfe2"
   },
   "outputs": [
    {
     "name": "stdout",
     "output_type": "stream",
     "text": [
      "Training set score: 0.994\n",
      "Test set score: 0.990\n",
      "logreg.coef_: [[-0.2844026   1.29001119 -0.43946222 -5.44851597  0.88402537  1.45639604\n",
      "  -3.85099787  5.56095625 -0.22759945  0.6994337   2.14466642  0.34360539]]\n"
     ]
    }
   ],
   "source": [
    "logreg = LogisticRegression(C=1e90, max_iter=10000000).fit(X_train_scaled, y_train) # no penalty\n",
    "print(\"Training set score: {:.3f}\".format(logreg.score(X_train_scaled, y_train)))\n",
    "print(\"Test set score: {:.3f}\".format(logreg.score(X_test_scaled, y_test)))\n",
    "print(\"logreg.coef_: {}\".format(logreg.coef_))"
   ]
  },
  {
   "cell_type": "markdown",
   "metadata": {
    "id": "huSw6zjw2NLY"
   },
   "source": [
    "**Standard Scaler keeps Logistic Regression score same**\n",
    "\n"
   ]
  },
  {
   "cell_type": "markdown",
   "metadata": {
    "id": "S-fbBGUG1VD8"
   },
   "source": [
    "## 9. Choose a second model from question four.  Using the same three variables in the dataset that you think will be good predictors of \"spam\".\n",
    "\n",
    "### Penalized Logistic Regression"
   ]
  },
  {
   "cell_type": "code",
   "execution_count": null,
   "metadata": {
    "colab": {
     "base_uri": "https://localhost:8080/"
    },
    "id": "dEPLKgVM2VCO",
    "outputId": "ba604043-f5bc-4fa1-8db5-ecf002f46fb9"
   },
   "outputs": [
    {
     "name": "stdout",
     "output_type": "stream",
     "text": [
      "Training set score: 0.987\n",
      "Test set score: 0.985\n",
      "penlogreg .coef_: [[ 1.30188016e+00  1.12694121e+01 -6.19192944e-01 -1.20065036e-01\n",
      "   8.70395224e+00  4.90370070e-02 -6.56082530e-02  6.83004841e-01\n",
      "   7.50448881e+00  8.89405511e+00 -5.35431414e-01 -8.83135546e-03]]\n"
     ]
    }
   ],
   "source": [
    "penlogreg = LogisticRegression(C=5, penalty='l2', max_iter=100000000).fit(X_train, y_train)\n",
    "print(\"Training set score: {:.3f}\".format(penlogreg.score(X_train, y_train)))\n",
    "print(\"Test set score: {:.3f}\".format(penlogreg.score(X_test, y_test)))\n",
    "print(\"penlogreg .coef_: {}\".format(penlogreg .coef_))"
   ]
  },
  {
   "cell_type": "markdown",
   "metadata": {
    "id": "S4xMgoLN2vny"
   },
   "source": [
    "### Penalized Logistic Regression with Standard Scaler"
   ]
  },
  {
   "cell_type": "code",
   "execution_count": null,
   "metadata": {
    "colab": {
     "base_uri": "https://localhost:8080/"
    },
    "id": "d0TAIAuF2utF",
    "outputId": "0fedee4b-ae5b-4ce3-90ed-3901acf01a54"
   },
   "outputs": [
    {
     "name": "stdout",
     "output_type": "stream",
     "text": [
      "Training set score: 0.995\n",
      "Test set score: 0.990\n",
      "penlogreg .coef_: [[ 6.37338316e-03  1.33647541e+00 -3.96993328e-01 -4.67244261e+00\n",
      "   8.99431394e-01  1.22685967e+00 -3.60588399e+00  4.67605142e+00\n",
      "   1.07075695e-03  7.66779206e-01  1.71663936e+00  3.19741032e-01]]\n"
     ]
    }
   ],
   "source": [
    "penlogreg = LogisticRegression(C=5, penalty='l2', max_iter=100000000).fit(X_train_scaled, y_train) # Ridge penalty\n",
    "print(\"Training set score: {:.3f}\".format(penlogreg.score(X_train_scaled, y_train)))\n",
    "print(\"Test set score: {:.3f}\".format(penlogreg.score(X_test_scaled, y_test)))\n",
    "print(\"penlogreg .coef_: {}\".format(penlogreg .coef_))"
   ]
  },
  {
   "cell_type": "markdown",
   "metadata": {
    "id": "u1S3vc5225Hj"
   },
   "source": [
    "**Standard Scaler improves Penalized Logistic Regression**"
   ]
  },
  {
   "cell_type": "markdown",
   "metadata": {
    "id": "X6kUEqp65MG6"
   },
   "source": [
    "### K Nearest Neighbors Classifier"
   ]
  },
  {
   "cell_type": "code",
   "execution_count": null,
   "metadata": {
    "colab": {
     "base_uri": "https://localhost:8080/"
    },
    "id": "eXHsh7DK5OFO",
    "outputId": "f054af54-b9e2-4bff-a53f-5443477df7bb"
   },
   "outputs": [
    {
     "name": "stdout",
     "output_type": "stream",
     "text": [
      "accuracy: 0.94\n"
     ]
    }
   ],
   "source": [
    "from sklearn.neighbors import KNeighborsClassifier\n",
    "\n",
    "knn = KNeighborsClassifier(n_neighbors=5) # k = 5\n",
    "knn.fit(X_train, y_train) # fit objects on training data \n",
    "knn.score(X_test, y_test)\n",
    "print(\"accuracy: {:.2f}\".format(knn.score(X_test, y_test)))"
   ]
  },
  {
   "cell_type": "markdown",
   "metadata": {
    "id": "b8y0t_Na5VD7"
   },
   "source": [
    "### KNN with Standard Scaler"
   ]
  },
  {
   "cell_type": "code",
   "execution_count": null,
   "metadata": {
    "colab": {
     "base_uri": "https://localhost:8080/"
    },
    "id": "k3WhpckL5UUa",
    "outputId": "55a76ed9-15d8-4447-a997-7fbcfaf6b401"
   },
   "outputs": [
    {
     "name": "stdout",
     "output_type": "stream",
     "text": [
      "accuracy: 0.99\n"
     ]
    }
   ],
   "source": [
    "knn = KNeighborsClassifier(n_neighbors=5) # k = 5\n",
    "knn.fit(X_train_scaled, y_train) # fit objects on training data \n",
    "knn.score(X_test_scaled, y_test)\n",
    "print(\"accuracy: {:.2f}\".format(knn.score(X_test_scaled, y_test)))"
   ]
  },
  {
   "cell_type": "markdown",
   "metadata": {
    "id": "pI_LY-GM5nLQ"
   },
   "source": [
    "**Standard Scaler improves KNN from .94 to .99**"
   ]
  },
  {
   "cell_type": "markdown",
   "metadata": {
    "id": "idnDAHv25sXX"
   },
   "source": [
    "###Cross Validation Scores"
   ]
  },
  {
   "cell_type": "code",
   "execution_count": null,
   "metadata": {
    "colab": {
     "base_uri": "https://localhost:8080/"
    },
    "id": "lqwDnAqp51ie",
    "outputId": "0f510658-7af2-42b7-d11d-3731894dc244"
   },
   "outputs": [
    {
     "name": "stdout",
     "output_type": "stream",
     "text": [
      "0.9928148247887704\n",
      "0.9868646278654862\n",
      "0.9406819099875451\n"
     ]
    }
   ],
   "source": [
    "# with accuracy\n",
    "cross_val_score(logreg, X_train, y_train, cv = 10)\n",
    "print(np.mean(cross_val_score(logreg, X_train, y_train, cv=10, scoring = \"accuracy\")))\n",
    "cross_val_score(penlogreg, X_train, y_train, cv = 10)\n",
    "print(np.mean(cross_val_score(penlogreg, X_train, y_train, cv=10, scoring = \"accuracy\")))\n",
    "cross_val_score(knn, X_train, y_train, cv = 10)\n",
    "print(np.mean(cross_val_score(knn, X_train, y_train, cv=10, scoring = \"accuracy\")))\n",
    "\n"
   ]
  },
  {
   "cell_type": "markdown",
   "metadata": {
    "id": "L3agFaQtk60B"
   },
   "source": [
    "**Log Regression and Penalized Log Regression result in the two best CV scores of .993 and .987**"
   ]
  },
  {
   "cell_type": "code",
   "execution_count": null,
   "metadata": {
    "colab": {
     "base_uri": "https://localhost:8080/"
    },
    "id": "kWci3XcQktp2",
    "outputId": "13594724-4406-4791-f58b-3217795445c0"
   },
   "outputs": [
    {
     "name": "stdout",
     "output_type": "stream",
     "text": [
      "0.9944575352610496\n",
      "0.9942521964520147\n",
      "0.9926103275322316\n"
     ]
    }
   ],
   "source": [
    "# accuracy scaled\n",
    "cross_val_score(logreg, X_train_scaled, y_train, cv = 10)\n",
    "print(np.mean(cross_val_score(logreg, X_train_scaled, y_train, cv=10, scoring = \"accuracy\")))\n",
    "cross_val_score(penlogreg, X_train_scaled, y_train, cv = 10)\n",
    "print(np.mean(cross_val_score(penlogreg, X_train_scaled, y_train, cv=10, scoring = \"accuracy\")))\n",
    "cross_val_score(knn, X_train_scaled, y_train, cv = 10)\n",
    "print(np.mean(cross_val_score(knn, X_train_scaled, y_train, cv=10, scoring = \"accuracy\")))"
   ]
  },
  {
   "cell_type": "markdown",
   "metadata": {
    "id": "LBMwK1Pjk8xK"
   },
   "source": [
    "**CV scores with 'accuracy' improved all models once scaled. The two best CV scores are still Log Regression and Penalized Log Regression of .994**"
   ]
  },
  {
   "cell_type": "markdown",
   "metadata": {
    "id": "Eta78p8AgHhE"
   },
   "source": [
    "### 2.3 Tune the parameters where possible using GridSearchCV. Do the results improve?"
   ]
  },
  {
   "cell_type": "code",
   "execution_count": null,
   "metadata": {
    "colab": {
     "base_uri": "https://localhost:8080/"
    },
    "id": "vfHqBEL-gI-R",
    "outputId": "942802bd-f05d-4773-9a24-0afcd94a3866"
   },
   "outputs": [
    {
     "name": "stdout",
     "output_type": "stream",
     "text": [
      "[('standardscaler', StandardScaler(copy=True, with_mean=True, with_std=True)), ('kneighborsclassifier', KNeighborsClassifier(algorithm='auto', leaf_size=30, metric='minkowski',\n",
      "                     metric_params=None, n_jobs=None, n_neighbors=5, p=2,\n",
      "                     weights='uniform'))]\n",
      "best mean cross-validation score: 0.995\n",
      "best parameters: {'kneighborsclassifier__n_neighbors': 1}\n",
      "test-set score: 0.991\n"
     ]
    }
   ],
   "source": [
    "# Tuning KNN Classifier\n",
    "\n",
    "knn_pipe = make_pipeline(StandardScaler(), KNeighborsClassifier())\n",
    "print(knn_pipe.steps)\n",
    "\n",
    "param_grid = {'kneighborsclassifier__n_neighbors': np.arange(1, 15, 2)}\n",
    "grid = GridSearchCV(knn_pipe, param_grid, cv=10)\n",
    "grid.fit(X_train, y_train)\n",
    "print(\"best mean cross-validation score: {:.3f}\".format(grid.best_score_))\n",
    "print(\"best parameters: {}\".format(grid.best_params_))\n",
    "print(\"test-set score: {:.3f}\".format(grid.score(X_test, y_test)))"
   ]
  },
  {
   "cell_type": "code",
   "execution_count": null,
   "metadata": {
    "colab": {
     "base_uri": "https://localhost:8080/"
    },
    "id": "LomFqSocg4Ok",
    "outputId": "620ce657-22d3-4328-ea2d-a81429b5787b"
   },
   "outputs": [
    {
     "name": "stdout",
     "output_type": "stream",
     "text": [
      "best mean cross-validation score: 0.995\n",
      "best parameters: {'kneighborsclassifier__n_neighbors': 1}\n",
      "test-set score: 0.991\n"
     ]
    }
   ],
   "source": [
    "# KNN Classifier Tuned and Scaled\n",
    "param_grid = {'kneighborsclassifier__n_neighbors': np.arange(1, 15, 2)}\n",
    "grid = GridSearchCV(knn_pipe, param_grid, cv=10)\n",
    "grid.fit(X_train_scaled, y_train)\n",
    "print(\"best mean cross-validation score: {:.3f}\".format(grid.best_score_))\n",
    "print(\"best parameters: {}\".format(grid.best_params_))\n",
    "print(\"test-set score: {:.3f}\".format(grid.score(X_test_scaled, y_test)))"
   ]
  },
  {
   "cell_type": "markdown",
   "metadata": {
    "id": "q5RGLqcfg_OK"
   },
   "source": [
    "**Tuning improves KNN Classifier model, same results Tuned and Scaled**"
   ]
  },
  {
   "cell_type": "markdown",
   "metadata": {
    "id": "84POcsb1hVmb"
   },
   "source": [
    "### Tuning C Parameter using GridSearchCV for Log Reg"
   ]
  },
  {
   "cell_type": "code",
   "execution_count": null,
   "metadata": {
    "colab": {
     "base_uri": "https://localhost:8080/"
    },
    "id": "PRg9w4x2jKz7",
    "outputId": "1f6f1400-da99-486e-8636-bf8c8e382079"
   },
   "outputs": [
    {
     "name": "stdout",
     "output_type": "stream",
     "text": [
      "best mean cross-validation score: 0.990\n",
      "best parameters: {'C': 100}\n",
      "test-set score: 0.986\n"
     ]
    }
   ],
   "source": [
    "param_grid = {\"C\": [.001, .01, .1, 1, 10, 100]}\n",
    "grid = GridSearchCV(LogisticRegression(max_iter=100000), param_grid=param_grid, cv=15)\n",
    "grid.fit(X_train, y_train)\n",
    "\n",
    "print(\"best mean cross-validation score: {:.3f}\".format(grid.best_score_))\n",
    "print(\"best parameters: {}\".format(grid.best_params_))\n",
    "print(\"test-set score: {:.3f}\".format(grid.score(X_test, y_test)))"
   ]
  },
  {
   "cell_type": "code",
   "execution_count": null,
   "metadata": {
    "colab": {
     "base_uri": "https://localhost:8080/"
    },
    "id": "EUodh1Rm6SS1",
    "outputId": "5045f20e-d714-41ae-8b74-6c2773f9e3da"
   },
   "outputs": [
    {
     "name": "stdout",
     "output_type": "stream",
     "text": [
      "best mean cross-validation score: 0.995\n",
      "best parameters: {'C': 100}\n",
      "test-set score: 0.990\n"
     ]
    }
   ],
   "source": [
    "# scaled\n",
    "param_grid = {\"C\": [.001, .01, .1, 1, 10, 100]}\n",
    "grid = GridSearchCV(LogisticRegression(max_iter=100000), param_grid = param_grid, cv=15)\n",
    "grid.fit(X_train_scaled, y_train)\n",
    "\n",
    "print(\"best mean cross-validation score: {:.3f}\".format(grid.best_score_))\n",
    "print(\"best parameters: {}\".format(grid.best_params_))\n",
    "print(\"test-set score: {:.3f}\".format(grid.score(X_test_scaled, y_test)))"
   ]
  },
  {
   "cell_type": "markdown",
   "metadata": {
    "id": "RoRoMhf9yAzT"
   },
   "source": [
    "**Tuning parameters improved the CV score of Log Reg**"
   ]
  },
  {
   "cell_type": "markdown",
   "metadata": {
    "id": "7tOmqwhN7HQI"
   },
   "source": [
    "### Tuning Penalized Logistic Regression"
   ]
  },
  {
   "cell_type": "code",
   "execution_count": null,
   "metadata": {
    "colab": {
     "base_uri": "https://localhost:8080/"
    },
    "id": "STHNxJqo6fuV",
    "outputId": "525d0ac6-3c0f-488f-894a-567d331ac286"
   },
   "outputs": [
    {
     "name": "stdout",
     "output_type": "stream",
     "text": [
      "best mean cross-validation score: 0.990\n",
      "best parameters: {'C': 100}\n",
      "test-set score: 0.986\n"
     ]
    }
   ],
   "source": [
    "param_grid = {\"C\": [.001, .01, .1, 1, 10, 100]}\n",
    "grid = GridSearchCV(LogisticRegression(penalty=\"l2\", max_iter=100000), param_grid=param_grid, cv=15)\n",
    "grid.fit(X_train, y_train)\n",
    "\n",
    "print(\"best mean cross-validation score: {:.3f}\".format(grid.best_score_))\n",
    "print(\"best parameters: {}\".format(grid.best_params_))\n",
    "print(\"test-set score: {:.3f}\".format(grid.score(X_test, y_test)))"
   ]
  },
  {
   "cell_type": "code",
   "execution_count": null,
   "metadata": {
    "colab": {
     "base_uri": "https://localhost:8080/"
    },
    "id": "qWVo4CqeEnSv",
    "outputId": "c7c1ffc3-b148-4504-b22c-29e34abc00b4"
   },
   "outputs": [
    {
     "name": "stdout",
     "output_type": "stream",
     "text": [
      "best mean cross-validation score: 0.995\n",
      "best parameters: {'C': 100}\n",
      "test-set score: 0.990\n"
     ]
    }
   ],
   "source": [
    "# scaled\n",
    "param_grid = {\"C\": [.001, .01, .1, 1, 10, 100]}\n",
    "grid = GridSearchCV(LogisticRegression(penalty=\"l2\", max_iter=100000), param_grid=param_grid, cv=15)\n",
    "grid.fit(X_train_scaled, y_train)\n",
    "\n",
    "print(\"best mean cross-validation score: {:.3f}\".format(grid.best_score_))\n",
    "print(\"best parameters: {}\".format(grid.best_params_))\n",
    "print(\"test-set score: {:.3f}\".format(grid.score(X_test_scaled, y_test)))"
   ]
  },
  {
   "cell_type": "markdown",
   "metadata": {
    "id": "aGmMBWp_ylHG"
   },
   "source": [
    "**Tuning parameters also improved the CV score of Penalized Log Reg**"
   ]
  },
  {
   "cell_type": "markdown",
   "metadata": {
    "id": "qsdUs0Hqjd0W"
   },
   "source": [
    "### 2.4 Change the cross-validation strategy in GridSearchCV from ‘stratified k-fold’ to ‘kfold’ with shuffling. Do the parameters for models that can be tuned change? Do they change if you change the random seed of the shuffling? Or if you change the random state of the split into training and test data?"
   ]
  },
  {
   "cell_type": "code",
   "execution_count": null,
   "metadata": {
    "colab": {
     "base_uri": "https://localhost:8080/"
    },
    "id": "bjB8NUAqlnFd",
    "outputId": "99d624be-5934-4e2c-e1f8-9f83195a50f9"
   },
   "outputs": [
    {
     "name": "stdout",
     "output_type": "stream",
     "text": [
      "KFold:\n",
      "0.9392445637866582\n",
      "StratifiedKFold:\n",
      "0.9398631074606434\n"
     ]
    }
   ],
   "source": [
    "from sklearn.model_selection import StratifiedKFold\n",
    "from sklearn.model_selection import KFold\n",
    "from statistics import mean \n",
    "\n",
    "kfold = KFold(n_splits=5)\n",
    "skfold = StratifiedKFold(n_splits=5, shuffle=True)\n",
    "print(\"KFold:\\n{}\".format( \n",
    "mean(cross_val_score(KNeighborsClassifier(), X_train, y_train, cv=kfold)))) \n",
    "print(\"StratifiedKFold:\\n{}\".format(\n",
    "mean(cross_val_score(KNeighborsClassifier(n_neighbors=5), X_train, y_train, cv=skfold))))"
   ]
  },
  {
   "cell_type": "code",
   "execution_count": null,
   "metadata": {
    "colab": {
     "base_uri": "https://localhost:8080/"
    },
    "id": "bzPK8nOWl-Br",
    "outputId": "3e95a2f7-17fe-41a8-8ae2-f00733c27930"
   },
   "outputs": [
    {
     "name": "stdout",
     "output_type": "stream",
     "text": [
      "KFold:\n",
      "0.9921998631074607\n",
      "StratifiedKFold:\n",
      "0.993637234770705\n"
     ]
    }
   ],
   "source": [
    "# scaled\n",
    "print(\"KFold:\\n{}\".format( \n",
    "mean(cross_val_score(KNeighborsClassifier(), X_train_scaled, y_train, cv=kfold))))\n",
    "print(\"StratifiedKFold:\\n{}\".format(\n",
    "mean(cross_val_score(KNeighborsClassifier(n_neighbors=5), X_train_scaled, y_train, cv=skfold))))"
   ]
  },
  {
   "cell_type": "code",
   "execution_count": null,
   "metadata": {
    "colab": {
     "base_uri": "https://localhost:8080/"
    },
    "id": "GdKMnF1umOhD",
    "outputId": "801e79dd-9a4a-42e8-e7f2-1815016b3b70"
   },
   "outputs": [
    {
     "name": "stdout",
     "output_type": "stream",
     "text": [
      "KFold:\n",
      "0.9404774127310062\n",
      "StratifiedKFold:\n",
      "0.940681909987545\n"
     ]
    }
   ],
   "source": [
    "# change random seed and split \n",
    "kfold2 = KFold(n_splits=10)\n",
    "skfold2 = StratifiedKFold(n_splits=10, shuffle=False)\n",
    "print(\"KFold:\\n{}\".format( \n",
    "mean(cross_val_score(KNeighborsClassifier(), X_train, y_train, cv=kfold2)))) \n",
    "print(\"StratifiedKFold:\\n{}\".format(\n",
    "mean(cross_val_score(KNeighborsClassifier(n_neighbors=5), X_train, y_train, cv=skfold2))))"
   ]
  },
  {
   "cell_type": "code",
   "execution_count": null,
   "metadata": {
    "colab": {
     "base_uri": "https://localhost:8080/"
    },
    "id": "ypmmUKSFmnG6",
    "outputId": "f6af0205-ee45-4b9c-a024-c011a07ed8c6"
   },
   "outputs": [
    {
     "name": "stdout",
     "output_type": "stream",
     "text": [
      "KFold:\n",
      "0.9926103275322314\n",
      "StratifiedKFold:\n",
      "0.9926103275322314\n"
     ]
    }
   ],
   "source": [
    "# changes with scaled data\n",
    "print(\"KFold:\\n{}\".format( \n",
    "mean(cross_val_score(KNeighborsClassifier(), X_train_scaled, y_train, cv=kfold2)))) \n",
    "print(\"StratifiedKFold:\\n{}\".format(\n",
    "mean(cross_val_score(KNeighborsClassifier(n_neighbors=5), X_train_scaled, y_train, cv=skfold2))))"
   ]
  },
  {
   "cell_type": "markdown",
   "metadata": {
    "id": "MkuOmGM0mtNp"
   },
   "source": [
    "**Changing random seed of the shuffling and random state of the split does not change the scoring by much. The scoring is essentially the same with scaled data.**"
   ]
  },
  {
   "cell_type": "markdown",
   "metadata": {
    "id": "GYgYvG-vnGAO"
   },
   "source": [
    "### 2.5 Lastly, compare the coefficients for Logistic Regression and Penalized Logistic Regression and discuss which final model you would choose to predict new data."
   ]
  },
  {
   "cell_type": "code",
   "execution_count": null,
   "metadata": {
    "colab": {
     "base_uri": "https://localhost:8080/"
    },
    "id": "lj4SWEsxn4k5",
    "outputId": "cc7c37ef-5f1d-4f4d-8cd0-924d7b3d0e3c"
   },
   "outputs": [
    {
     "data": {
      "text/plain": [
       "array([[-0.2844026 ,  1.29001119, -0.43946222, -5.44851597,  0.88402537,\n",
       "         1.45639604, -3.85099787,  5.56095625, -0.22759945,  0.6994337 ,\n",
       "         2.14466642,  0.34360539]])"
      ]
     },
     "execution_count": 62,
     "metadata": {},
     "output_type": "execute_result"
    }
   ],
   "source": [
    "logreg.coef_"
   ]
  },
  {
   "cell_type": "code",
   "execution_count": null,
   "metadata": {
    "colab": {
     "base_uri": "https://localhost:8080/"
    },
    "id": "rLIE5Mmpn2DM",
    "outputId": "8d191948-8366-4a8a-f3a5-3f1788f89a46"
   },
   "outputs": [
    {
     "data": {
      "text/plain": [
       "array([[ 6.37338316e-03,  1.33647541e+00, -3.96993328e-01,\n",
       "        -4.67244261e+00,  8.99431394e-01,  1.22685967e+00,\n",
       "        -3.60588399e+00,  4.67605142e+00,  1.07075695e-03,\n",
       "         7.66779206e-01,  1.71663936e+00,  3.19741032e-01]])"
      ]
     },
     "execution_count": 63,
     "metadata": {},
     "output_type": "execute_result"
    }
   ],
   "source": [
    "penlogreg.coef_"
   ]
  },
  {
   "cell_type": "markdown",
   "metadata": {
    "id": "Sl4zAp01y_9T"
   },
   "source": [
    "The coefficients on the Logistic Regression and Penalized Logistic Regression are similar, but do not exactly align/agree on all features. Both models essentially yield the same scores. However, to predict new data I would choose the Penalized Logistic Regression model because the coefficients indicate that the odds of predicting correct new data would be higher for the Penalized Logistic Regression model."
   ]
  }
 ],
 "metadata": {
  "colab": {
   "name": "Homework2.ipynb",
   "provenance": []
  },
  "kernelspec": {
   "display_name": "Python 3",
   "language": "python",
   "name": "python3"
  },
  "language_info": {
   "codemirror_mode": {
    "name": "ipython",
    "version": 3
   },
   "file_extension": ".py",
   "mimetype": "text/x-python",
   "name": "python",
   "nbconvert_exporter": "python",
   "pygments_lexer": "ipython3",
   "version": "3.8.8"
  }
 },
 "nbformat": 4,
 "nbformat_minor": 1
}
