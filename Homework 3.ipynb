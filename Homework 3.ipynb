{
 "cells": [
  {
   "cell_type": "markdown",
   "id": "e01b5234",
   "metadata": {},
   "source": [
    "First, import the red wine csv file into a pandas dataframe from the following website:\n",
    "\n",
    "https://archive.ics.uci.edu/ml/machine-learning-databases/wine-quality/\n",
    "\n",
    "(Note: you need to adjust the argument for read_csv() from sep=',' to sep=';')"
   ]
  },
  {
   "cell_type": "code",
   "execution_count": 1,
   "id": "eaae28f8",
   "metadata": {},
   "outputs": [],
   "source": [
    "## import red wine quality data\n",
    "import numpy as np\n",
    "import pandas as pd \n",
    "data = pd.read_csv(\"winequality-red.csv\", sep=';')"
   ]
  },
  {
   "cell_type": "markdown",
   "id": "9c534e31",
   "metadata": {},
   "source": [
    "### 1. Use K Means Cluster Analysis to identify cluster(s) of observations that have high and low values of the wine quality. (Assume all variables are continuous.)"
   ]
  },
  {
   "cell_type": "code",
   "execution_count": 2,
   "id": "517fbe2c",
   "metadata": {},
   "outputs": [],
   "source": [
    "import matplotlib.pyplot as plt\n",
    "import seaborn as sns; sns.set() \n",
    "from sklearn.preprocessing import scale\n",
    "from sklearn.decomposition import PCA\n",
    "from sklearn.cluster import KMeans\n",
    "\n",
    "from scipy.cluster import hierarchy\n",
    "%matplotlib inline\n",
    "plt.style.use('seaborn-white')\n",
    "\n",
    "## scale data\n",
    "X = pd.DataFrame(scale(data), index=data.index, columns=data.columns)"
   ]
  },
  {
   "cell_type": "markdown",
   "id": "7d840734",
   "metadata": {},
   "source": [
    "#### K = 2"
   ]
  },
  {
   "cell_type": "code",
   "execution_count": 3,
   "id": "bd191920",
   "metadata": {},
   "outputs": [
    {
     "data": {
      "text/plain": [
       "array([1, 1, 1, ..., 1, 1, 1], dtype=int32)"
      ]
     },
     "execution_count": 3,
     "metadata": {},
     "output_type": "execute_result"
    }
   ],
   "source": [
    "np.random.seed(0)\n",
    "km1 = KMeans(n_clusters=2, n_init=20)\n",
    "km1.fit(X)\n",
    "km1.labels_"
   ]
  },
  {
   "cell_type": "code",
   "execution_count": 4,
   "id": "8b59d62a",
   "metadata": {},
   "outputs": [
    {
     "data": {
      "text/plain": [
       "15779.428704628708"
      ]
     },
     "execution_count": 4,
     "metadata": {},
     "output_type": "execute_result"
    }
   ],
   "source": [
    "## sum of distances of samples to their closest cluster center\n",
    "km1.inertia_"
   ]
  },
  {
   "cell_type": "code",
   "execution_count": 5,
   "id": "672b45df",
   "metadata": {},
   "outputs": [
    {
     "data": {
      "text/html": [
       "<div>\n",
       "<style scoped>\n",
       "    .dataframe tbody tr th:only-of-type {\n",
       "        vertical-align: middle;\n",
       "    }\n",
       "\n",
       "    .dataframe tbody tr th {\n",
       "        vertical-align: top;\n",
       "    }\n",
       "\n",
       "    .dataframe thead th {\n",
       "        text-align: right;\n",
       "    }\n",
       "</style>\n",
       "<table border=\"1\" class=\"dataframe\">\n",
       "  <thead>\n",
       "    <tr style=\"text-align: right;\">\n",
       "      <th></th>\n",
       "      <th>fixed acidity</th>\n",
       "      <th>volatile acidity</th>\n",
       "      <th>citric acid</th>\n",
       "      <th>residual sugar</th>\n",
       "      <th>chlorides</th>\n",
       "      <th>free sulfur dioxide</th>\n",
       "      <th>total sulfur dioxide</th>\n",
       "      <th>density</th>\n",
       "      <th>pH</th>\n",
       "      <th>sulphates</th>\n",
       "      <th>alcohol</th>\n",
       "      <th>quality</th>\n",
       "    </tr>\n",
       "    <tr>\n",
       "      <th>cluster</th>\n",
       "      <th></th>\n",
       "      <th></th>\n",
       "      <th></th>\n",
       "      <th></th>\n",
       "      <th></th>\n",
       "      <th></th>\n",
       "      <th></th>\n",
       "      <th></th>\n",
       "      <th></th>\n",
       "      <th></th>\n",
       "      <th></th>\n",
       "      <th></th>\n",
       "    </tr>\n",
       "  </thead>\n",
       "  <tbody>\n",
       "    <tr>\n",
       "      <th>0</th>\n",
       "      <td>0.889901</td>\n",
       "      <td>-0.731104</td>\n",
       "      <td>0.996589</td>\n",
       "      <td>0.127651</td>\n",
       "      <td>0.234064</td>\n",
       "      <td>-0.179136</td>\n",
       "      <td>-0.249085</td>\n",
       "      <td>0.391484</td>\n",
       "      <td>-0.679299</td>\n",
       "      <td>0.568912</td>\n",
       "      <td>0.291263</td>\n",
       "      <td>0.465746</td>\n",
       "    </tr>\n",
       "    <tr>\n",
       "      <th>1</th>\n",
       "      <td>-0.509265</td>\n",
       "      <td>0.418390</td>\n",
       "      <td>-0.570319</td>\n",
       "      <td>-0.073051</td>\n",
       "      <td>-0.133948</td>\n",
       "      <td>0.102514</td>\n",
       "      <td>0.142544</td>\n",
       "      <td>-0.224035</td>\n",
       "      <td>0.388743</td>\n",
       "      <td>-0.325572</td>\n",
       "      <td>-0.166682</td>\n",
       "      <td>-0.266533</td>\n",
       "    </tr>\n",
       "  </tbody>\n",
       "</table>\n",
       "</div>"
      ],
      "text/plain": [
       "         fixed acidity  volatile acidity  citric acid  residual sugar  \\\n",
       "cluster                                                                 \n",
       "0             0.889901         -0.731104     0.996589        0.127651   \n",
       "1            -0.509265          0.418390    -0.570319       -0.073051   \n",
       "\n",
       "         chlorides  free sulfur dioxide  total sulfur dioxide   density  \\\n",
       "cluster                                                                   \n",
       "0         0.234064            -0.179136             -0.249085  0.391484   \n",
       "1        -0.133948             0.102514              0.142544 -0.224035   \n",
       "\n",
       "               pH  sulphates   alcohol   quality  \n",
       "cluster                                           \n",
       "0       -0.679299   0.568912  0.291263  0.465746  \n",
       "1        0.388743  -0.325572 -0.166682 -0.266533  "
      ]
     },
     "metadata": {},
     "output_type": "display_data"
    }
   ],
   "source": [
    "X['cluster'] = km1.labels_\n",
    "\n",
    "## print out column/cluster means\n",
    "display(X.groupby('cluster').mean()) "
   ]
  },
  {
   "cell_type": "markdown",
   "id": "a44be578",
   "metadata": {},
   "source": [
    "In this analysis with K = 2, the cluster with higher wine quality (cluster 0) have higher values associated with the variables fixed acidity, citric acid, residual sugar, chlorides, density, sulphates, and alcohol. For lower wine quality (cluster 1), the variables volatile acidity, free sulfur dioxide, total sulfur dioxide, and pH have higher values within this cluster. \n",
    "\n",
    "According to this analysis, if you want to make a good bottle of wine, fixed acidity, citric acid, residual sugar, chlorides, density, sulphates, and alcohol are the most important characteristics you should consider."
   ]
  },
  {
   "cell_type": "markdown",
   "id": "ba733a91",
   "metadata": {},
   "source": [
    "#### K = 3"
   ]
  },
  {
   "cell_type": "code",
   "execution_count": 6,
   "id": "2686529d",
   "metadata": {},
   "outputs": [
    {
     "data": {
      "text/plain": [
       "1    718\n",
       "0    511\n",
       "2    370\n",
       "dtype: int64"
      ]
     },
     "execution_count": 6,
     "metadata": {},
     "output_type": "execute_result"
    }
   ],
   "source": [
    "np.random.seed(0)\n",
    "km2 = KMeans(n_clusters=3, n_init=20)\n",
    "km2.fit(X)\n",
    "pd.Series(km2.labels_).value_counts()"
   ]
  },
  {
   "cell_type": "code",
   "execution_count": 7,
   "id": "e9c43993",
   "metadata": {},
   "outputs": [
    {
     "data": {
      "text/plain": [
       "array([1, 2, 1, ..., 1, 1, 1], dtype=int32)"
      ]
     },
     "execution_count": 7,
     "metadata": {},
     "output_type": "execute_result"
    }
   ],
   "source": [
    "km2.cluster_centers_\n",
    "km2.labels_"
   ]
  },
  {
   "cell_type": "code",
   "execution_count": 8,
   "id": "7224aa13",
   "metadata": {},
   "outputs": [
    {
     "data": {
      "text/plain": [
       "14098.675542736602"
      ]
     },
     "execution_count": 8,
     "metadata": {},
     "output_type": "execute_result"
    }
   ],
   "source": [
    "km2.inertia_"
   ]
  },
  {
   "cell_type": "code",
   "execution_count": 9,
   "id": "5865e17a",
   "metadata": {
    "scrolled": true
   },
   "outputs": [
    {
     "data": {
      "text/html": [
       "<div>\n",
       "<style scoped>\n",
       "    .dataframe tbody tr th:only-of-type {\n",
       "        vertical-align: middle;\n",
       "    }\n",
       "\n",
       "    .dataframe tbody tr th {\n",
       "        vertical-align: top;\n",
       "    }\n",
       "\n",
       "    .dataframe thead th {\n",
       "        text-align: right;\n",
       "    }\n",
       "</style>\n",
       "<table border=\"1\" class=\"dataframe\">\n",
       "  <thead>\n",
       "    <tr style=\"text-align: right;\">\n",
       "      <th></th>\n",
       "      <th>fixed acidity</th>\n",
       "      <th>volatile acidity</th>\n",
       "      <th>citric acid</th>\n",
       "      <th>residual sugar</th>\n",
       "      <th>chlorides</th>\n",
       "      <th>free sulfur dioxide</th>\n",
       "      <th>total sulfur dioxide</th>\n",
       "      <th>density</th>\n",
       "      <th>pH</th>\n",
       "      <th>sulphates</th>\n",
       "      <th>alcohol</th>\n",
       "      <th>quality</th>\n",
       "    </tr>\n",
       "    <tr>\n",
       "      <th>cluster</th>\n",
       "      <th></th>\n",
       "      <th></th>\n",
       "      <th></th>\n",
       "      <th></th>\n",
       "      <th></th>\n",
       "      <th></th>\n",
       "      <th></th>\n",
       "      <th></th>\n",
       "      <th></th>\n",
       "      <th></th>\n",
       "      <th></th>\n",
       "      <th></th>\n",
       "    </tr>\n",
       "  </thead>\n",
       "  <tbody>\n",
       "    <tr>\n",
       "      <th>0</th>\n",
       "      <td>0.934388</td>\n",
       "      <td>-0.746645</td>\n",
       "      <td>1.019990</td>\n",
       "      <td>0.033906</td>\n",
       "      <td>0.238141</td>\n",
       "      <td>-0.410049</td>\n",
       "      <td>-0.444890</td>\n",
       "      <td>0.351040</td>\n",
       "      <td>-0.710804</td>\n",
       "      <td>0.597359</td>\n",
       "      <td>0.382123</td>\n",
       "      <td>0.559929</td>\n",
       "    </tr>\n",
       "    <tr>\n",
       "      <th>1</th>\n",
       "      <td>-0.627742</td>\n",
       "      <td>0.497219</td>\n",
       "      <td>-0.775839</td>\n",
       "      <td>-0.230741</td>\n",
       "      <td>-0.168549</td>\n",
       "      <td>-0.256484</td>\n",
       "      <td>-0.360159</td>\n",
       "      <td>-0.409569</td>\n",
       "      <td>0.593429</td>\n",
       "      <td>-0.311511</td>\n",
       "      <td>0.013855</td>\n",
       "      <td>-0.171937</td>\n",
       "    </tr>\n",
       "    <tr>\n",
       "      <th>2</th>\n",
       "      <td>-0.072307</td>\n",
       "      <td>0.066304</td>\n",
       "      <td>0.096858</td>\n",
       "      <td>0.400935</td>\n",
       "      <td>-0.001816</td>\n",
       "      <td>1.064029</td>\n",
       "      <td>1.313332</td>\n",
       "      <td>0.309970</td>\n",
       "      <td>-0.169895</td>\n",
       "      <td>-0.220503</td>\n",
       "      <td>-0.554630</td>\n",
       "      <td>-0.439656</td>\n",
       "    </tr>\n",
       "  </tbody>\n",
       "</table>\n",
       "</div>"
      ],
      "text/plain": [
       "         fixed acidity  volatile acidity  citric acid  residual sugar  \\\n",
       "cluster                                                                 \n",
       "0             0.934388         -0.746645     1.019990        0.033906   \n",
       "1            -0.627742          0.497219    -0.775839       -0.230741   \n",
       "2            -0.072307          0.066304     0.096858        0.400935   \n",
       "\n",
       "         chlorides  free sulfur dioxide  total sulfur dioxide   density  \\\n",
       "cluster                                                                   \n",
       "0         0.238141            -0.410049             -0.444890  0.351040   \n",
       "1        -0.168549            -0.256484             -0.360159 -0.409569   \n",
       "2        -0.001816             1.064029              1.313332  0.309970   \n",
       "\n",
       "               pH  sulphates   alcohol   quality  \n",
       "cluster                                           \n",
       "0       -0.710804   0.597359  0.382123  0.559929  \n",
       "1        0.593429  -0.311511  0.013855 -0.171937  \n",
       "2       -0.169895  -0.220503 -0.554630 -0.439656  "
      ]
     },
     "metadata": {},
     "output_type": "display_data"
    }
   ],
   "source": [
    "X['cluster'] = km2.labels_\n",
    "display(X.groupby('cluster').mean())"
   ]
  },
  {
   "cell_type": "markdown",
   "id": "4c274959",
   "metadata": {},
   "source": [
    "In this analysis with K = 3, the cluster with higher wine quality have higher values associated with the variables fixed acidity, citric acid, chlorides,  sulphates, and alcohol. With an additional cluster, we can see the residual sugar is no longer cluster with higher wine quality. We can also see that low wine quality has similar values of density as the cluster with high wine quality so density is also no longer a variable clustered with high wine quality. The variables that cluster with lower quality wine are volatile acidity, residual sugar, free sulfur dioxide, density and total sulfur dioxide.\n",
    "\n",
    "According to this analysis, if you want to make a good bottle of wine, fixed acidity, citric acid, chlorides, sulphates, and alcohol are the most important characteristics you should consider."
   ]
  },
  {
   "cell_type": "markdown",
   "id": "0351ef97",
   "metadata": {},
   "source": [
    "#### K = 4"
   ]
  },
  {
   "cell_type": "code",
   "execution_count": 10,
   "id": "30cc15fb",
   "metadata": {},
   "outputs": [
    {
     "data": {
      "text/plain": [
       "2    718\n",
       "1    484\n",
       "0    369\n",
       "3     28\n",
       "dtype: int64"
      ]
     },
     "execution_count": 10,
     "metadata": {},
     "output_type": "execute_result"
    }
   ],
   "source": [
    "np.random.seed(0)\n",
    "km3 = KMeans(n_clusters=4, n_init=20)\n",
    "km3.fit(X)\n",
    "pd.Series(km3.labels_).value_counts()"
   ]
  },
  {
   "cell_type": "code",
   "execution_count": 11,
   "id": "f0fa334a",
   "metadata": {},
   "outputs": [
    {
     "data": {
      "text/plain": [
       "array([2, 0, 2, ..., 2, 2, 2], dtype=int32)"
      ]
     },
     "execution_count": 11,
     "metadata": {},
     "output_type": "execute_result"
    }
   ],
   "source": [
    "km3.cluster_centers_\n",
    "km3.labels_"
   ]
  },
  {
   "cell_type": "code",
   "execution_count": 12,
   "id": "5cc7668e",
   "metadata": {},
   "outputs": [
    {
     "data": {
      "text/plain": [
       "12685.996003407217"
      ]
     },
     "execution_count": 12,
     "metadata": {},
     "output_type": "execute_result"
    }
   ],
   "source": [
    "km3.inertia_"
   ]
  },
  {
   "cell_type": "code",
   "execution_count": 13,
   "id": "3b4a8a39",
   "metadata": {
    "scrolled": true
   },
   "outputs": [
    {
     "data": {
      "text/html": [
       "<div>\n",
       "<style scoped>\n",
       "    .dataframe tbody tr th:only-of-type {\n",
       "        vertical-align: middle;\n",
       "    }\n",
       "\n",
       "    .dataframe tbody tr th {\n",
       "        vertical-align: top;\n",
       "    }\n",
       "\n",
       "    .dataframe thead th {\n",
       "        text-align: right;\n",
       "    }\n",
       "</style>\n",
       "<table border=\"1\" class=\"dataframe\">\n",
       "  <thead>\n",
       "    <tr style=\"text-align: right;\">\n",
       "      <th></th>\n",
       "      <th>fixed acidity</th>\n",
       "      <th>volatile acidity</th>\n",
       "      <th>citric acid</th>\n",
       "      <th>residual sugar</th>\n",
       "      <th>chlorides</th>\n",
       "      <th>free sulfur dioxide</th>\n",
       "      <th>total sulfur dioxide</th>\n",
       "      <th>density</th>\n",
       "      <th>pH</th>\n",
       "      <th>sulphates</th>\n",
       "      <th>alcohol</th>\n",
       "      <th>quality</th>\n",
       "    </tr>\n",
       "    <tr>\n",
       "      <th>cluster</th>\n",
       "      <th></th>\n",
       "      <th></th>\n",
       "      <th></th>\n",
       "      <th></th>\n",
       "      <th></th>\n",
       "      <th></th>\n",
       "      <th></th>\n",
       "      <th></th>\n",
       "      <th></th>\n",
       "      <th></th>\n",
       "      <th></th>\n",
       "      <th></th>\n",
       "    </tr>\n",
       "  </thead>\n",
       "  <tbody>\n",
       "    <tr>\n",
       "      <th>0</th>\n",
       "      <td>-0.073406</td>\n",
       "      <td>0.065240</td>\n",
       "      <td>0.094073</td>\n",
       "      <td>0.403058</td>\n",
       "      <td>-0.012335</td>\n",
       "      <td>1.065066</td>\n",
       "      <td>1.311655</td>\n",
       "      <td>0.310159</td>\n",
       "      <td>-0.167000</td>\n",
       "      <td>-0.226887</td>\n",
       "      <td>-0.553276</td>\n",
       "      <td>-0.438712</td>\n",
       "    </tr>\n",
       "    <tr>\n",
       "      <th>1</th>\n",
       "      <td>0.981682</td>\n",
       "      <td>-0.787475</td>\n",
       "      <td>1.010859</td>\n",
       "      <td>0.057562</td>\n",
       "      <td>-0.075214</td>\n",
       "      <td>-0.428652</td>\n",
       "      <td>-0.495240</td>\n",
       "      <td>0.360702</td>\n",
       "      <td>-0.652597</td>\n",
       "      <td>0.423162</td>\n",
       "      <td>0.451577</td>\n",
       "      <td>0.609521</td>\n",
       "    </tr>\n",
       "    <tr>\n",
       "      <th>2</th>\n",
       "      <td>-0.627742</td>\n",
       "      <td>0.497219</td>\n",
       "      <td>-0.775839</td>\n",
       "      <td>-0.230741</td>\n",
       "      <td>-0.168549</td>\n",
       "      <td>-0.256484</td>\n",
       "      <td>-0.360159</td>\n",
       "      <td>-0.409569</td>\n",
       "      <td>0.593429</td>\n",
       "      <td>-0.311511</td>\n",
       "      <td>0.013855</td>\n",
       "      <td>-0.171937</td>\n",
       "    </tr>\n",
       "    <tr>\n",
       "      <th>3</th>\n",
       "      <td>0.095416</td>\n",
       "      <td>0.002200</td>\n",
       "      <td>1.181553</td>\n",
       "      <td>-0.389872</td>\n",
       "      <td>5.784760</td>\n",
       "      <td>-0.049516</td>\n",
       "      <td>0.510330</td>\n",
       "      <td>0.180072</td>\n",
       "      <td>-1.735792</td>\n",
       "      <td>3.663412</td>\n",
       "      <td>-0.869731</td>\n",
       "      <td>-0.345440</td>\n",
       "    </tr>\n",
       "  </tbody>\n",
       "</table>\n",
       "</div>"
      ],
      "text/plain": [
       "         fixed acidity  volatile acidity  citric acid  residual sugar  \\\n",
       "cluster                                                                 \n",
       "0            -0.073406          0.065240     0.094073        0.403058   \n",
       "1             0.981682         -0.787475     1.010859        0.057562   \n",
       "2            -0.627742          0.497219    -0.775839       -0.230741   \n",
       "3             0.095416          0.002200     1.181553       -0.389872   \n",
       "\n",
       "         chlorides  free sulfur dioxide  total sulfur dioxide   density  \\\n",
       "cluster                                                                   \n",
       "0        -0.012335             1.065066              1.311655  0.310159   \n",
       "1        -0.075214            -0.428652             -0.495240  0.360702   \n",
       "2        -0.168549            -0.256484             -0.360159 -0.409569   \n",
       "3         5.784760            -0.049516              0.510330  0.180072   \n",
       "\n",
       "               pH  sulphates   alcohol   quality  \n",
       "cluster                                           \n",
       "0       -0.167000  -0.226887 -0.553276 -0.438712  \n",
       "1       -0.652597   0.423162  0.451577  0.609521  \n",
       "2        0.593429  -0.311511  0.013855 -0.171937  \n",
       "3       -1.735792   3.663412 -0.869731 -0.345440  "
      ]
     },
     "metadata": {},
     "output_type": "display_data"
    }
   ],
   "source": [
    "X['cluster'] = km3.labels_\n",
    "display(X.groupby('cluster').mean())"
   ]
  },
  {
   "cell_type": "markdown",
   "id": "075ec687",
   "metadata": {},
   "source": [
    "In this analysis with K = 4, the cluster with higher wine quality have higher values associated with the variables fixed acidity and alcohol. With 4 clusters, we can see that chlorides and sulphates are no longer determinants of high wine quality. We can also see that low wine quality has similar values of citric acid as high wine quality so citric acid is also no longer a variable clustered with high wine quality. The variables that cluster with lower wine quality are volatile acidity, residual sugar, free sulfur dioxide, total sulfur dioxide, and density.\n",
    "\n",
    "According to this analysis, if you want to make a good bottle of wine, fixed acidity and alcohol are the most important characteristics you should consider."
   ]
  },
  {
   "cell_type": "markdown",
   "id": "5d753a84",
   "metadata": {},
   "source": [
    "#### Elbow plot to determine number of cluster"
   ]
  },
  {
   "cell_type": "code",
   "execution_count": 14,
   "id": "b3129252",
   "metadata": {
    "scrolled": false
   },
   "outputs": [
    {
     "data": {
      "text/plain": [
       "Text(0.5, 1.0, 'Elbow curve')"
      ]
     },
     "execution_count": 14,
     "metadata": {},
     "output_type": "execute_result"
    },
    {
     "data": {
      "image/png": "[encoded data removed]",
      "text/plain": [
       "<Figure size 1080x360 with 1 Axes>"
      ]
     },
     "metadata": {},
     "output_type": "display_data"
    }
   ],
   "source": [
    "## initiate empty list with no data\n",
    "within_cluster_variance = [] \n",
    "\n",
    "## build models for range of ks from 2 to 13\n",
    "for k in range(2, 13):\n",
    "    kmeans = KMeans(n_clusters=k)\n",
    "    kmeans.fit(X)\n",
    "    within_cluster_variance.append(kmeans.inertia_)\n",
    "\n",
    "fig = plt.figure(figsize=(15, 5))\n",
    "plt.plot(range(2, 13), within_cluster_variance, marker='o')\n",
    "plt.grid(True)\n",
    "plt.xlabel('Number of clusters')\n",
    "plt.ylabel('Reduction in within cluster variation')\n",
    "\n",
    "plt.title('Elbow curve') "
   ]
  },
  {
   "cell_type": "markdown",
   "id": "0923570f",
   "metadata": {},
   "source": [
    "The correct number of clusters seems to be at K = 6 or K = 7"
   ]
  },
  {
   "cell_type": "markdown",
   "id": "84af6700",
   "metadata": {},
   "source": [
    "#### K = 6"
   ]
  },
  {
   "cell_type": "code",
   "execution_count": 15,
   "id": "712530b9",
   "metadata": {
    "scrolled": false
   },
   "outputs": [
    {
     "data": {
      "text/plain": [
       "2    527\n",
       "1    358\n",
       "3    338\n",
       "5    314\n",
       "0     34\n",
       "4     28\n",
       "dtype: int64"
      ]
     },
     "execution_count": 15,
     "metadata": {},
     "output_type": "execute_result"
    }
   ],
   "source": [
    "np.random.seed(0)\n",
    "km4 = KMeans(n_clusters=6, n_init=20)\n",
    "km4.fit(X)\n",
    "pd.Series(km4.labels_).value_counts()"
   ]
  },
  {
   "cell_type": "code",
   "execution_count": 16,
   "id": "14c68ec1",
   "metadata": {
    "scrolled": true
   },
   "outputs": [
    {
     "data": {
      "text/plain": [
       "array([2, 3, 2, ..., 5, 2, 5], dtype=int32)"
      ]
     },
     "execution_count": 16,
     "metadata": {},
     "output_type": "execute_result"
    }
   ],
   "source": [
    "km4.cluster_centers_\n",
    "km4.labels_"
   ]
  },
  {
   "cell_type": "code",
   "execution_count": 17,
   "id": "31b6cfe6",
   "metadata": {},
   "outputs": [
    {
     "data": {
      "text/plain": [
       "10699.485435813987"
      ]
     },
     "execution_count": 17,
     "metadata": {},
     "output_type": "execute_result"
    }
   ],
   "source": [
    "km4.inertia_"
   ]
  },
  {
   "cell_type": "code",
   "execution_count": 18,
   "id": "72a5d373",
   "metadata": {
    "scrolled": true
   },
   "outputs": [
    {
     "data": {
      "text/html": [
       "<div>\n",
       "<style scoped>\n",
       "    .dataframe tbody tr th:only-of-type {\n",
       "        vertical-align: middle;\n",
       "    }\n",
       "\n",
       "    .dataframe tbody tr th {\n",
       "        vertical-align: top;\n",
       "    }\n",
       "\n",
       "    .dataframe thead th {\n",
       "        text-align: right;\n",
       "    }\n",
       "</style>\n",
       "<table border=\"1\" class=\"dataframe\">\n",
       "  <thead>\n",
       "    <tr style=\"text-align: right;\">\n",
       "      <th></th>\n",
       "      <th>fixed acidity</th>\n",
       "      <th>volatile acidity</th>\n",
       "      <th>citric acid</th>\n",
       "      <th>residual sugar</th>\n",
       "      <th>chlorides</th>\n",
       "      <th>free sulfur dioxide</th>\n",
       "      <th>total sulfur dioxide</th>\n",
       "      <th>density</th>\n",
       "      <th>pH</th>\n",
       "      <th>sulphates</th>\n",
       "      <th>alcohol</th>\n",
       "      <th>quality</th>\n",
       "    </tr>\n",
       "    <tr>\n",
       "      <th>cluster</th>\n",
       "      <th></th>\n",
       "      <th></th>\n",
       "      <th></th>\n",
       "      <th></th>\n",
       "      <th></th>\n",
       "      <th></th>\n",
       "      <th></th>\n",
       "      <th></th>\n",
       "      <th></th>\n",
       "      <th></th>\n",
       "      <th></th>\n",
       "      <th></th>\n",
       "    </tr>\n",
       "  </thead>\n",
       "  <tbody>\n",
       "    <tr>\n",
       "      <th>0</th>\n",
       "      <td>-0.085633</td>\n",
       "      <td>-0.034652</td>\n",
       "      <td>0.414856</td>\n",
       "      <td>4.961768</td>\n",
       "      <td>0.296388</td>\n",
       "      <td>1.750191</td>\n",
       "      <td>1.695832</td>\n",
       "      <td>1.225001</td>\n",
       "      <td>-0.325460</td>\n",
       "      <td>-0.023789</td>\n",
       "      <td>-0.363913</td>\n",
       "      <td>-0.022761</td>\n",
       "    </tr>\n",
       "    <tr>\n",
       "      <th>1</th>\n",
       "      <td>1.344000</td>\n",
       "      <td>-0.693390</td>\n",
       "      <td>1.136749</td>\n",
       "      <td>0.088105</td>\n",
       "      <td>-0.009025</td>\n",
       "      <td>-0.553275</td>\n",
       "      <td>-0.544598</td>\n",
       "      <td>0.754616</td>\n",
       "      <td>-0.849338</td>\n",
       "      <td>0.361047</td>\n",
       "      <td>0.205141</td>\n",
       "      <td>0.433548</td>\n",
       "    </tr>\n",
       "    <tr>\n",
       "      <th>2</th>\n",
       "      <td>-0.489985</td>\n",
       "      <td>0.663048</td>\n",
       "      <td>-0.811709</td>\n",
       "      <td>-0.232903</td>\n",
       "      <td>-0.076944</td>\n",
       "      <td>-0.415292</td>\n",
       "      <td>-0.418947</td>\n",
       "      <td>-0.096660</td>\n",
       "      <td>0.422977</td>\n",
       "      <td>-0.419524</td>\n",
       "      <td>-0.429757</td>\n",
       "      <td>-0.456414</td>\n",
       "    </tr>\n",
       "    <tr>\n",
       "      <th>3</th>\n",
       "      <td>-0.050717</td>\n",
       "      <td>0.081593</td>\n",
       "      <td>0.081435</td>\n",
       "      <td>0.014869</td>\n",
       "      <td>-0.016330</td>\n",
       "      <td>0.946625</td>\n",
       "      <td>1.243699</td>\n",
       "      <td>0.295306</td>\n",
       "      <td>-0.141974</td>\n",
       "      <td>-0.200161</td>\n",
       "      <td>-0.600653</td>\n",
       "      <td>-0.468993</td>\n",
       "    </tr>\n",
       "    <tr>\n",
       "      <th>4</th>\n",
       "      <td>0.095416</td>\n",
       "      <td>0.002200</td>\n",
       "      <td>1.181553</td>\n",
       "      <td>-0.389872</td>\n",
       "      <td>5.784760</td>\n",
       "      <td>-0.049516</td>\n",
       "      <td>0.510330</td>\n",
       "      <td>0.180072</td>\n",
       "      <td>-1.735792</td>\n",
       "      <td>3.663412</td>\n",
       "      <td>-0.869731</td>\n",
       "      <td>-0.345440</td>\n",
       "    </tr>\n",
       "    <tr>\n",
       "      <th>5</th>\n",
       "      <td>-0.654610</td>\n",
       "      <td>-0.406543</td>\n",
       "      <td>-0.171653</td>\n",
       "      <td>-0.228061</td>\n",
       "      <td>-0.390926</td>\n",
       "      <td>0.123734</td>\n",
       "      <td>-0.243842</td>\n",
       "      <td>-1.164709</td>\n",
       "      <td>0.601303</td>\n",
       "      <td>0.183829</td>\n",
       "      <td>1.250916</td>\n",
       "      <td>0.809826</td>\n",
       "    </tr>\n",
       "  </tbody>\n",
       "</table>\n",
       "</div>"
      ],
      "text/plain": [
       "         fixed acidity  volatile acidity  citric acid  residual sugar  \\\n",
       "cluster                                                                 \n",
       "0            -0.085633         -0.034652     0.414856        4.961768   \n",
       "1             1.344000         -0.693390     1.136749        0.088105   \n",
       "2            -0.489985          0.663048    -0.811709       -0.232903   \n",
       "3            -0.050717          0.081593     0.081435        0.014869   \n",
       "4             0.095416          0.002200     1.181553       -0.389872   \n",
       "5            -0.654610         -0.406543    -0.171653       -0.228061   \n",
       "\n",
       "         chlorides  free sulfur dioxide  total sulfur dioxide   density  \\\n",
       "cluster                                                                   \n",
       "0         0.296388             1.750191              1.695832  1.225001   \n",
       "1        -0.009025            -0.553275             -0.544598  0.754616   \n",
       "2        -0.076944            -0.415292             -0.418947 -0.096660   \n",
       "3        -0.016330             0.946625              1.243699  0.295306   \n",
       "4         5.784760            -0.049516              0.510330  0.180072   \n",
       "5        -0.390926             0.123734             -0.243842 -1.164709   \n",
       "\n",
       "               pH  sulphates   alcohol   quality  \n",
       "cluster                                           \n",
       "0       -0.325460  -0.023789 -0.363913 -0.022761  \n",
       "1       -0.849338   0.361047  0.205141  0.433548  \n",
       "2        0.422977  -0.419524 -0.429757 -0.456414  \n",
       "3       -0.141974  -0.200161 -0.600653 -0.468993  \n",
       "4       -1.735792   3.663412 -0.869731 -0.345440  \n",
       "5        0.601303   0.183829  1.250916  0.809826  "
      ]
     },
     "metadata": {},
     "output_type": "display_data"
    }
   ],
   "source": [
    "X['cluster'] = km4.labels_\n",
    "display(X.groupby('cluster').mean())"
   ]
  },
  {
   "cell_type": "markdown",
   "id": "57f6c76a",
   "metadata": {},
   "source": [
    "In this analysis with K = 6, the cluster with higher wine quality have higher values associated with just the variable alcohol. The pH variable has the highest value, but not significantly higher than a cluster with lower quality of wine. The variables that cluster with low wine quality are volatile acidity, free sulfur dioxide, total sulfur, and density.\n",
    "\n",
    "According to this analysis, if you want to make a good bottle of wine, alcohol the most important characteristic you should consider."
   ]
  },
  {
   "cell_type": "markdown",
   "id": "2a355828",
   "metadata": {},
   "source": [
    "#### K = 7"
   ]
  },
  {
   "cell_type": "code",
   "execution_count": 19,
   "id": "03860d58",
   "metadata": {
    "scrolled": true
   },
   "outputs": [
    {
     "data": {
      "text/plain": [
       "0    533\n",
       "1    358\n",
       "4    332\n",
       "2    163\n",
       "5    151\n",
       "6     34\n",
       "3     28\n",
       "dtype: int64"
      ]
     },
     "execution_count": 19,
     "metadata": {},
     "output_type": "execute_result"
    }
   ],
   "source": [
    "np.random.seed(0)\n",
    "km5 = KMeans(n_clusters=7, n_init=20)\n",
    "km5.fit(X)\n",
    "pd.Series(km5.labels_).value_counts()"
   ]
  },
  {
   "cell_type": "code",
   "execution_count": 20,
   "id": "2bd8623b",
   "metadata": {},
   "outputs": [
    {
     "data": {
      "text/plain": [
       "array([0, 4, 0, ..., 5, 0, 2], dtype=int32)"
      ]
     },
     "execution_count": 20,
     "metadata": {},
     "output_type": "execute_result"
    }
   ],
   "source": [
    "km5.cluster_centers_\n",
    "km5.labels_"
   ]
  },
  {
   "cell_type": "code",
   "execution_count": 21,
   "id": "d97c5e81",
   "metadata": {},
   "outputs": [
    {
     "data": {
      "text/plain": [
       "10092.591878766094"
      ]
     },
     "execution_count": 21,
     "metadata": {},
     "output_type": "execute_result"
    }
   ],
   "source": [
    "km5.inertia_"
   ]
  },
  {
   "cell_type": "code",
   "execution_count": 22,
   "id": "69c203b3",
   "metadata": {},
   "outputs": [
    {
     "data": {
      "text/html": [
       "<div>\n",
       "<style scoped>\n",
       "    .dataframe tbody tr th:only-of-type {\n",
       "        vertical-align: middle;\n",
       "    }\n",
       "\n",
       "    .dataframe tbody tr th {\n",
       "        vertical-align: top;\n",
       "    }\n",
       "\n",
       "    .dataframe thead th {\n",
       "        text-align: right;\n",
       "    }\n",
       "</style>\n",
       "<table border=\"1\" class=\"dataframe\">\n",
       "  <thead>\n",
       "    <tr style=\"text-align: right;\">\n",
       "      <th></th>\n",
       "      <th>fixed acidity</th>\n",
       "      <th>volatile acidity</th>\n",
       "      <th>citric acid</th>\n",
       "      <th>residual sugar</th>\n",
       "      <th>chlorides</th>\n",
       "      <th>free sulfur dioxide</th>\n",
       "      <th>total sulfur dioxide</th>\n",
       "      <th>density</th>\n",
       "      <th>pH</th>\n",
       "      <th>sulphates</th>\n",
       "      <th>alcohol</th>\n",
       "      <th>quality</th>\n",
       "    </tr>\n",
       "    <tr>\n",
       "      <th>cluster</th>\n",
       "      <th></th>\n",
       "      <th></th>\n",
       "      <th></th>\n",
       "      <th></th>\n",
       "      <th></th>\n",
       "      <th></th>\n",
       "      <th></th>\n",
       "      <th></th>\n",
       "      <th></th>\n",
       "      <th></th>\n",
       "      <th></th>\n",
       "      <th></th>\n",
       "    </tr>\n",
       "  </thead>\n",
       "  <tbody>\n",
       "    <tr>\n",
       "      <th>0</th>\n",
       "      <td>-0.486968</td>\n",
       "      <td>0.666097</td>\n",
       "      <td>-0.814189</td>\n",
       "      <td>-0.217813</td>\n",
       "      <td>-0.072281</td>\n",
       "      <td>-0.407074</td>\n",
       "      <td>-0.411938</td>\n",
       "      <td>-0.079134</td>\n",
       "      <td>0.424942</td>\n",
       "      <td>-0.416229</td>\n",
       "      <td>-0.431149</td>\n",
       "      <td>-0.462468</td>\n",
       "    </tr>\n",
       "    <tr>\n",
       "      <th>1</th>\n",
       "      <td>1.344000</td>\n",
       "      <td>-0.693390</td>\n",
       "      <td>1.136749</td>\n",
       "      <td>0.088105</td>\n",
       "      <td>-0.009025</td>\n",
       "      <td>-0.553275</td>\n",
       "      <td>-0.544598</td>\n",
       "      <td>0.754616</td>\n",
       "      <td>-0.849338</td>\n",
       "      <td>0.361047</td>\n",
       "      <td>0.205141</td>\n",
       "      <td>0.433548</td>\n",
       "    </tr>\n",
       "    <tr>\n",
       "      <th>2</th>\n",
       "      <td>-0.251669</td>\n",
       "      <td>-1.011041</td>\n",
       "      <td>0.490223</td>\n",
       "      <td>-0.208383</td>\n",
       "      <td>-0.342282</td>\n",
       "      <td>-0.104790</td>\n",
       "      <td>-0.389953</td>\n",
       "      <td>-0.958378</td>\n",
       "      <td>0.063940</td>\n",
       "      <td>0.386363</td>\n",
       "      <td>1.161845</td>\n",
       "      <td>0.997991</td>\n",
       "    </tr>\n",
       "    <tr>\n",
       "      <th>3</th>\n",
       "      <td>0.095416</td>\n",
       "      <td>0.002200</td>\n",
       "      <td>1.181553</td>\n",
       "      <td>-0.389872</td>\n",
       "      <td>5.784760</td>\n",
       "      <td>-0.049516</td>\n",
       "      <td>0.510330</td>\n",
       "      <td>0.180072</td>\n",
       "      <td>-1.735792</td>\n",
       "      <td>3.663412</td>\n",
       "      <td>-0.869731</td>\n",
       "      <td>-0.345440</td>\n",
       "    </tr>\n",
       "    <tr>\n",
       "      <th>4</th>\n",
       "      <td>-0.047623</td>\n",
       "      <td>0.066189</td>\n",
       "      <td>0.101558</td>\n",
       "      <td>-0.004880</td>\n",
       "      <td>-0.022719</td>\n",
       "      <td>0.958043</td>\n",
       "      <td>1.262494</td>\n",
       "      <td>0.274254</td>\n",
       "      <td>-0.155338</td>\n",
       "      <td>-0.201487</td>\n",
       "      <td>-0.601505</td>\n",
       "      <td>-0.459500</td>\n",
       "    </tr>\n",
       "    <tr>\n",
       "      <th>5</th>\n",
       "      <td>-1.089573</td>\n",
       "      <td>0.245994</td>\n",
       "      <td>-0.886129</td>\n",
       "      <td>-0.249302</td>\n",
       "      <td>-0.443435</td>\n",
       "      <td>0.370418</td>\n",
       "      <td>-0.086119</td>\n",
       "      <td>-1.387437</td>\n",
       "      <td>1.181370</td>\n",
       "      <td>-0.034801</td>\n",
       "      <td>1.347065</td>\n",
       "      <td>0.606708</td>\n",
       "    </tr>\n",
       "    <tr>\n",
       "      <th>6</th>\n",
       "      <td>-0.085633</td>\n",
       "      <td>-0.034652</td>\n",
       "      <td>0.414856</td>\n",
       "      <td>4.961768</td>\n",
       "      <td>0.296388</td>\n",
       "      <td>1.750191</td>\n",
       "      <td>1.695832</td>\n",
       "      <td>1.225001</td>\n",
       "      <td>-0.325460</td>\n",
       "      <td>-0.023789</td>\n",
       "      <td>-0.363913</td>\n",
       "      <td>-0.022761</td>\n",
       "    </tr>\n",
       "  </tbody>\n",
       "</table>\n",
       "</div>"
      ],
      "text/plain": [
       "         fixed acidity  volatile acidity  citric acid  residual sugar  \\\n",
       "cluster                                                                 \n",
       "0            -0.486968          0.666097    -0.814189       -0.217813   \n",
       "1             1.344000         -0.693390     1.136749        0.088105   \n",
       "2            -0.251669         -1.011041     0.490223       -0.208383   \n",
       "3             0.095416          0.002200     1.181553       -0.389872   \n",
       "4            -0.047623          0.066189     0.101558       -0.004880   \n",
       "5            -1.089573          0.245994    -0.886129       -0.249302   \n",
       "6            -0.085633         -0.034652     0.414856        4.961768   \n",
       "\n",
       "         chlorides  free sulfur dioxide  total sulfur dioxide   density  \\\n",
       "cluster                                                                   \n",
       "0        -0.072281            -0.407074             -0.411938 -0.079134   \n",
       "1        -0.009025            -0.553275             -0.544598  0.754616   \n",
       "2        -0.342282            -0.104790             -0.389953 -0.958378   \n",
       "3         5.784760            -0.049516              0.510330  0.180072   \n",
       "4        -0.022719             0.958043              1.262494  0.274254   \n",
       "5        -0.443435             0.370418             -0.086119 -1.387437   \n",
       "6         0.296388             1.750191              1.695832  1.225001   \n",
       "\n",
       "               pH  sulphates   alcohol   quality  \n",
       "cluster                                           \n",
       "0        0.424942  -0.416229 -0.431149 -0.462468  \n",
       "1       -0.849338   0.361047  0.205141  0.433548  \n",
       "2        0.063940   0.386363  1.161845  0.997991  \n",
       "3       -1.735792   3.663412 -0.869731 -0.345440  \n",
       "4       -0.155338  -0.201487 -0.601505 -0.459500  \n",
       "5        1.181370  -0.034801  1.347065  0.606708  \n",
       "6       -0.325460  -0.023789 -0.363913 -0.022761  "
      ]
     },
     "metadata": {},
     "output_type": "display_data"
    }
   ],
   "source": [
    "X['cluster'] = km5.labels_\n",
    "display(X.groupby('cluster').mean())"
   ]
  },
  {
   "cell_type": "markdown",
   "id": "d370a7e1",
   "metadata": {},
   "source": [
    "In this analysis with K = 7, the cluster with higher wine quality have higher values associated with just the variable alcohol again. The variable that clusters with lower quality of wine is volatile acidity.\n",
    "\n",
    "According to this analysis, if you want to make a good bottle of wine, alcohol the most important characteristic you should consider."
   ]
  },
  {
   "cell_type": "markdown",
   "id": "9dfd2bc7",
   "metadata": {},
   "source": [
    "### 2. Use Hierarchical Cluster Analysis to identify cluster(s) of observations that have high and low values of the wine quality. (Assume all variables are continuous.) Use complete linkage and the same number of groups that you found to be the most meaningful in question 1.\n",
    "\n",
    "From the plot I found K = 6 or K = 7 to be the most optimal number of clusters. Although the K Means Cluster analysis shows that only the variable alcohol was associated with high quality wine, I went ahead and chose K = 6 for the Hierarchal Cluster Analysis. "
   ]
  },
  {
   "cell_type": "code",
   "execution_count": 23,
   "id": "08ae5745",
   "metadata": {},
   "outputs": [
    {
     "name": "stdout",
     "output_type": "stream",
     "text": [
      "[0 2 0 ... 2 0 0]\n"
     ]
    }
   ],
   "source": [
    "from sklearn.cluster import AgglomerativeClustering\n",
    "\n",
    "np.random.seed(0)\n",
    "ac = AgglomerativeClustering(n_clusters=6,  \n",
    "                             affinity='euclidean', \n",
    "                             linkage='complete')\n",
    "labels = ac.fit_predict(X)    \n",
    "print(labels)"
   ]
  },
  {
   "cell_type": "code",
   "execution_count": 24,
   "id": "67d9fc7b",
   "metadata": {
    "scrolled": true
   },
   "outputs": [
    {
     "data": {
      "text/html": [
       "<div>\n",
       "<style scoped>\n",
       "    .dataframe tbody tr th:only-of-type {\n",
       "        vertical-align: middle;\n",
       "    }\n",
       "\n",
       "    .dataframe tbody tr th {\n",
       "        vertical-align: top;\n",
       "    }\n",
       "\n",
       "    .dataframe thead th {\n",
       "        text-align: right;\n",
       "    }\n",
       "</style>\n",
       "<table border=\"1\" class=\"dataframe\">\n",
       "  <thead>\n",
       "    <tr style=\"text-align: right;\">\n",
       "      <th></th>\n",
       "      <th>fixed acidity</th>\n",
       "      <th>volatile acidity</th>\n",
       "      <th>citric acid</th>\n",
       "      <th>residual sugar</th>\n",
       "      <th>chlorides</th>\n",
       "      <th>free sulfur dioxide</th>\n",
       "      <th>total sulfur dioxide</th>\n",
       "      <th>density</th>\n",
       "      <th>pH</th>\n",
       "      <th>sulphates</th>\n",
       "      <th>alcohol</th>\n",
       "      <th>quality</th>\n",
       "    </tr>\n",
       "    <tr>\n",
       "      <th>cluster</th>\n",
       "      <th></th>\n",
       "      <th></th>\n",
       "      <th></th>\n",
       "      <th></th>\n",
       "      <th></th>\n",
       "      <th></th>\n",
       "      <th></th>\n",
       "      <th></th>\n",
       "      <th></th>\n",
       "      <th></th>\n",
       "      <th></th>\n",
       "      <th></th>\n",
       "    </tr>\n",
       "  </thead>\n",
       "  <tbody>\n",
       "    <tr>\n",
       "      <th>0</th>\n",
       "      <td>0.171315</td>\n",
       "      <td>-0.047872</td>\n",
       "      <td>0.048920</td>\n",
       "      <td>-0.111492</td>\n",
       "      <td>-0.079398</td>\n",
       "      <td>-0.417017</td>\n",
       "      <td>-0.452460</td>\n",
       "      <td>0.076359</td>\n",
       "      <td>-0.063469</td>\n",
       "      <td>-0.016317</td>\n",
       "      <td>0.022824</td>\n",
       "      <td>0.062223</td>\n",
       "    </tr>\n",
       "    <tr>\n",
       "      <th>1</th>\n",
       "      <td>0.027020</td>\n",
       "      <td>-0.115848</td>\n",
       "      <td>1.075490</td>\n",
       "      <td>-0.417745</td>\n",
       "      <td>5.421296</td>\n",
       "      <td>0.027900</td>\n",
       "      <td>0.498926</td>\n",
       "      <td>0.119246</td>\n",
       "      <td>-1.648630</td>\n",
       "      <td>3.664817</td>\n",
       "      <td>-0.874201</td>\n",
       "      <td>-0.271710</td>\n",
       "    </tr>\n",
       "    <tr>\n",
       "      <th>2</th>\n",
       "      <td>-0.354335</td>\n",
       "      <td>0.152127</td>\n",
       "      <td>-0.200631</td>\n",
       "      <td>-0.022978</td>\n",
       "      <td>-0.135150</td>\n",
       "      <td>0.792055</td>\n",
       "      <td>0.837478</td>\n",
       "      <td>-0.183558</td>\n",
       "      <td>0.273154</td>\n",
       "      <td>-0.137403</td>\n",
       "      <td>-0.000973</td>\n",
       "      <td>-0.133866</td>\n",
       "    </tr>\n",
       "    <tr>\n",
       "      <th>3</th>\n",
       "      <td>-0.152521</td>\n",
       "      <td>-0.184515</td>\n",
       "      <td>0.256022</td>\n",
       "      <td>5.666029</td>\n",
       "      <td>0.239815</td>\n",
       "      <td>1.354777</td>\n",
       "      <td>1.133713</td>\n",
       "      <td>1.319948</td>\n",
       "      <td>-0.260984</td>\n",
       "      <td>-0.193163</td>\n",
       "      <td>-0.576955</td>\n",
       "      <td>-0.116876</td>\n",
       "    </tr>\n",
       "    <tr>\n",
       "      <th>4</th>\n",
       "      <td>0.074897</td>\n",
       "      <td>-0.350945</td>\n",
       "      <td>3.127368</td>\n",
       "      <td>0.043416</td>\n",
       "      <td>11.116408</td>\n",
       "      <td>0.394484</td>\n",
       "      <td>0.320274</td>\n",
       "      <td>0.770280</td>\n",
       "      <td>-2.663717</td>\n",
       "      <td>5.735193</td>\n",
       "      <td>-0.960246</td>\n",
       "      <td>-1.407158</td>\n",
       "    </tr>\n",
       "    <tr>\n",
       "      <th>5</th>\n",
       "      <td>-0.611928</td>\n",
       "      <td>-1.369208</td>\n",
       "      <td>0.643873</td>\n",
       "      <td>0.243360</td>\n",
       "      <td>-0.823354</td>\n",
       "      <td>2.128879</td>\n",
       "      <td>3.001792</td>\n",
       "      <td>-2.543751</td>\n",
       "      <td>-1.255946</td>\n",
       "      <td>-1.019122</td>\n",
       "      <td>1.194434</td>\n",
       "      <td>1.013881</td>\n",
       "    </tr>\n",
       "  </tbody>\n",
       "</table>\n",
       "</div>"
      ],
      "text/plain": [
       "         fixed acidity  volatile acidity  citric acid  residual sugar  \\\n",
       "cluster                                                                 \n",
       "0             0.171315         -0.047872     0.048920       -0.111492   \n",
       "1             0.027020         -0.115848     1.075490       -0.417745   \n",
       "2            -0.354335          0.152127    -0.200631       -0.022978   \n",
       "3            -0.152521         -0.184515     0.256022        5.666029   \n",
       "4             0.074897         -0.350945     3.127368        0.043416   \n",
       "5            -0.611928         -1.369208     0.643873        0.243360   \n",
       "\n",
       "         chlorides  free sulfur dioxide  total sulfur dioxide   density  \\\n",
       "cluster                                                                   \n",
       "0        -0.079398            -0.417017             -0.452460  0.076359   \n",
       "1         5.421296             0.027900              0.498926  0.119246   \n",
       "2        -0.135150             0.792055              0.837478 -0.183558   \n",
       "3         0.239815             1.354777              1.133713  1.319948   \n",
       "4        11.116408             0.394484              0.320274  0.770280   \n",
       "5        -0.823354             2.128879              3.001792 -2.543751   \n",
       "\n",
       "               pH  sulphates   alcohol   quality  \n",
       "cluster                                           \n",
       "0       -0.063469  -0.016317  0.022824  0.062223  \n",
       "1       -1.648630   3.664817 -0.874201 -0.271710  \n",
       "2        0.273154  -0.137403 -0.000973 -0.133866  \n",
       "3       -0.260984  -0.193163 -0.576955 -0.116876  \n",
       "4       -2.663717   5.735193 -0.960246 -1.407158  \n",
       "5       -1.255946  -1.019122  1.194434  1.013881  "
      ]
     },
     "metadata": {},
     "output_type": "display_data"
    }
   ],
   "source": [
    "X['cluster'] = labels\n",
    "display(X.groupby('cluster').mean())"
   ]
  },
  {
   "cell_type": "markdown",
   "id": "ad81c16c",
   "metadata": {},
   "source": [
    "### Describe variables that cluster with higher values of wine quality. Describe variables that cluster with lower values of wine quality.\n",
    "\n",
    "From this Hierarchal Cluster analysis, I found that the variables free sulfur dioxide, total sulfur dioxide, and alcohol cluster with higher values of wine quality. The variables that cluster with lower values of wine quality are citric acid, chlorides, density, and sulphates."
   ]
  },
  {
   "cell_type": "markdown",
   "id": "441c9910",
   "metadata": {},
   "source": [
    "### If you want to make a good bottle of wine, then what characteristics are most important according to this analysis? Have your conclusions changed using Hierarchical clustering rather than k means clustering? Present any figures that assist you in your analysis.\n",
    "\n",
    "According to this analysis, if you want to make a good bottle of wine then free sulfur dioxide, total sulfur dioxide, and alcohol are the most important characteristics. In comparison to the K Means Clustering analysis, the Hierarchal Clustering analysis found that additional to alcohol, free sulfur dioxide and total sulfur dioxide are also important determinants of high wine quality. "
   ]
  },
  {
   "cell_type": "markdown",
   "id": "be0bbd68",
   "metadata": {},
   "source": [
    "### 3. Use Principal Components Analysis to reduce the dimensions of your data.  "
   ]
  },
  {
   "cell_type": "code",
   "execution_count": 25,
   "id": "68fae1e1",
   "metadata": {},
   "outputs": [
    {
     "data": {
      "text/plain": [
       "fixed acidity            8.319637\n",
       "volatile acidity         0.527821\n",
       "citric acid              0.270976\n",
       "residual sugar           2.538806\n",
       "chlorides                0.087467\n",
       "free sulfur dioxide     15.874922\n",
       "total sulfur dioxide    46.467792\n",
       "density                  0.996747\n",
       "pH                       3.311113\n",
       "sulphates                0.658149\n",
       "alcohol                 10.422983\n",
       "quality                  5.636023\n",
       "dtype: float64"
      ]
     },
     "execution_count": 25,
     "metadata": {},
     "output_type": "execute_result"
    }
   ],
   "source": [
    "data.mean()"
   ]
  },
  {
   "cell_type": "code",
   "execution_count": 26,
   "id": "27a920d0",
   "metadata": {
    "scrolled": true
   },
   "outputs": [
    {
     "data": {
      "text/plain": [
       "fixed acidity              3.031416\n",
       "volatile acidity           0.032062\n",
       "citric acid                0.037947\n",
       "residual sugar             1.987897\n",
       "chlorides                  0.002215\n",
       "free sulfur dioxide      109.414884\n",
       "total sulfur dioxide    1082.102373\n",
       "density                    0.000004\n",
       "pH                         0.023835\n",
       "sulphates                  0.028733\n",
       "alcohol                    1.135647\n",
       "quality                    0.652168\n",
       "dtype: float64"
      ]
     },
     "execution_count": 26,
     "metadata": {},
     "output_type": "execute_result"
    }
   ],
   "source": [
    "data.var()"
   ]
  },
  {
   "cell_type": "code",
   "execution_count": 27,
   "id": "36882e64",
   "metadata": {},
   "outputs": [
    {
     "data": {
      "text/plain": [
       "array([[ 0.48788336, -0.00417321, -0.16482854, -0.23109808, -0.07877938,\n",
       "         0.0555313 , -0.30721496,  0.20052866, -0.17457815, -0.18295601,\n",
       "        -0.25643792,  0.63857976],\n",
       "       [-0.26512898,  0.33896786, -0.22708884,  0.04185824,  0.29937933,\n",
       "         0.297287  , -0.62623369,  0.14612614, -0.06022334,  0.15510563,\n",
       "         0.37716123,  0.00466168],\n",
       "       [ 0.47333547, -0.1373581 ,  0.10022856, -0.0567358 , -0.12014871,\n",
       "         0.13663328,  0.24414858,  0.29633271, -0.22097505,  0.34608556,\n",
       "         0.62432783, -0.07003691],\n",
       "       [ 0.13915442,  0.16773634,  0.24362014, -0.38303758,  0.70936319,\n",
       "         0.10931059,  0.28385429, -0.17062614,  0.27818728, -0.05223656,\n",
       "         0.08807787,  0.18364637],\n",
       "       [ 0.19742679,  0.18978819, -0.02660785,  0.65477782,  0.26623723,\n",
       "         0.33733656,  0.23054697, -0.18692254, -0.41993639, -0.00386273,\n",
       "        -0.20861667,  0.05393118],\n",
       "       [-0.04588071,  0.25948314,  0.61611132, -0.03371148, -0.15941286,\n",
       "        -0.04264807, -0.13826041, -0.01935607, -0.31800012, -0.58538858,\n",
       "         0.23793317, -0.05192167],\n",
       "       [ 0.00406675,  0.36397137,  0.54073214, -0.02845973, -0.21845284,\n",
       "         0.1159536 , -0.11020865,  0.08989655,  0.12182276,  0.58918824,\n",
       "        -0.35504684,  0.06979295],\n",
       "       [ 0.37030119,  0.33078079, -0.16872267, -0.20069341,  0.20879298,\n",
       "        -0.42566742, -0.12254646,  0.07950023, -0.24907449,  0.0435381 ,\n",
       "        -0.23145306, -0.56664499],\n",
       "       [-0.43272085, -0.06544015,  0.06977056, -0.00546618,  0.25764682,\n",
       "        -0.48035396,  0.18569166,  0.31469303, -0.46191598,  0.20760989,\n",
       "        -0.00559907,  0.34123006],\n",
       "       [ 0.25453535, -0.10933362,  0.21291324,  0.56050237,  0.21483493,\n",
       "        -0.40374303, -0.23340206,  0.27549158,  0.45268884, -0.07191857,\n",
       "         0.09763703,  0.06779298],\n",
       "       [-0.07317678, -0.50270865,  0.22497138, -0.09170143,  0.25972635,\n",
       "         0.39217625, -0.12171879,  0.47118865, -0.09652795, -0.11060525,\n",
       "        -0.3199487 , -0.31764032],\n",
       "       [ 0.11248878, -0.47316621,  0.22336929, -0.03666923,  0.13758414,\n",
       "        -0.14183046, -0.41238785, -0.61224719, -0.24024309,  0.26023979,\n",
       "         0.05246571,  0.00847048]])"
      ]
     },
     "execution_count": 27,
     "metadata": {},
     "output_type": "execute_result"
    }
   ],
   "source": [
    "from sklearn.decomposition import PCA\n",
    "\n",
    "X = pd.DataFrame(scale(data), index=data.index, columns=data.columns) ## scale\n",
    "PCA().fit(X).components_.T"
   ]
  },
  {
   "cell_type": "code",
   "execution_count": 28,
   "id": "06e14507",
   "metadata": {
    "scrolled": true
   },
   "outputs": [
    {
     "data": {
      "text/html": [
       "<div>\n",
       "<style scoped>\n",
       "    .dataframe tbody tr th:only-of-type {\n",
       "        vertical-align: middle;\n",
       "    }\n",
       "\n",
       "    .dataframe tbody tr th {\n",
       "        vertical-align: top;\n",
       "    }\n",
       "\n",
       "    .dataframe thead th {\n",
       "        text-align: right;\n",
       "    }\n",
       "</style>\n",
       "<table border=\"1\" class=\"dataframe\">\n",
       "  <thead>\n",
       "    <tr style=\"text-align: right;\">\n",
       "      <th></th>\n",
       "      <th>V1</th>\n",
       "      <th>V2</th>\n",
       "      <th>V3</th>\n",
       "      <th>V4</th>\n",
       "      <th>V5</th>\n",
       "      <th>V6</th>\n",
       "      <th>V7</th>\n",
       "      <th>V8</th>\n",
       "      <th>V9</th>\n",
       "      <th>V10</th>\n",
       "      <th>V11</th>\n",
       "      <th>V12</th>\n",
       "    </tr>\n",
       "  </thead>\n",
       "  <tbody>\n",
       "    <tr>\n",
       "      <th>fixed acidity</th>\n",
       "      <td>0.487883</td>\n",
       "      <td>-0.004173</td>\n",
       "      <td>-0.164829</td>\n",
       "      <td>-0.231098</td>\n",
       "      <td>-0.078779</td>\n",
       "      <td>0.055531</td>\n",
       "      <td>-0.307215</td>\n",
       "      <td>0.200529</td>\n",
       "      <td>-0.174578</td>\n",
       "      <td>-0.182956</td>\n",
       "      <td>-0.256438</td>\n",
       "      <td>0.638580</td>\n",
       "    </tr>\n",
       "    <tr>\n",
       "      <th>volatile acidity</th>\n",
       "      <td>-0.265129</td>\n",
       "      <td>0.338968</td>\n",
       "      <td>-0.227089</td>\n",
       "      <td>0.041858</td>\n",
       "      <td>0.299379</td>\n",
       "      <td>0.297287</td>\n",
       "      <td>-0.626234</td>\n",
       "      <td>0.146126</td>\n",
       "      <td>-0.060223</td>\n",
       "      <td>0.155106</td>\n",
       "      <td>0.377161</td>\n",
       "      <td>0.004662</td>\n",
       "    </tr>\n",
       "    <tr>\n",
       "      <th>citric acid</th>\n",
       "      <td>0.473335</td>\n",
       "      <td>-0.137358</td>\n",
       "      <td>0.100229</td>\n",
       "      <td>-0.056736</td>\n",
       "      <td>-0.120149</td>\n",
       "      <td>0.136633</td>\n",
       "      <td>0.244149</td>\n",
       "      <td>0.296333</td>\n",
       "      <td>-0.220975</td>\n",
       "      <td>0.346086</td>\n",
       "      <td>0.624328</td>\n",
       "      <td>-0.070037</td>\n",
       "    </tr>\n",
       "    <tr>\n",
       "      <th>residual sugar</th>\n",
       "      <td>0.139154</td>\n",
       "      <td>0.167736</td>\n",
       "      <td>0.243620</td>\n",
       "      <td>-0.383038</td>\n",
       "      <td>0.709363</td>\n",
       "      <td>0.109311</td>\n",
       "      <td>0.283854</td>\n",
       "      <td>-0.170626</td>\n",
       "      <td>0.278187</td>\n",
       "      <td>-0.052237</td>\n",
       "      <td>0.088078</td>\n",
       "      <td>0.183646</td>\n",
       "    </tr>\n",
       "    <tr>\n",
       "      <th>chlorides</th>\n",
       "      <td>0.197427</td>\n",
       "      <td>0.189788</td>\n",
       "      <td>-0.026608</td>\n",
       "      <td>0.654778</td>\n",
       "      <td>0.266237</td>\n",
       "      <td>0.337337</td>\n",
       "      <td>0.230547</td>\n",
       "      <td>-0.186923</td>\n",
       "      <td>-0.419936</td>\n",
       "      <td>-0.003863</td>\n",
       "      <td>-0.208617</td>\n",
       "      <td>0.053931</td>\n",
       "    </tr>\n",
       "    <tr>\n",
       "      <th>free sulfur dioxide</th>\n",
       "      <td>-0.045881</td>\n",
       "      <td>0.259483</td>\n",
       "      <td>0.616111</td>\n",
       "      <td>-0.033711</td>\n",
       "      <td>-0.159413</td>\n",
       "      <td>-0.042648</td>\n",
       "      <td>-0.138260</td>\n",
       "      <td>-0.019356</td>\n",
       "      <td>-0.318000</td>\n",
       "      <td>-0.585389</td>\n",
       "      <td>0.237933</td>\n",
       "      <td>-0.051922</td>\n",
       "    </tr>\n",
       "    <tr>\n",
       "      <th>total sulfur dioxide</th>\n",
       "      <td>0.004067</td>\n",
       "      <td>0.363971</td>\n",
       "      <td>0.540732</td>\n",
       "      <td>-0.028460</td>\n",
       "      <td>-0.218453</td>\n",
       "      <td>0.115954</td>\n",
       "      <td>-0.110209</td>\n",
       "      <td>0.089897</td>\n",
       "      <td>0.121823</td>\n",
       "      <td>0.589188</td>\n",
       "      <td>-0.355047</td>\n",
       "      <td>0.069793</td>\n",
       "    </tr>\n",
       "    <tr>\n",
       "      <th>density</th>\n",
       "      <td>0.370301</td>\n",
       "      <td>0.330781</td>\n",
       "      <td>-0.168723</td>\n",
       "      <td>-0.200693</td>\n",
       "      <td>0.208793</td>\n",
       "      <td>-0.425667</td>\n",
       "      <td>-0.122546</td>\n",
       "      <td>0.079500</td>\n",
       "      <td>-0.249074</td>\n",
       "      <td>0.043538</td>\n",
       "      <td>-0.231453</td>\n",
       "      <td>-0.566645</td>\n",
       "    </tr>\n",
       "    <tr>\n",
       "      <th>pH</th>\n",
       "      <td>-0.432721</td>\n",
       "      <td>-0.065440</td>\n",
       "      <td>0.069771</td>\n",
       "      <td>-0.005466</td>\n",
       "      <td>0.257647</td>\n",
       "      <td>-0.480354</td>\n",
       "      <td>0.185692</td>\n",
       "      <td>0.314693</td>\n",
       "      <td>-0.461916</td>\n",
       "      <td>0.207610</td>\n",
       "      <td>-0.005599</td>\n",
       "      <td>0.341230</td>\n",
       "    </tr>\n",
       "    <tr>\n",
       "      <th>sulphates</th>\n",
       "      <td>0.254535</td>\n",
       "      <td>-0.109334</td>\n",
       "      <td>0.212913</td>\n",
       "      <td>0.560502</td>\n",
       "      <td>0.214835</td>\n",
       "      <td>-0.403743</td>\n",
       "      <td>-0.233402</td>\n",
       "      <td>0.275492</td>\n",
       "      <td>0.452689</td>\n",
       "      <td>-0.071919</td>\n",
       "      <td>0.097637</td>\n",
       "      <td>0.067793</td>\n",
       "    </tr>\n",
       "    <tr>\n",
       "      <th>alcohol</th>\n",
       "      <td>-0.073177</td>\n",
       "      <td>-0.502709</td>\n",
       "      <td>0.224971</td>\n",
       "      <td>-0.091701</td>\n",
       "      <td>0.259726</td>\n",
       "      <td>0.392176</td>\n",
       "      <td>-0.121719</td>\n",
       "      <td>0.471189</td>\n",
       "      <td>-0.096528</td>\n",
       "      <td>-0.110605</td>\n",
       "      <td>-0.319949</td>\n",
       "      <td>-0.317640</td>\n",
       "    </tr>\n",
       "    <tr>\n",
       "      <th>quality</th>\n",
       "      <td>0.112489</td>\n",
       "      <td>-0.473166</td>\n",
       "      <td>0.223369</td>\n",
       "      <td>-0.036669</td>\n",
       "      <td>0.137584</td>\n",
       "      <td>-0.141830</td>\n",
       "      <td>-0.412388</td>\n",
       "      <td>-0.612247</td>\n",
       "      <td>-0.240243</td>\n",
       "      <td>0.260240</td>\n",
       "      <td>0.052466</td>\n",
       "      <td>0.008470</td>\n",
       "    </tr>\n",
       "  </tbody>\n",
       "</table>\n",
       "</div>"
      ],
      "text/plain": [
       "                            V1        V2        V3        V4        V5  \\\n",
       "fixed acidity         0.487883 -0.004173 -0.164829 -0.231098 -0.078779   \n",
       "volatile acidity     -0.265129  0.338968 -0.227089  0.041858  0.299379   \n",
       "citric acid           0.473335 -0.137358  0.100229 -0.056736 -0.120149   \n",
       "residual sugar        0.139154  0.167736  0.243620 -0.383038  0.709363   \n",
       "chlorides             0.197427  0.189788 -0.026608  0.654778  0.266237   \n",
       "free sulfur dioxide  -0.045881  0.259483  0.616111 -0.033711 -0.159413   \n",
       "total sulfur dioxide  0.004067  0.363971  0.540732 -0.028460 -0.218453   \n",
       "density               0.370301  0.330781 -0.168723 -0.200693  0.208793   \n",
       "pH                   -0.432721 -0.065440  0.069771 -0.005466  0.257647   \n",
       "sulphates             0.254535 -0.109334  0.212913  0.560502  0.214835   \n",
       "alcohol              -0.073177 -0.502709  0.224971 -0.091701  0.259726   \n",
       "quality               0.112489 -0.473166  0.223369 -0.036669  0.137584   \n",
       "\n",
       "                            V6        V7        V8        V9       V10  \\\n",
       "fixed acidity         0.055531 -0.307215  0.200529 -0.174578 -0.182956   \n",
       "volatile acidity      0.297287 -0.626234  0.146126 -0.060223  0.155106   \n",
       "citric acid           0.136633  0.244149  0.296333 -0.220975  0.346086   \n",
       "residual sugar        0.109311  0.283854 -0.170626  0.278187 -0.052237   \n",
       "chlorides             0.337337  0.230547 -0.186923 -0.419936 -0.003863   \n",
       "free sulfur dioxide  -0.042648 -0.138260 -0.019356 -0.318000 -0.585389   \n",
       "total sulfur dioxide  0.115954 -0.110209  0.089897  0.121823  0.589188   \n",
       "density              -0.425667 -0.122546  0.079500 -0.249074  0.043538   \n",
       "pH                   -0.480354  0.185692  0.314693 -0.461916  0.207610   \n",
       "sulphates            -0.403743 -0.233402  0.275492  0.452689 -0.071919   \n",
       "alcohol               0.392176 -0.121719  0.471189 -0.096528 -0.110605   \n",
       "quality              -0.141830 -0.412388 -0.612247 -0.240243  0.260240   \n",
       "\n",
       "                           V11       V12  \n",
       "fixed acidity        -0.256438  0.638580  \n",
       "volatile acidity      0.377161  0.004662  \n",
       "citric acid           0.624328 -0.070037  \n",
       "residual sugar        0.088078  0.183646  \n",
       "chlorides            -0.208617  0.053931  \n",
       "free sulfur dioxide   0.237933 -0.051922  \n",
       "total sulfur dioxide -0.355047  0.069793  \n",
       "density              -0.231453 -0.566645  \n",
       "pH                   -0.005599  0.341230  \n",
       "sulphates             0.097637  0.067793  \n",
       "alcohol              -0.319949 -0.317640  \n",
       "quality               0.052466  0.008470  "
      ]
     },
     "execution_count": 28,
     "metadata": {},
     "output_type": "execute_result"
    }
   ],
   "source": [
    "## loading vectors\n",
    "pca_loadings = pd.DataFrame(PCA().fit(X).components_.T, index=data.columns, columns=['V1', 'V2', 'V3', 'V4', 'V5', 'V6', 'V7', 'V8', 'V9', 'V10', 'V11', 'V12'])\n",
    "pca_loadings"
   ]
  },
  {
   "cell_type": "code",
   "execution_count": 29,
   "id": "97d0ea56",
   "metadata": {
    "scrolled": false
   },
   "outputs": [
    {
     "data": {
      "text/html": [
       "<div>\n",
       "<style scoped>\n",
       "    .dataframe tbody tr th:only-of-type {\n",
       "        vertical-align: middle;\n",
       "    }\n",
       "\n",
       "    .dataframe tbody tr th {\n",
       "        vertical-align: top;\n",
       "    }\n",
       "\n",
       "    .dataframe thead th {\n",
       "        text-align: right;\n",
       "    }\n",
       "</style>\n",
       "<table border=\"1\" class=\"dataframe\">\n",
       "  <thead>\n",
       "    <tr style=\"text-align: right;\">\n",
       "      <th></th>\n",
       "      <th>PC1</th>\n",
       "      <th>PC2</th>\n",
       "      <th>PC3</th>\n",
       "      <th>PC4</th>\n",
       "      <th>PC5</th>\n",
       "      <th>PC6</th>\n",
       "      <th>PC7</th>\n",
       "      <th>PC8</th>\n",
       "      <th>PC9</th>\n",
       "      <th>PC10</th>\n",
       "      <th>PC11</th>\n",
       "      <th>PC12</th>\n",
       "    </tr>\n",
       "  </thead>\n",
       "  <tbody>\n",
       "    <tr>\n",
       "      <th>0</th>\n",
       "      <td>-1.779442</td>\n",
       "      <td>1.157303</td>\n",
       "      <td>-1.386581</td>\n",
       "      <td>-0.044944</td>\n",
       "      <td>0.233885</td>\n",
       "      <td>-0.976983</td>\n",
       "      <td>-0.110528</td>\n",
       "      <td>0.040320</td>\n",
       "      <td>-0.294420</td>\n",
       "      <td>0.073112</td>\n",
       "      <td>-0.262937</td>\n",
       "      <td>0.048362</td>\n",
       "    </tr>\n",
       "    <tr>\n",
       "      <th>1</th>\n",
       "      <td>-1.004185</td>\n",
       "      <td>2.071838</td>\n",
       "      <td>0.007759</td>\n",
       "      <td>0.466119</td>\n",
       "      <td>0.182454</td>\n",
       "      <td>0.657775</td>\n",
       "      <td>-1.376790</td>\n",
       "      <td>-0.176714</td>\n",
       "      <td>0.587342</td>\n",
       "      <td>-0.565736</td>\n",
       "      <td>0.048784</td>\n",
       "      <td>-0.139565</td>\n",
       "    </tr>\n",
       "    <tr>\n",
       "      <th>2</th>\n",
       "      <td>-0.915783</td>\n",
       "      <td>1.393434</td>\n",
       "      <td>-0.699286</td>\n",
       "      <td>0.345292</td>\n",
       "      <td>0.095210</td>\n",
       "      <td>0.254823</td>\n",
       "      <td>-0.720338</td>\n",
       "      <td>-0.088687</td>\n",
       "      <td>0.546495</td>\n",
       "      <td>-0.162065</td>\n",
       "      <td>-0.199140</td>\n",
       "      <td>-0.120391</td>\n",
       "    </tr>\n",
       "    <tr>\n",
       "      <th>3</th>\n",
       "      <td>2.404077</td>\n",
       "      <td>-0.213792</td>\n",
       "      <td>0.066381</td>\n",
       "      <td>-0.889182</td>\n",
       "      <td>-1.524742</td>\n",
       "      <td>-0.132218</td>\n",
       "      <td>0.200660</td>\n",
       "      <td>-0.202816</td>\n",
       "      <td>-0.506212</td>\n",
       "      <td>0.241135</td>\n",
       "      <td>-0.107616</td>\n",
       "      <td>0.319764</td>\n",
       "    </tr>\n",
       "    <tr>\n",
       "      <th>4</th>\n",
       "      <td>-1.779442</td>\n",
       "      <td>1.157303</td>\n",
       "      <td>-1.386581</td>\n",
       "      <td>-0.044944</td>\n",
       "      <td>0.233885</td>\n",
       "      <td>-0.976983</td>\n",
       "      <td>-0.110528</td>\n",
       "      <td>0.040320</td>\n",
       "      <td>-0.294420</td>\n",
       "      <td>0.073112</td>\n",
       "      <td>-0.262937</td>\n",
       "      <td>0.048362</td>\n",
       "    </tr>\n",
       "  </tbody>\n",
       "</table>\n",
       "</div>"
      ],
      "text/plain": [
       "        PC1       PC2       PC3       PC4       PC5       PC6       PC7  \\\n",
       "0 -1.779442  1.157303 -1.386581 -0.044944  0.233885 -0.976983 -0.110528   \n",
       "1 -1.004185  2.071838  0.007759  0.466119  0.182454  0.657775 -1.376790   \n",
       "2 -0.915783  1.393434 -0.699286  0.345292  0.095210  0.254823 -0.720338   \n",
       "3  2.404077 -0.213792  0.066381 -0.889182 -1.524742 -0.132218  0.200660   \n",
       "4 -1.779442  1.157303 -1.386581 -0.044944  0.233885 -0.976983 -0.110528   \n",
       "\n",
       "        PC8       PC9      PC10      PC11      PC12  \n",
       "0  0.040320 -0.294420  0.073112 -0.262937  0.048362  \n",
       "1 -0.176714  0.587342 -0.565736  0.048784 -0.139565  \n",
       "2 -0.088687  0.546495 -0.162065 -0.199140 -0.120391  \n",
       "3 -0.202816 -0.506212  0.241135 -0.107616  0.319764  \n",
       "4  0.040320 -0.294420  0.073112 -0.262937  0.048362  "
      ]
     },
     "execution_count": 29,
     "metadata": {},
     "output_type": "execute_result"
    }
   ],
   "source": [
    "## fit the PCA model and transform X to get the principal components\n",
    "pca = PCA()\n",
    "df_plot = pd.DataFrame(pca.fit_transform(X), columns=['PC1', 'PC2', 'PC3', 'PC4', 'PC5', 'PC6', 'PC7', 'PC8', 'PC9', 'PC10', 'PC11', 'PC12'], index=X.index)\n",
    "df_plot.head()"
   ]
  },
  {
   "cell_type": "code",
   "execution_count": 30,
   "id": "747f3a44",
   "metadata": {
    "scrolled": true
   },
   "outputs": [
    {
     "data": {
      "text/plain": [
       "array([1.76723537, 1.49775999, 1.29767979, 1.10262469, 0.98684987,\n",
       "       0.81425235, 0.78657786, 0.71146969, 0.64153326, 0.57282161,\n",
       "       0.42465446, 0.24403926])"
      ]
     },
     "execution_count": 30,
     "metadata": {},
     "output_type": "execute_result"
    }
   ],
   "source": [
    "## standard deviation of the four principal components\n",
    "np.sqrt(pca.explained_variance_)"
   ]
  },
  {
   "cell_type": "code",
   "execution_count": 31,
   "id": "8620d6ff",
   "metadata": {},
   "outputs": [
    {
     "data": {
      "text/plain": [
       "array([3.12312087, 2.24328497, 1.68397283, 1.21578121, 0.97387267,\n",
       "       0.66300688, 0.61870473, 0.50618912, 0.41156493, 0.3281246 ,\n",
       "       0.18033141, 0.05955516])"
      ]
     },
     "execution_count": 31,
     "metadata": {},
     "output_type": "execute_result"
    }
   ],
   "source": [
    "## raw explained variance\n",
    "pca.explained_variance_ "
   ]
  },
  {
   "cell_type": "code",
   "execution_count": 32,
   "id": "e99ceade",
   "metadata": {},
   "outputs": [
    {
     "data": {
      "text/plain": [
       "array([0.26009731, 0.1868235 , 0.14024331, 0.10125174, 0.0811053 ,\n",
       "       0.05521602, 0.05152648, 0.04215605, 0.03427563, 0.02732662,\n",
       "       0.01501822, 0.00495983])"
      ]
     },
     "execution_count": 32,
     "metadata": {},
     "output_type": "execute_result"
    }
   ],
   "source": [
    "## explained variance ratio\n",
    "pca.explained_variance_ratio_ "
   ]
  },
  {
   "cell_type": "code",
   "execution_count": 33,
   "id": "1cebf0a7",
   "metadata": {
    "scrolled": true
   },
   "outputs": [
    {
     "data": {
      "image/png": "[encoded data removed]",
      "text/plain": [
       "<Figure size 504x360 with 1 Axes>"
      ]
     },
     "metadata": {},
     "output_type": "display_data"
    }
   ],
   "source": [
    "## plot\n",
    "plt.figure(figsize=(7,5))\n",
    "\n",
    "plt.plot([1,2,3,4,5,6,7,8,9,10,11,12], pca.explained_variance_ratio_, '-o', label='Individual component')\n",
    "plt.plot([1,2,3,4,5,6,7,8,9,10,11,12], np.cumsum(pca.explained_variance_ratio_), '-s', label='Cumulative')\n",
    "\n",
    "plt.ylabel('Proportion of Variance Explained')\n",
    "plt.xlabel('Principal Component')\n",
    "plt.xlim(0,12)\n",
    "plt.ylim(0,1)\n",
    "plt.xticks([1,2,3,4,5,6,7,8,9,10,11,12])\n",
    "plt.legend(loc=2);\n",
    "\n",
    "## want orange cumulative amount (PCA explained variance ratio)\n",
    "## blue line is the raw amount (Individual component)"
   ]
  },
  {
   "cell_type": "markdown",
   "id": "3a4fa73d",
   "metadata": {},
   "source": [
    "### How much of the variation in your data is explained by the first two principal components.\n",
    "The first two principal components explains about 45% of the variation in the data."
   ]
  },
  {
   "cell_type": "markdown",
   "id": "84d58d95",
   "metadata": {},
   "source": [
    "### How might you use the first two components to do supervised learning on some other variable tied to wine (e.g. - wine price)?\n",
    "\n"
   ]
  }
 ],
 "metadata": {
  "kernelspec": {
   "display_name": "Python 3",
   "language": "python",
   "name": "python3"
  },
  "language_info": {
   "codemirror_mode": {
    "name": "ipython",
    "version": 3
   },
   "file_extension": ".py",
   "mimetype": "text/x-python",
   "name": "python",
   "nbconvert_exporter": "python",
   "pygments_lexer": "ipython3",
   "version": "3.8.8"
  }
 },
 "nbformat": 4,
 "nbformat_minor": 5
}
